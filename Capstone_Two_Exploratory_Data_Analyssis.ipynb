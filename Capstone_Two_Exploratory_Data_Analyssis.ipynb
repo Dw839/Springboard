{
 "cells": [
  {
   "cell_type": "code",
   "execution_count": 1,
   "id": "45d00645",
   "metadata": {},
   "outputs": [],
   "source": [
    "# Import Dependencies\n",
    "%matplotlib inline\n",
    "\n",
    "# Begin Python Imports\n",
    "import datetime, warnings, scipy\n",
    "warnings.filterwarnings(\"ignore\")\n",
    "\n",
    "# Data Manipulation\n",
    "import numpy as np\n",
    "import pandas as pd\n",
    "pd.set_option('display.max_columns', None)\n",
    "\n",
    "# Visualization \n",
    "import matplotlib.pyplot as plt\n",
    "import seaborn as sns\n",
    "plt.style.use('seaborn-whitegrid')"
   ]
  },
  {
   "cell_type": "code",
   "execution_count": 2,
   "id": "98a81d89",
   "metadata": {},
   "outputs": [],
   "source": [
    "# IMPORT DATA \n",
    "\n",
    "# Read 2016 airport data \n",
    "flight_data = pd.read_csv('2016.csv')"
   ]
  },
  {
   "cell_type": "code",
   "execution_count": 3,
   "id": "8f46992d",
   "metadata": {},
   "outputs": [
    {
     "data": {
      "text/html": [
       "<div>\n",
       "<style scoped>\n",
       "    .dataframe tbody tr th:only-of-type {\n",
       "        vertical-align: middle;\n",
       "    }\n",
       "\n",
       "    .dataframe tbody tr th {\n",
       "        vertical-align: top;\n",
       "    }\n",
       "\n",
       "    .dataframe thead th {\n",
       "        text-align: right;\n",
       "    }\n",
       "</style>\n",
       "<table border=\"1\" class=\"dataframe\">\n",
       "  <thead>\n",
       "    <tr style=\"text-align: right;\">\n",
       "      <th></th>\n",
       "      <th>FL_DATE</th>\n",
       "      <th>OP_CARRIER</th>\n",
       "      <th>OP_CARRIER_FL_NUM</th>\n",
       "      <th>ORIGIN</th>\n",
       "      <th>DEST</th>\n",
       "      <th>CRS_DEP_TIME</th>\n",
       "      <th>DEP_TIME</th>\n",
       "      <th>DEP_DELAY</th>\n",
       "      <th>TAXI_OUT</th>\n",
       "      <th>WHEELS_OFF</th>\n",
       "      <th>WHEELS_ON</th>\n",
       "      <th>TAXI_IN</th>\n",
       "      <th>CRS_ARR_TIME</th>\n",
       "      <th>ARR_TIME</th>\n",
       "      <th>ARR_DELAY</th>\n",
       "      <th>CANCELLED</th>\n",
       "      <th>CANCELLATION_CODE</th>\n",
       "      <th>DIVERTED</th>\n",
       "      <th>CRS_ELAPSED_TIME</th>\n",
       "      <th>ACTUAL_ELAPSED_TIME</th>\n",
       "      <th>AIR_TIME</th>\n",
       "      <th>DISTANCE</th>\n",
       "      <th>CARRIER_DELAY</th>\n",
       "      <th>WEATHER_DELAY</th>\n",
       "      <th>NAS_DELAY</th>\n",
       "      <th>SECURITY_DELAY</th>\n",
       "      <th>LATE_AIRCRAFT_DELAY</th>\n",
       "      <th>Unnamed: 27</th>\n",
       "    </tr>\n",
       "  </thead>\n",
       "  <tbody>\n",
       "    <tr>\n",
       "      <th>0</th>\n",
       "      <td>2016-01-01</td>\n",
       "      <td>DL</td>\n",
       "      <td>1248</td>\n",
       "      <td>DTW</td>\n",
       "      <td>LAX</td>\n",
       "      <td>1935</td>\n",
       "      <td>1935.0</td>\n",
       "      <td>0.0</td>\n",
       "      <td>23.0</td>\n",
       "      <td>1958.0</td>\n",
       "      <td>2107.0</td>\n",
       "      <td>13.0</td>\n",
       "      <td>2144</td>\n",
       "      <td>2120.0</td>\n",
       "      <td>-24.0</td>\n",
       "      <td>0.0</td>\n",
       "      <td>NaN</td>\n",
       "      <td>0.0</td>\n",
       "      <td>309.0</td>\n",
       "      <td>285.0</td>\n",
       "      <td>249.0</td>\n",
       "      <td>1979.0</td>\n",
       "      <td>NaN</td>\n",
       "      <td>NaN</td>\n",
       "      <td>NaN</td>\n",
       "      <td>NaN</td>\n",
       "      <td>NaN</td>\n",
       "      <td>NaN</td>\n",
       "    </tr>\n",
       "    <tr>\n",
       "      <th>1</th>\n",
       "      <td>2016-01-01</td>\n",
       "      <td>DL</td>\n",
       "      <td>1251</td>\n",
       "      <td>ATL</td>\n",
       "      <td>GRR</td>\n",
       "      <td>2125</td>\n",
       "      <td>2130.0</td>\n",
       "      <td>5.0</td>\n",
       "      <td>13.0</td>\n",
       "      <td>2143.0</td>\n",
       "      <td>2315.0</td>\n",
       "      <td>4.0</td>\n",
       "      <td>2321</td>\n",
       "      <td>2319.0</td>\n",
       "      <td>-2.0</td>\n",
       "      <td>0.0</td>\n",
       "      <td>NaN</td>\n",
       "      <td>0.0</td>\n",
       "      <td>116.0</td>\n",
       "      <td>109.0</td>\n",
       "      <td>92.0</td>\n",
       "      <td>640.0</td>\n",
       "      <td>NaN</td>\n",
       "      <td>NaN</td>\n",
       "      <td>NaN</td>\n",
       "      <td>NaN</td>\n",
       "      <td>NaN</td>\n",
       "      <td>NaN</td>\n",
       "    </tr>\n",
       "    <tr>\n",
       "      <th>5617656</th>\n",
       "      <td>2016-12-31</td>\n",
       "      <td>NK</td>\n",
       "      <td>124</td>\n",
       "      <td>RSW</td>\n",
       "      <td>ORD</td>\n",
       "      <td>1704</td>\n",
       "      <td>1711.0</td>\n",
       "      <td>7.0</td>\n",
       "      <td>9.0</td>\n",
       "      <td>1720.0</td>\n",
       "      <td>1854.0</td>\n",
       "      <td>7.0</td>\n",
       "      <td>1907</td>\n",
       "      <td>1901.0</td>\n",
       "      <td>-6.0</td>\n",
       "      <td>0.0</td>\n",
       "      <td>NaN</td>\n",
       "      <td>0.0</td>\n",
       "      <td>183.0</td>\n",
       "      <td>170.0</td>\n",
       "      <td>154.0</td>\n",
       "      <td>1120.0</td>\n",
       "      <td>NaN</td>\n",
       "      <td>NaN</td>\n",
       "      <td>NaN</td>\n",
       "      <td>NaN</td>\n",
       "      <td>NaN</td>\n",
       "      <td>NaN</td>\n",
       "    </tr>\n",
       "    <tr>\n",
       "      <th>5617657</th>\n",
       "      <td>2016-12-31</td>\n",
       "      <td>NK</td>\n",
       "      <td>126</td>\n",
       "      <td>FLL</td>\n",
       "      <td>MYR</td>\n",
       "      <td>2015</td>\n",
       "      <td>2208.0</td>\n",
       "      <td>113.0</td>\n",
       "      <td>21.0</td>\n",
       "      <td>2229.0</td>\n",
       "      <td>2344.0</td>\n",
       "      <td>6.0</td>\n",
       "      <td>2153</td>\n",
       "      <td>2350.0</td>\n",
       "      <td>117.0</td>\n",
       "      <td>0.0</td>\n",
       "      <td>NaN</td>\n",
       "      <td>0.0</td>\n",
       "      <td>98.0</td>\n",
       "      <td>102.0</td>\n",
       "      <td>75.0</td>\n",
       "      <td>529.0</td>\n",
       "      <td>113.0</td>\n",
       "      <td>0.0</td>\n",
       "      <td>4.0</td>\n",
       "      <td>0.0</td>\n",
       "      <td>0.0</td>\n",
       "      <td>NaN</td>\n",
       "    </tr>\n",
       "  </tbody>\n",
       "</table>\n",
       "</div>"
      ],
      "text/plain": [
       "            FL_DATE OP_CARRIER  OP_CARRIER_FL_NUM ORIGIN DEST  CRS_DEP_TIME  \\\n",
       "0        2016-01-01         DL               1248    DTW  LAX          1935   \n",
       "1        2016-01-01         DL               1251    ATL  GRR          2125   \n",
       "5617656  2016-12-31         NK                124    RSW  ORD          1704   \n",
       "5617657  2016-12-31         NK                126    FLL  MYR          2015   \n",
       "\n",
       "         DEP_TIME  DEP_DELAY  TAXI_OUT  WHEELS_OFF  WHEELS_ON  TAXI_IN  \\\n",
       "0          1935.0        0.0      23.0      1958.0     2107.0     13.0   \n",
       "1          2130.0        5.0      13.0      2143.0     2315.0      4.0   \n",
       "5617656    1711.0        7.0       9.0      1720.0     1854.0      7.0   \n",
       "5617657    2208.0      113.0      21.0      2229.0     2344.0      6.0   \n",
       "\n",
       "         CRS_ARR_TIME  ARR_TIME  ARR_DELAY  CANCELLED CANCELLATION_CODE  \\\n",
       "0                2144    2120.0      -24.0        0.0               NaN   \n",
       "1                2321    2319.0       -2.0        0.0               NaN   \n",
       "5617656          1907    1901.0       -6.0        0.0               NaN   \n",
       "5617657          2153    2350.0      117.0        0.0               NaN   \n",
       "\n",
       "         DIVERTED  CRS_ELAPSED_TIME  ACTUAL_ELAPSED_TIME  AIR_TIME  DISTANCE  \\\n",
       "0             0.0             309.0                285.0     249.0    1979.0   \n",
       "1             0.0             116.0                109.0      92.0     640.0   \n",
       "5617656       0.0             183.0                170.0     154.0    1120.0   \n",
       "5617657       0.0              98.0                102.0      75.0     529.0   \n",
       "\n",
       "         CARRIER_DELAY  WEATHER_DELAY  NAS_DELAY  SECURITY_DELAY  \\\n",
       "0                  NaN            NaN        NaN             NaN   \n",
       "1                  NaN            NaN        NaN             NaN   \n",
       "5617656            NaN            NaN        NaN             NaN   \n",
       "5617657          113.0            0.0        4.0             0.0   \n",
       "\n",
       "         LATE_AIRCRAFT_DELAY  Unnamed: 27  \n",
       "0                        NaN          NaN  \n",
       "1                        NaN          NaN  \n",
       "5617656                  NaN          NaN  \n",
       "5617657                  0.0          NaN  "
      ]
     },
     "execution_count": 3,
     "metadata": {},
     "output_type": "execute_result"
    }
   ],
   "source": [
    "# Check first 2 instances and last 2 instances\n",
    "flight_data.head(2).append(flight_data.tail(2))"
   ]
  },
  {
   "cell_type": "markdown",
   "id": "a98df784",
   "metadata": {},
   "source": [
    "Dataset exploration"
   ]
  },
  {
   "cell_type": "code",
   "execution_count": 4,
   "id": "3d6ade5f",
   "metadata": {},
   "outputs": [
    {
     "name": "stdout",
     "output_type": "stream",
     "text": [
      "There are 5617658 rows and 28 columns from the flight dataset.\n"
     ]
    }
   ],
   "source": [
    "# Check dimension of dataset\n",
    "flight_data.shape\n",
    "print(\"There are \"+ str(flight_data.shape[0]) +\" rows and \"+ str(flight_data.shape[1]) +\" columns from the flight dataset.\")"
   ]
  },
  {
   "cell_type": "code",
   "execution_count": 5,
   "id": "6d496aee",
   "metadata": {},
   "outputs": [],
   "source": [
    "# Convert flight_data column to datetime format\n",
    "flight_data['FL_DATE'] =  pd.to_datetime(flight_data['FL_DATE'], format='%Y-%m-%d')"
   ]
  },
  {
   "cell_type": "code",
   "execution_count": 6,
   "id": "54636b96",
   "metadata": {},
   "outputs": [
    {
     "name": "stdout",
     "output_type": "stream",
     "text": [
      "<class 'pandas.core.frame.DataFrame'>\n",
      "RangeIndex: 5617658 entries, 0 to 5617657\n",
      "Data columns (total 28 columns):\n",
      " #   Column               Dtype         \n",
      "---  ------               -----         \n",
      " 0   FL_DATE              datetime64[ns]\n",
      " 1   OP_CARRIER           object        \n",
      " 2   OP_CARRIER_FL_NUM    int64         \n",
      " 3   ORIGIN               object        \n",
      " 4   DEST                 object        \n",
      " 5   CRS_DEP_TIME         int64         \n",
      " 6   DEP_TIME             float64       \n",
      " 7   DEP_DELAY            float64       \n",
      " 8   TAXI_OUT             float64       \n",
      " 9   WHEELS_OFF           float64       \n",
      " 10  WHEELS_ON            float64       \n",
      " 11  TAXI_IN              float64       \n",
      " 12  CRS_ARR_TIME         int64         \n",
      " 13  ARR_TIME             float64       \n",
      " 14  ARR_DELAY            float64       \n",
      " 15  CANCELLED            float64       \n",
      " 16  CANCELLATION_CODE    object        \n",
      " 17  DIVERTED             float64       \n",
      " 18  CRS_ELAPSED_TIME     float64       \n",
      " 19  ACTUAL_ELAPSED_TIME  float64       \n",
      " 20  AIR_TIME             float64       \n",
      " 21  DISTANCE             float64       \n",
      " 22  CARRIER_DELAY        float64       \n",
      " 23  WEATHER_DELAY        float64       \n",
      " 24  NAS_DELAY            float64       \n",
      " 25  SECURITY_DELAY       float64       \n",
      " 26  LATE_AIRCRAFT_DELAY  float64       \n",
      " 27  Unnamed: 27          float64       \n",
      "dtypes: datetime64[ns](1), float64(20), int64(3), object(4)\n",
      "memory usage: 1.2+ GB\n"
     ]
    }
   ],
   "source": [
    "# Check column type\n",
    "flight_data.info()"
   ]
  },
  {
   "cell_type": "markdown",
   "id": "28cef07e",
   "metadata": {},
   "source": [
    "# Metadata\n",
    "\n",
    "FL_DATE = Date of the Flight\n",
    "\n",
    "OP_CARRIER = Airline Identifier\n",
    "\n",
    "OP_CARRIER_FL_NUM = Flight Number\n",
    "\n",
    "ORIGIN = Starting Airport Code\n",
    "\n",
    "DEST = Destination Airport Code\n",
    "\n",
    "CRS_DEP_TIME = Planned Departure Time\n",
    "\n",
    "DEP_TIME = Actual Departure Time\n",
    "\n",
    "DEP_DELAY = Total Delay on Departure in minutes\n",
    "\n",
    "TAXI_OUT = The time duration elapsed between departure from the origin airport gate and wheels off\n",
    "\n",
    "WHEELS_OFF = The time point that the aircraft's wheels leave the ground\n",
    "\n",
    "WHEELS_ON = The time point that the aircraft'ss wheels touch on the ground\n",
    "\n",
    "TAXI_IN = The time duration elapsed between wheels-on and gate arrival at the destination airport\n",
    "\n",
    "CRS_ARR_TIME = Planned arrival time\n",
    "\n",
    "ARR_TIME = Actual Arrival Time = ARRIVAL_TIME - SCHEDULED_ARRIVAL\n",
    "\n",
    "ARR_DELAY = Total Delay on Arrival in minutes\n",
    "\n",
    "CANCELLED = Flight Cancelled (1 = cancelled)\n",
    "\n",
    "CANCELLATION_CODE = Reason for Cancellation of flight: A - Airline/Carrier; B -\n",
    "Weather; C - National Air System; D - Security\n",
    "\n",
    "DIVERTED = Aircraft landed on different airport that the one scheduled\n",
    "\n",
    "CRS_ELAPSED_TIME = Planned time amount needed for the flight trip\n",
    "\n",
    "ACTUAL_ELAPSED_TIME = AIR_TIME+TAXI_IN+TAXI_OUT\n",
    "\n",
    "AIR_TIME = The time duration between wheels_off and wheels_on time\n",
    "\n",
    "DISTANCE = Distance between two airports\n",
    "\n",
    "CARRIER_DELAY = Delay caused by the airline in minutes\n",
    "\n",
    "WEATHER_DELAY = Delay caused by weather\n",
    "\n",
    "NAS_DELAY = Delay caused by air system\n",
    "\n",
    "SECURITY_DELAY = caused by security reasons\n",
    "\n",
    "LATE_AIRCRAFT_DELAY = Delay caused by security"
   ]
  },
  {
   "cell_type": "markdown",
   "id": "e981abb8",
   "metadata": {},
   "source": [
    "# Data Preprocessing\n",
    "\n",
    "Handling of missing data\n",
    "\n",
    "Transformation of Duration time taken\n",
    "\n",
    "Rename of OP_CARRIER\n",
    "\n",
    "Transformation of Date\n",
    "\n",
    "Data reduction: Focus on Busy Airports\n",
    "    \n",
    "Rename of airports and city\n",
    "\n",
    "Transformation of Target attribute: Flight status"
   ]
  },
  {
   "cell_type": "code",
   "execution_count": 7,
   "id": "767a0fa1",
   "metadata": {},
   "outputs": [
    {
     "name": "stdout",
     "output_type": "stream",
     "text": [
      "Proportion of missing data in columns\n",
      "            column_name  percentage\n",
      "0           Unnamed: 27  100.000000\n",
      "1     CANCELLATION_CODE   98.827608\n",
      "2        SECURITY_DELAY   82.835570\n",
      "3   LATE_AIRCRAFT_DELAY   82.835570\n",
      "4         CARRIER_DELAY   82.835570\n",
      "5         WEATHER_DELAY   82.835570\n",
      "6             NAS_DELAY   82.835570\n",
      "7             ARR_DELAY    1.415412\n",
      "8   ACTUAL_ELAPSED_TIME    1.415412\n",
      "9              AIR_TIME    1.415412\n",
      "10            WHEELS_ON    1.207692\n",
      "11              TAXI_IN    1.207692\n",
      "12             ARR_TIME    1.207692\n",
      "13             TAXI_OUT    1.164507\n",
      "14           WHEELS_OFF    1.164507\n",
      "15             DEP_TIME    1.129581\n",
      "16            DEP_DELAY    1.129581\n",
      "17     CRS_ELAPSED_TIME    0.000107\n"
     ]
    }
   ],
   "source": [
    "#  Handling missing data\n",
    "\n",
    "# Calculate the proportion of missing data\n",
    "\n",
    "def checkMissing(data,perc=0):\n",
    "    \"\"\" \n",
    "    Takes in a dataframe and returns\n",
    "    the percentage of missing value.\n",
    "    \"\"\"\n",
    "    missing = [(i, data[i].isna().mean()*100) for i in data]\n",
    "    missing = pd.DataFrame(missing, columns=[\"column_name\", \"percentage\"])\n",
    "    missing = missing[missing.percentage > perc]\n",
    "    print(missing.sort_values(\"percentage\", ascending=False).reset_index(drop=True))\n",
    "\n",
    "print(\"Proportion of missing data in columns\")\n",
    "checkMissing(flight_data)"
   ]
  },
  {
   "cell_type": "markdown",
   "id": "4b28e198",
   "metadata": {},
   "source": [
    "These columns are dropped: Unnamed: 27, CANCELLATION_CODE, LATE_AIRCRAFT_DELAY, CARRIER_DELAY, WEATHER_DELAY, NAS_DELAY and SECURITY_DELAY from the dataframe as these columns had more than 50% of missing values which does not provide any useful information to our analysis. Since our main objective is to predict flight delay, column CANCELLED is irrelevant to our scope of work as a canceled flight is not a delayed flight as it never left nor arrived to its destination for whatever reason. OP_CARRIER_FL_NUM is also not relevant to our predictions.\n",
    "\n",
    "After further investigation on the dataset, LATE_AIRCRAFT_DELAY, CARRIER_DELAY, WEATHER_DELAY, NAS_DELAY and SECURITY_DELAY are showing the split of delayed minutes for the flight. Thus, the missing data is actually implying that there is no delay for the instance. The missing values for these attributes are imputed with zero."
   ]
  },
  {
   "cell_type": "code",
   "execution_count": 8,
   "id": "adc29a4b",
   "metadata": {},
   "outputs": [],
   "source": [
    "#Fill the missing value 0\n",
    "flight_data['LATE_AIRCRAFT_DELAY']=flight_data['LATE_AIRCRAFT_DELAY'].fillna(0)\n",
    "flight_data['CARRIER_DELAY']=flight_data['CARRIER_DELAY'].fillna(0)\n",
    "flight_data['WEATHER_DELAY']=flight_data['WEATHER_DELAY'].fillna(0)\n",
    "flight_data['NAS_DELAY']=flight_data['NAS_DELAY'].fillna(0)\n",
    "flight_data['SECURITY_DELAY']=flight_data['SECURITY_DELAY'].fillna(0)"
   ]
  },
  {
   "cell_type": "markdown",
   "id": "d14ff98b",
   "metadata": {},
   "source": [
    "# Transformation of Duration time taken\n",
    "Checking on the calculation for Departure Delay and Arrival Delay in minutes\n",
    "\n",
    "The derivation of the delayed time of departure and delayed time of arrival is as shown below:\n",
    "\n",
    "DEP_DELAY = CRS_DEP_TIME - DEP_TIME\n",
    "ARR_DELAY = ARR_TIME - CRS_ARR_TIME\n",
    "CRS_DEP_TIME, DEP_TIME, CRS_ARR_TIME and ARR_TIME can be eliminated asDEP_DELAY and ARR_DELAY are informative enough to provide the length of time of the delay in minutes."
   ]
  },
  {
   "cell_type": "code",
   "execution_count": 9,
   "id": "7f9f98eb",
   "metadata": {},
   "outputs": [],
   "source": [
    "# Function that convert the 'HHMM' string to datetime.time\n",
    "def format_heure(chaine):\n",
    "    if pd.isnull(chaine):\n",
    "        return np.nan\n",
    "    else:\n",
    "        if chaine == 2400: chaine = 0\n",
    "        chaine = \"{0:04d}\".format(int(chaine))\n",
    "        heure = datetime.time(int(chaine[0:2]), int(chaine[2:4]))\n",
    "        return heure\n",
    "        # return pd.to_datetime(heure, format='%H:%M:%S')\n",
    "    \n",
    "    # pd.to_datetime(heure, format='%Y-%m-%d')"
   ]
  },
  {
   "cell_type": "code",
   "execution_count": 10,
   "id": "e84929b5",
   "metadata": {},
   "outputs": [],
   "source": [
    "flight_data['DEP_TIME'] = flight_data['DEP_TIME'].apply(format_heure)\n",
    "flight_data['CRS_DEP_TIME'] = flight_data['CRS_DEP_TIME'].apply(format_heure)\n",
    "\n",
    "flight_data['ARR_TIME'] = flight_data['ARR_TIME'].apply(format_heure) \n",
    "flight_data['CRS_ARR_TIME'] = flight_data['CRS_ARR_TIME'].apply(format_heure)\n",
    "\n",
    "flight_data['WHEELS_OFF'] = flight_data['WHEELS_OFF'].apply(format_heure)\n",
    "flight_data['WHEELS_ON'] = flight_data['WHEELS_ON'].apply(format_heure)"
   ]
  },
  {
   "cell_type": "markdown",
   "id": "154b6019",
   "metadata": {},
   "source": [
    "Duration of time taken for:\n",
    "\n",
    "-Flight take off and wheels off\n",
    "\n",
    "-Flight on land and wheels on"
   ]
  },
  {
   "cell_type": "code",
   "execution_count": 11,
   "id": "7ba1fa5e",
   "metadata": {},
   "outputs": [],
   "source": [
    "# Convert flight_data column to datetime format\n",
    "\n",
    "def time_difference(actual,plan):\n",
    "    actual_time = pd.to_timedelta(actual.astype(str)) \n",
    "    plan_time = pd.to_timedelta(plan.astype(str))\n",
    "    return actual_time.sub(plan_time).dt.total_seconds().div(60)\n",
    "\n",
    "flight_data['WHEELS_OFF_elapse'] =  time_difference(flight_data['WHEELS_OFF'],flight_data['DEP_TIME'])\n",
    "flight_data['WHEELS_ON_elapse'] =  time_difference(flight_data['ARR_TIME'] ,flight_data['WHEELS_ON'])\n",
    "\n",
    "# Remove incorrect record\n",
    "flight_data=flight_data[flight_data['WHEELS_OFF_elapse']>0]\n",
    "flight_data=flight_data[flight_data['WHEELS_ON_elapse']>0]"
   ]
  },
  {
   "cell_type": "code",
   "execution_count": 12,
   "id": "c978ce62",
   "metadata": {},
   "outputs": [
    {
     "data": {
      "text/html": [
       "<div>\n",
       "<style scoped>\n",
       "    .dataframe tbody tr th:only-of-type {\n",
       "        vertical-align: middle;\n",
       "    }\n",
       "\n",
       "    .dataframe tbody tr th {\n",
       "        vertical-align: top;\n",
       "    }\n",
       "\n",
       "    .dataframe thead th {\n",
       "        text-align: right;\n",
       "    }\n",
       "</style>\n",
       "<table border=\"1\" class=\"dataframe\">\n",
       "  <thead>\n",
       "    <tr style=\"text-align: right;\">\n",
       "      <th></th>\n",
       "      <th>FL_DATE</th>\n",
       "      <th>OP_CARRIER</th>\n",
       "      <th>OP_CARRIER_FL_NUM</th>\n",
       "      <th>ORIGIN</th>\n",
       "      <th>DEST</th>\n",
       "      <th>CRS_DEP_TIME</th>\n",
       "      <th>DEP_TIME</th>\n",
       "      <th>DEP_DELAY</th>\n",
       "      <th>TAXI_OUT</th>\n",
       "      <th>WHEELS_OFF</th>\n",
       "      <th>WHEELS_ON</th>\n",
       "      <th>TAXI_IN</th>\n",
       "      <th>CRS_ARR_TIME</th>\n",
       "      <th>ARR_TIME</th>\n",
       "      <th>ARR_DELAY</th>\n",
       "      <th>CANCELLED</th>\n",
       "      <th>CANCELLATION_CODE</th>\n",
       "      <th>DIVERTED</th>\n",
       "      <th>CRS_ELAPSED_TIME</th>\n",
       "      <th>ACTUAL_ELAPSED_TIME</th>\n",
       "      <th>AIR_TIME</th>\n",
       "      <th>DISTANCE</th>\n",
       "      <th>CARRIER_DELAY</th>\n",
       "      <th>WEATHER_DELAY</th>\n",
       "      <th>NAS_DELAY</th>\n",
       "      <th>SECURITY_DELAY</th>\n",
       "      <th>LATE_AIRCRAFT_DELAY</th>\n",
       "      <th>Unnamed: 27</th>\n",
       "      <th>WHEELS_OFF_elapse</th>\n",
       "      <th>WHEELS_ON_elapse</th>\n",
       "    </tr>\n",
       "  </thead>\n",
       "  <tbody>\n",
       "    <tr>\n",
       "      <th>0</th>\n",
       "      <td>2016-01-01</td>\n",
       "      <td>DL</td>\n",
       "      <td>1248</td>\n",
       "      <td>DTW</td>\n",
       "      <td>LAX</td>\n",
       "      <td>19:35:00</td>\n",
       "      <td>19:35:00</td>\n",
       "      <td>0.0</td>\n",
       "      <td>23.0</td>\n",
       "      <td>19:58:00</td>\n",
       "      <td>21:07:00</td>\n",
       "      <td>13.0</td>\n",
       "      <td>21:44:00</td>\n",
       "      <td>21:20:00</td>\n",
       "      <td>-24.0</td>\n",
       "      <td>0.0</td>\n",
       "      <td>NaN</td>\n",
       "      <td>0.0</td>\n",
       "      <td>309.0</td>\n",
       "      <td>285.0</td>\n",
       "      <td>249.0</td>\n",
       "      <td>1979.0</td>\n",
       "      <td>0.0</td>\n",
       "      <td>0.0</td>\n",
       "      <td>0.0</td>\n",
       "      <td>0.0</td>\n",
       "      <td>0.0</td>\n",
       "      <td>NaN</td>\n",
       "      <td>23.0</td>\n",
       "      <td>13.0</td>\n",
       "    </tr>\n",
       "    <tr>\n",
       "      <th>1</th>\n",
       "      <td>2016-01-01</td>\n",
       "      <td>DL</td>\n",
       "      <td>1251</td>\n",
       "      <td>ATL</td>\n",
       "      <td>GRR</td>\n",
       "      <td>21:25:00</td>\n",
       "      <td>21:30:00</td>\n",
       "      <td>5.0</td>\n",
       "      <td>13.0</td>\n",
       "      <td>21:43:00</td>\n",
       "      <td>23:15:00</td>\n",
       "      <td>4.0</td>\n",
       "      <td>23:21:00</td>\n",
       "      <td>23:19:00</td>\n",
       "      <td>-2.0</td>\n",
       "      <td>0.0</td>\n",
       "      <td>NaN</td>\n",
       "      <td>0.0</td>\n",
       "      <td>116.0</td>\n",
       "      <td>109.0</td>\n",
       "      <td>92.0</td>\n",
       "      <td>640.0</td>\n",
       "      <td>0.0</td>\n",
       "      <td>0.0</td>\n",
       "      <td>0.0</td>\n",
       "      <td>0.0</td>\n",
       "      <td>0.0</td>\n",
       "      <td>NaN</td>\n",
       "      <td>13.0</td>\n",
       "      <td>4.0</td>\n",
       "    </tr>\n",
       "    <tr>\n",
       "      <th>5617656</th>\n",
       "      <td>2016-12-31</td>\n",
       "      <td>NK</td>\n",
       "      <td>124</td>\n",
       "      <td>RSW</td>\n",
       "      <td>ORD</td>\n",
       "      <td>17:04:00</td>\n",
       "      <td>17:11:00</td>\n",
       "      <td>7.0</td>\n",
       "      <td>9.0</td>\n",
       "      <td>17:20:00</td>\n",
       "      <td>18:54:00</td>\n",
       "      <td>7.0</td>\n",
       "      <td>19:07:00</td>\n",
       "      <td>19:01:00</td>\n",
       "      <td>-6.0</td>\n",
       "      <td>0.0</td>\n",
       "      <td>NaN</td>\n",
       "      <td>0.0</td>\n",
       "      <td>183.0</td>\n",
       "      <td>170.0</td>\n",
       "      <td>154.0</td>\n",
       "      <td>1120.0</td>\n",
       "      <td>0.0</td>\n",
       "      <td>0.0</td>\n",
       "      <td>0.0</td>\n",
       "      <td>0.0</td>\n",
       "      <td>0.0</td>\n",
       "      <td>NaN</td>\n",
       "      <td>9.0</td>\n",
       "      <td>7.0</td>\n",
       "    </tr>\n",
       "    <tr>\n",
       "      <th>5617657</th>\n",
       "      <td>2016-12-31</td>\n",
       "      <td>NK</td>\n",
       "      <td>126</td>\n",
       "      <td>FLL</td>\n",
       "      <td>MYR</td>\n",
       "      <td>20:15:00</td>\n",
       "      <td>22:08:00</td>\n",
       "      <td>113.0</td>\n",
       "      <td>21.0</td>\n",
       "      <td>22:29:00</td>\n",
       "      <td>23:44:00</td>\n",
       "      <td>6.0</td>\n",
       "      <td>21:53:00</td>\n",
       "      <td>23:50:00</td>\n",
       "      <td>117.0</td>\n",
       "      <td>0.0</td>\n",
       "      <td>NaN</td>\n",
       "      <td>0.0</td>\n",
       "      <td>98.0</td>\n",
       "      <td>102.0</td>\n",
       "      <td>75.0</td>\n",
       "      <td>529.0</td>\n",
       "      <td>113.0</td>\n",
       "      <td>0.0</td>\n",
       "      <td>4.0</td>\n",
       "      <td>0.0</td>\n",
       "      <td>0.0</td>\n",
       "      <td>NaN</td>\n",
       "      <td>21.0</td>\n",
       "      <td>6.0</td>\n",
       "    </tr>\n",
       "  </tbody>\n",
       "</table>\n",
       "</div>"
      ],
      "text/plain": [
       "           FL_DATE OP_CARRIER  OP_CARRIER_FL_NUM ORIGIN DEST CRS_DEP_TIME  \\\n",
       "0       2016-01-01         DL               1248    DTW  LAX     19:35:00   \n",
       "1       2016-01-01         DL               1251    ATL  GRR     21:25:00   \n",
       "5617656 2016-12-31         NK                124    RSW  ORD     17:04:00   \n",
       "5617657 2016-12-31         NK                126    FLL  MYR     20:15:00   \n",
       "\n",
       "         DEP_TIME  DEP_DELAY  TAXI_OUT WHEELS_OFF WHEELS_ON  TAXI_IN  \\\n",
       "0        19:35:00        0.0      23.0   19:58:00  21:07:00     13.0   \n",
       "1        21:30:00        5.0      13.0   21:43:00  23:15:00      4.0   \n",
       "5617656  17:11:00        7.0       9.0   17:20:00  18:54:00      7.0   \n",
       "5617657  22:08:00      113.0      21.0   22:29:00  23:44:00      6.0   \n",
       "\n",
       "        CRS_ARR_TIME  ARR_TIME  ARR_DELAY  CANCELLED CANCELLATION_CODE  \\\n",
       "0           21:44:00  21:20:00      -24.0        0.0               NaN   \n",
       "1           23:21:00  23:19:00       -2.0        0.0               NaN   \n",
       "5617656     19:07:00  19:01:00       -6.0        0.0               NaN   \n",
       "5617657     21:53:00  23:50:00      117.0        0.0               NaN   \n",
       "\n",
       "         DIVERTED  CRS_ELAPSED_TIME  ACTUAL_ELAPSED_TIME  AIR_TIME  DISTANCE  \\\n",
       "0             0.0             309.0                285.0     249.0    1979.0   \n",
       "1             0.0             116.0                109.0      92.0     640.0   \n",
       "5617656       0.0             183.0                170.0     154.0    1120.0   \n",
       "5617657       0.0              98.0                102.0      75.0     529.0   \n",
       "\n",
       "         CARRIER_DELAY  WEATHER_DELAY  NAS_DELAY  SECURITY_DELAY  \\\n",
       "0                  0.0            0.0        0.0             0.0   \n",
       "1                  0.0            0.0        0.0             0.0   \n",
       "5617656            0.0            0.0        0.0             0.0   \n",
       "5617657          113.0            0.0        4.0             0.0   \n",
       "\n",
       "         LATE_AIRCRAFT_DELAY  Unnamed: 27  WHEELS_OFF_elapse  WHEELS_ON_elapse  \n",
       "0                        0.0          NaN               23.0              13.0  \n",
       "1                        0.0          NaN               13.0               4.0  \n",
       "5617656                  0.0          NaN                9.0               7.0  \n",
       "5617657                  0.0          NaN               21.0               6.0  "
      ]
     },
     "execution_count": 12,
     "metadata": {},
     "output_type": "execute_result"
    }
   ],
   "source": [
    "# Check first 2 instances and last 2 instances\n",
    "flight_data.head(2).append(flight_data.tail(2))"
   ]
  },
  {
   "cell_type": "code",
   "execution_count": 13,
   "id": "41b58326",
   "metadata": {},
   "outputs": [
    {
     "name": "stdout",
     "output_type": "stream",
     "text": [
      "<class 'pandas.core.frame.DataFrame'>\n",
      "Int64Index: 5515676 entries, 0 to 5617657\n",
      "Data columns (total 30 columns):\n",
      " #   Column               Dtype         \n",
      "---  ------               -----         \n",
      " 0   FL_DATE              datetime64[ns]\n",
      " 1   OP_CARRIER           object        \n",
      " 2   OP_CARRIER_FL_NUM    int64         \n",
      " 3   ORIGIN               object        \n",
      " 4   DEST                 object        \n",
      " 5   CRS_DEP_TIME         object        \n",
      " 6   DEP_TIME             object        \n",
      " 7   DEP_DELAY            float64       \n",
      " 8   TAXI_OUT             float64       \n",
      " 9   WHEELS_OFF           object        \n",
      " 10  WHEELS_ON            object        \n",
      " 11  TAXI_IN              float64       \n",
      " 12  CRS_ARR_TIME         object        \n",
      " 13  ARR_TIME             object        \n",
      " 14  ARR_DELAY            float64       \n",
      " 15  CANCELLED            float64       \n",
      " 16  CANCELLATION_CODE    object        \n",
      " 17  DIVERTED             float64       \n",
      " 18  CRS_ELAPSED_TIME     float64       \n",
      " 19  ACTUAL_ELAPSED_TIME  float64       \n",
      " 20  AIR_TIME             float64       \n",
      " 21  DISTANCE             float64       \n",
      " 22  CARRIER_DELAY        float64       \n",
      " 23  WEATHER_DELAY        float64       \n",
      " 24  NAS_DELAY            float64       \n",
      " 25  SECURITY_DELAY       float64       \n",
      " 26  LATE_AIRCRAFT_DELAY  float64       \n",
      " 27  Unnamed: 27          float64       \n",
      " 28  WHEELS_OFF_elapse    float64       \n",
      " 29  WHEELS_ON_elapse     float64       \n",
      "dtypes: datetime64[ns](1), float64(18), int64(1), object(10)\n",
      "memory usage: 1.3+ GB\n"
     ]
    }
   ],
   "source": [
    "# Check column type\n",
    "flight_data.info()"
   ]
  },
  {
   "cell_type": "code",
   "execution_count": 14,
   "id": "4e9c098b",
   "metadata": {},
   "outputs": [],
   "source": [
    "#check_depart = flight_data[flight_data['DEP_DELAY_c'] != flight_data['DEP_DELAY']]  \n",
    "#check_arrival = flight_data[flight_data['ARR_DELAY_c'] != flight_data['ARR_DELAY']] \n",
    "\n",
    "#print(\"The duration of delayed which is not tally:\")\n",
    "#print(\"For time taken of departure delay\")\n",
    "#print(check_depart.shape)\n",
    "#print()\n",
    "#print(\"For time taken of arrival delay\")\n",
    "#print(check_arrival.shape)"
   ]
  },
  {
   "cell_type": "code",
   "execution_count": 15,
   "id": "9d5db66e",
   "metadata": {},
   "outputs": [],
   "source": [
    "#check_depart.loc[:,['DEP_TIME','CRS_DEP_TIME','DEP_DELAY_c','DEP_DELAY']]"
   ]
  },
  {
   "cell_type": "code",
   "execution_count": 16,
   "id": "c9ba3b5e",
   "metadata": {},
   "outputs": [],
   "source": [
    "#check_arrival.loc[:,['ARR_TIME','CRS_ARR_TIME','ARR_DELAY_c','ARR_DELAY']]"
   ]
  },
  {
   "cell_type": "code",
   "execution_count": 17,
   "id": "30378791",
   "metadata": {},
   "outputs": [],
   "source": [
    "# Drop the unused columns \n",
    "\n",
    "flight_data.drop(['Unnamed: 27', \n",
    "                  'CANCELLATION_CODE',\n",
    "                  'CANCELLED',\n",
    "                  'OP_CARRIER_FL_NUM',\n",
    "                  'CRS_DEP_TIME',\n",
    "                  'DEP_TIME',\n",
    "                  'CRS_ARR_TIME',\n",
    "                  'ARR_TIME',\n",
    "                  'WHEELS_ON',\n",
    "                  'WHEELS_OFF'\n",
    "                 ],\n",
    "                 axis = 1, inplace = True)"
   ]
  },
  {
   "cell_type": "markdown",
   "id": "560a7622",
   "metadata": {},
   "source": [
    "Drop those missing rows since the percentage of missing values is 1%. Imputation with cold-deck method may introduce noise to the data, so its best to avoid that."
   ]
  },
  {
   "cell_type": "code",
   "execution_count": 18,
   "id": "f1a5c16b",
   "metadata": {},
   "outputs": [
    {
     "data": {
      "text/plain": [
       "FL_DATE                    0\n",
       "OP_CARRIER                 0\n",
       "ORIGIN                     0\n",
       "DEST                       0\n",
       "DEP_DELAY                  0\n",
       "TAXI_OUT                   0\n",
       "TAXI_IN                    0\n",
       "ARR_DELAY              11506\n",
       "DIVERTED                   0\n",
       "CRS_ELAPSED_TIME           0\n",
       "ACTUAL_ELAPSED_TIME    11506\n",
       "AIR_TIME               11506\n",
       "DISTANCE                   0\n",
       "CARRIER_DELAY              0\n",
       "WEATHER_DELAY              0\n",
       "NAS_DELAY                  0\n",
       "SECURITY_DELAY             0\n",
       "LATE_AIRCRAFT_DELAY        0\n",
       "WHEELS_OFF_elapse          0\n",
       "WHEELS_ON_elapse           0\n",
       "dtype: int64"
      ]
     },
     "execution_count": 18,
     "metadata": {},
     "output_type": "execute_result"
    }
   ],
   "source": [
    "#Check number of missing values\n",
    "flight_data.isna().sum()"
   ]
  },
  {
   "cell_type": "code",
   "execution_count": 19,
   "id": "e4d92eb5",
   "metadata": {},
   "outputs": [],
   "source": [
    "flight_data = flight_data.dropna()"
   ]
  },
  {
   "cell_type": "code",
   "execution_count": 20,
   "id": "3c7967a1",
   "metadata": {},
   "outputs": [
    {
     "data": {
      "text/plain": [
       "FL_DATE                0\n",
       "OP_CARRIER             0\n",
       "ORIGIN                 0\n",
       "DEST                   0\n",
       "DEP_DELAY              0\n",
       "TAXI_OUT               0\n",
       "TAXI_IN                0\n",
       "ARR_DELAY              0\n",
       "DIVERTED               0\n",
       "CRS_ELAPSED_TIME       0\n",
       "ACTUAL_ELAPSED_TIME    0\n",
       "AIR_TIME               0\n",
       "DISTANCE               0\n",
       "CARRIER_DELAY          0\n",
       "WEATHER_DELAY          0\n",
       "NAS_DELAY              0\n",
       "SECURITY_DELAY         0\n",
       "LATE_AIRCRAFT_DELAY    0\n",
       "WHEELS_OFF_elapse      0\n",
       "WHEELS_ON_elapse       0\n",
       "dtype: int64"
      ]
     },
     "execution_count": 20,
     "metadata": {},
     "output_type": "execute_result"
    }
   ],
   "source": [
    "#Check number of missing values\n",
    "flight_data.isna().sum()"
   ]
  },
  {
   "cell_type": "markdown",
   "id": "d8f3474a",
   "metadata": {},
   "source": [
    "\n",
    "# Rename of OP_CARRIER\n",
    "OP_CARRIER refers to the airline identifier recorded with its abbreviation form. To make the content more intuitive, the column of abbreviation names are transformed with airlines extended names. The main reference source for the extended name is obtained from Wikipedia"
   ]
  },
  {
   "cell_type": "code",
   "execution_count": 21,
   "id": "8ae039ea",
   "metadata": {},
   "outputs": [
    {
     "data": {
      "text/plain": [
       "array(['DL', 'AS', 'EV', 'F9', 'WN', 'OO', 'HA', 'NK', 'UA', 'VX', 'AA',\n",
       "       'B6'], dtype=object)"
      ]
     },
     "execution_count": 21,
     "metadata": {},
     "output_type": "execute_result"
    }
   ],
   "source": [
    "# Check the instances for OP_CARRIER\n",
    "flight_data.OP_CARRIER.unique()"
   ]
  },
  {
   "cell_type": "code",
   "execution_count": 22,
   "id": "cabeefea",
   "metadata": {},
   "outputs": [],
   "source": [
    "flight_data['OP_CARRIER'].replace({\n",
    "    'UA':'United Airlines',\n",
    "    'AS':'Alaska Airlines',\n",
    "    '9E':'Endeavor Air',\n",
    "    'B6':'JetBlue Airways',\n",
    "    'EV':'ExpressJet',\n",
    "    'F9':'Frontier Airlines',\n",
    "    'G4':'Allegiant Air',\n",
    "    'HA':'Hawaiian Airlines',\n",
    "    'MQ':'Envoy Air',\n",
    "    'NK':'Spirit Airlines',\n",
    "    'OH':'PSA Airlines',\n",
    "    'OO':'SkyWest Airlines',\n",
    "    'VX':'Virgin America',\n",
    "    'WN':'Southwest Airlines',\n",
    "    'YV':'Mesa Airline',\n",
    "    'YX':'Republic Airways',\n",
    "    'AA':'American Airlines',\n",
    "    'DL':'Delta Airlines'\n",
    "}, inplace=True)"
   ]
  },
  {
   "cell_type": "code",
   "execution_count": 23,
   "id": "a00224c3",
   "metadata": {},
   "outputs": [
    {
     "data": {
      "text/plain": [
       "12"
      ]
     },
     "execution_count": 23,
     "metadata": {},
     "output_type": "execute_result"
    }
   ],
   "source": [
    "flight_data.OP_CARRIER.nunique()"
   ]
  },
  {
   "cell_type": "code",
   "execution_count": 24,
   "id": "c37c6e39",
   "metadata": {},
   "outputs": [
    {
     "data": {
      "text/plain": [
       "Southwest Airlines    1275932\n",
       "Delta Airlines         912078\n",
       "American Airlines      893828\n",
       "SkyWest Airlines       593732\n",
       "United Airlines        533469\n",
       "ExpressJet             476707\n",
       "JetBlue Airways        274153\n",
       "Alaska Airlines        174282\n",
       "Spirit Airlines        133650\n",
       "Frontier Airlines       92078\n",
       "Hawaiian Airlines       76461\n",
       "Virgin America          67800\n",
       "Name: OP_CARRIER, dtype: int64"
      ]
     },
     "execution_count": 24,
     "metadata": {},
     "output_type": "execute_result"
    }
   ],
   "source": [
    "flight_data.OP_CARRIER.value_counts()"
   ]
  },
  {
   "cell_type": "markdown",
   "id": "4c96277a",
   "metadata": {},
   "source": [
    "# Data reduction: Focuing on Busy Airports\n",
    "\n",
    "Even though a lot of pre-processing and cleaning has been done on a separate notebook, this one will be only aiming to obtain a final dataframe for the modeling which will have the top 20 cities only. The reason to do it this way is because the DEST feature is a categorical column of 358 values. The hot encoding will then be done for this 20 instead of the 358 total destinations."
   ]
  },
  {
   "cell_type": "code",
   "execution_count": 25,
   "id": "526b7776",
   "metadata": {},
   "outputs": [
    {
     "data": {
      "text/plain": [
       "ATL    379991\n",
       "ORD    237337\n",
       "DEN    221227\n",
       "LAX    208734\n",
       "DFW    191874\n",
       "SFO    168601\n",
       "PHX    157008\n",
       "LAS    148394\n",
       "IAH    133875\n",
       "SEA    130918\n",
       "MSP    127406\n",
       "MCO    122939\n",
       "DTW    122353\n",
       "BOS    118140\n",
       "EWR    111222\n",
       "CLT    108598\n",
       "SLC    107846\n",
       "JFK     94144\n",
       "BWI     93755\n",
       "LGA     93246\n",
       "Name: DEST, dtype: int64"
      ]
     },
     "execution_count": 25,
     "metadata": {},
     "output_type": "execute_result"
    }
   ],
   "source": [
    "flight_data.DEST.value_counts().iloc[:20]"
   ]
  },
  {
   "cell_type": "code",
   "execution_count": 26,
   "id": "b96d4fab",
   "metadata": {},
   "outputs": [
    {
     "data": {
      "text/html": [
       "<div>\n",
       "<style scoped>\n",
       "    .dataframe tbody tr th:only-of-type {\n",
       "        vertical-align: middle;\n",
       "    }\n",
       "\n",
       "    .dataframe tbody tr th {\n",
       "        vertical-align: top;\n",
       "    }\n",
       "\n",
       "    .dataframe thead th {\n",
       "        text-align: right;\n",
       "    }\n",
       "</style>\n",
       "<table border=\"1\" class=\"dataframe\">\n",
       "  <thead>\n",
       "    <tr style=\"text-align: right;\">\n",
       "      <th></th>\n",
       "      <th>DEST</th>\n",
       "      <th>TOTAL_FLIGHTS</th>\n",
       "    </tr>\n",
       "  </thead>\n",
       "  <tbody>\n",
       "    <tr>\n",
       "      <th>0</th>\n",
       "      <td>ATL</td>\n",
       "      <td>379991</td>\n",
       "    </tr>\n",
       "  </tbody>\n",
       "</table>\n",
       "</div>"
      ],
      "text/plain": [
       "  DEST  TOTAL_FLIGHTS\n",
       "0  ATL         379991"
      ]
     },
     "execution_count": 26,
     "metadata": {},
     "output_type": "execute_result"
    }
   ],
   "source": [
    "top_cities = flight_data.DEST.value_counts().iloc[0:1].rename_axis('DEST').reset_index(name='TOTAL_FLIGHTS')\n",
    "top_cities.head()"
   ]
  },
  {
   "cell_type": "code",
   "execution_count": 27,
   "id": "56719ae6",
   "metadata": {},
   "outputs": [],
   "source": [
    "# Checking the cities within the numpy array just to verify that it worked\n",
    "top_cities.DEST.unique()\n",
    "\n",
    "# Creating a list with top cities only:\n",
    "city_list = top_cities['DEST'].tolist()"
   ]
  },
  {
   "cell_type": "code",
   "execution_count": 28,
   "id": "0aebcb43",
   "metadata": {},
   "outputs": [
    {
     "data": {
      "text/html": [
       "<div>\n",
       "<style scoped>\n",
       "    .dataframe tbody tr th:only-of-type {\n",
       "        vertical-align: middle;\n",
       "    }\n",
       "\n",
       "    .dataframe tbody tr th {\n",
       "        vertical-align: top;\n",
       "    }\n",
       "\n",
       "    .dataframe thead th {\n",
       "        text-align: right;\n",
       "    }\n",
       "</style>\n",
       "<table border=\"1\" class=\"dataframe\">\n",
       "  <thead>\n",
       "    <tr style=\"text-align: right;\">\n",
       "      <th></th>\n",
       "      <th>FL_DATE</th>\n",
       "      <th>OP_CARRIER</th>\n",
       "      <th>ORIGIN</th>\n",
       "      <th>DEST</th>\n",
       "      <th>DEP_DELAY</th>\n",
       "      <th>TAXI_OUT</th>\n",
       "      <th>TAXI_IN</th>\n",
       "      <th>ARR_DELAY</th>\n",
       "      <th>DIVERTED</th>\n",
       "      <th>CRS_ELAPSED_TIME</th>\n",
       "      <th>ACTUAL_ELAPSED_TIME</th>\n",
       "      <th>AIR_TIME</th>\n",
       "      <th>DISTANCE</th>\n",
       "      <th>CARRIER_DELAY</th>\n",
       "      <th>WEATHER_DELAY</th>\n",
       "      <th>NAS_DELAY</th>\n",
       "      <th>SECURITY_DELAY</th>\n",
       "      <th>LATE_AIRCRAFT_DELAY</th>\n",
       "      <th>WHEELS_OFF_elapse</th>\n",
       "      <th>WHEELS_ON_elapse</th>\n",
       "    </tr>\n",
       "  </thead>\n",
       "  <tbody>\n",
       "    <tr>\n",
       "      <th>2</th>\n",
       "      <td>2016-01-01</td>\n",
       "      <td>Delta Airlines</td>\n",
       "      <td>LAX</td>\n",
       "      <td>ATL</td>\n",
       "      <td>1.0</td>\n",
       "      <td>19.0</td>\n",
       "      <td>5.0</td>\n",
       "      <td>-13.0</td>\n",
       "      <td>0.0</td>\n",
       "      <td>245.0</td>\n",
       "      <td>231.0</td>\n",
       "      <td>207.0</td>\n",
       "      <td>1947.0</td>\n",
       "      <td>0.0</td>\n",
       "      <td>0.0</td>\n",
       "      <td>0.0</td>\n",
       "      <td>0.0</td>\n",
       "      <td>0.0</td>\n",
       "      <td>19.0</td>\n",
       "      <td>5.0</td>\n",
       "    </tr>\n",
       "    <tr>\n",
       "      <th>3</th>\n",
       "      <td>2016-01-01</td>\n",
       "      <td>Delta Airlines</td>\n",
       "      <td>SLC</td>\n",
       "      <td>ATL</td>\n",
       "      <td>4.0</td>\n",
       "      <td>12.0</td>\n",
       "      <td>8.0</td>\n",
       "      <td>-16.0</td>\n",
       "      <td>0.0</td>\n",
       "      <td>213.0</td>\n",
       "      <td>193.0</td>\n",
       "      <td>173.0</td>\n",
       "      <td>1590.0</td>\n",
       "      <td>0.0</td>\n",
       "      <td>0.0</td>\n",
       "      <td>0.0</td>\n",
       "      <td>0.0</td>\n",
       "      <td>0.0</td>\n",
       "      <td>12.0</td>\n",
       "      <td>8.0</td>\n",
       "    </tr>\n",
       "    <tr>\n",
       "      <th>6</th>\n",
       "      <td>2016-01-01</td>\n",
       "      <td>Delta Airlines</td>\n",
       "      <td>BNA</td>\n",
       "      <td>ATL</td>\n",
       "      <td>86.0</td>\n",
       "      <td>15.0</td>\n",
       "      <td>6.0</td>\n",
       "      <td>74.0</td>\n",
       "      <td>0.0</td>\n",
       "      <td>70.0</td>\n",
       "      <td>58.0</td>\n",
       "      <td>37.0</td>\n",
       "      <td>214.0</td>\n",
       "      <td>3.0</td>\n",
       "      <td>0.0</td>\n",
       "      <td>0.0</td>\n",
       "      <td>0.0</td>\n",
       "      <td>71.0</td>\n",
       "      <td>15.0</td>\n",
       "      <td>6.0</td>\n",
       "    </tr>\n",
       "    <tr>\n",
       "      <th>8</th>\n",
       "      <td>2016-01-01</td>\n",
       "      <td>Delta Airlines</td>\n",
       "      <td>JAX</td>\n",
       "      <td>ATL</td>\n",
       "      <td>-1.0</td>\n",
       "      <td>12.0</td>\n",
       "      <td>8.0</td>\n",
       "      <td>-15.0</td>\n",
       "      <td>0.0</td>\n",
       "      <td>77.0</td>\n",
       "      <td>63.0</td>\n",
       "      <td>43.0</td>\n",
       "      <td>270.0</td>\n",
       "      <td>0.0</td>\n",
       "      <td>0.0</td>\n",
       "      <td>0.0</td>\n",
       "      <td>0.0</td>\n",
       "      <td>0.0</td>\n",
       "      <td>12.0</td>\n",
       "      <td>8.0</td>\n",
       "    </tr>\n",
       "    <tr>\n",
       "      <th>13</th>\n",
       "      <td>2016-01-01</td>\n",
       "      <td>Delta Airlines</td>\n",
       "      <td>MDT</td>\n",
       "      <td>ATL</td>\n",
       "      <td>-10.0</td>\n",
       "      <td>11.0</td>\n",
       "      <td>11.0</td>\n",
       "      <td>-15.0</td>\n",
       "      <td>0.0</td>\n",
       "      <td>132.0</td>\n",
       "      <td>127.0</td>\n",
       "      <td>105.0</td>\n",
       "      <td>620.0</td>\n",
       "      <td>0.0</td>\n",
       "      <td>0.0</td>\n",
       "      <td>0.0</td>\n",
       "      <td>0.0</td>\n",
       "      <td>0.0</td>\n",
       "      <td>11.0</td>\n",
       "      <td>11.0</td>\n",
       "    </tr>\n",
       "  </tbody>\n",
       "</table>\n",
       "</div>"
      ],
      "text/plain": [
       "      FL_DATE      OP_CARRIER ORIGIN DEST  DEP_DELAY  TAXI_OUT  TAXI_IN  \\\n",
       "2  2016-01-01  Delta Airlines    LAX  ATL        1.0      19.0      5.0   \n",
       "3  2016-01-01  Delta Airlines    SLC  ATL        4.0      12.0      8.0   \n",
       "6  2016-01-01  Delta Airlines    BNA  ATL       86.0      15.0      6.0   \n",
       "8  2016-01-01  Delta Airlines    JAX  ATL       -1.0      12.0      8.0   \n",
       "13 2016-01-01  Delta Airlines    MDT  ATL      -10.0      11.0     11.0   \n",
       "\n",
       "    ARR_DELAY  DIVERTED  CRS_ELAPSED_TIME  ACTUAL_ELAPSED_TIME  AIR_TIME  \\\n",
       "2       -13.0       0.0             245.0                231.0     207.0   \n",
       "3       -16.0       0.0             213.0                193.0     173.0   \n",
       "6        74.0       0.0              70.0                 58.0      37.0   \n",
       "8       -15.0       0.0              77.0                 63.0      43.0   \n",
       "13      -15.0       0.0             132.0                127.0     105.0   \n",
       "\n",
       "    DISTANCE  CARRIER_DELAY  WEATHER_DELAY  NAS_DELAY  SECURITY_DELAY  \\\n",
       "2     1947.0            0.0            0.0        0.0             0.0   \n",
       "3     1590.0            0.0            0.0        0.0             0.0   \n",
       "6      214.0            3.0            0.0        0.0             0.0   \n",
       "8      270.0            0.0            0.0        0.0             0.0   \n",
       "13     620.0            0.0            0.0        0.0             0.0   \n",
       "\n",
       "    LATE_AIRCRAFT_DELAY  WHEELS_OFF_elapse  WHEELS_ON_elapse  \n",
       "2                   0.0               19.0               5.0  \n",
       "3                   0.0               12.0               8.0  \n",
       "6                  71.0               15.0               6.0  \n",
       "8                   0.0               12.0               8.0  \n",
       "13                  0.0               11.0              11.0  "
      ]
     },
     "execution_count": 28,
     "metadata": {},
     "output_type": "execute_result"
    }
   ],
   "source": [
    "boolean_series =  flight_data.DEST.isin(city_list)\n",
    "flight_data =  flight_data[boolean_series]\n",
    "flight_data.head()"
   ]
  },
  {
   "cell_type": "code",
   "execution_count": 29,
   "id": "2c5cec70",
   "metadata": {},
   "outputs": [
    {
     "name": "stdout",
     "output_type": "stream",
     "text": [
      "<class 'pandas.core.frame.DataFrame'>\n",
      "Int64Index: 379991 entries, 2 to 5617492\n",
      "Data columns (total 20 columns):\n",
      " #   Column               Non-Null Count   Dtype         \n",
      "---  ------               --------------   -----         \n",
      " 0   FL_DATE              379991 non-null  datetime64[ns]\n",
      " 1   OP_CARRIER           379991 non-null  object        \n",
      " 2   ORIGIN               379991 non-null  object        \n",
      " 3   DEST                 379991 non-null  object        \n",
      " 4   DEP_DELAY            379991 non-null  float64       \n",
      " 5   TAXI_OUT             379991 non-null  float64       \n",
      " 6   TAXI_IN              379991 non-null  float64       \n",
      " 7   ARR_DELAY            379991 non-null  float64       \n",
      " 8   DIVERTED             379991 non-null  float64       \n",
      " 9   CRS_ELAPSED_TIME     379991 non-null  float64       \n",
      " 10  ACTUAL_ELAPSED_TIME  379991 non-null  float64       \n",
      " 11  AIR_TIME             379991 non-null  float64       \n",
      " 12  DISTANCE             379991 non-null  float64       \n",
      " 13  CARRIER_DELAY        379991 non-null  float64       \n",
      " 14  WEATHER_DELAY        379991 non-null  float64       \n",
      " 15  NAS_DELAY            379991 non-null  float64       \n",
      " 16  SECURITY_DELAY       379991 non-null  float64       \n",
      " 17  LATE_AIRCRAFT_DELAY  379991 non-null  float64       \n",
      " 18  WHEELS_OFF_elapse    379991 non-null  float64       \n",
      " 19  WHEELS_ON_elapse     379991 non-null  float64       \n",
      "dtypes: datetime64[ns](1), float64(16), object(3)\n",
      "memory usage: 60.9+ MB\n"
     ]
    }
   ],
   "source": [
    "flight_data.info()"
   ]
  },
  {
   "cell_type": "markdown",
   "id": "f151d687",
   "metadata": {},
   "source": [
    "# Transformation for Date"
   ]
  },
  {
   "cell_type": "code",
   "execution_count": 30,
   "id": "e82e78c4",
   "metadata": {},
   "outputs": [
    {
     "data": {
      "text/html": [
       "<div>\n",
       "<style scoped>\n",
       "    .dataframe tbody tr th:only-of-type {\n",
       "        vertical-align: middle;\n",
       "    }\n",
       "\n",
       "    .dataframe tbody tr th {\n",
       "        vertical-align: top;\n",
       "    }\n",
       "\n",
       "    .dataframe thead th {\n",
       "        text-align: right;\n",
       "    }\n",
       "</style>\n",
       "<table border=\"1\" class=\"dataframe\">\n",
       "  <thead>\n",
       "    <tr style=\"text-align: right;\">\n",
       "      <th></th>\n",
       "      <th>FL_DATE</th>\n",
       "      <th>OP_CARRIER</th>\n",
       "      <th>ORIGIN</th>\n",
       "      <th>DEST</th>\n",
       "      <th>DEP_DELAY</th>\n",
       "      <th>TAXI_OUT</th>\n",
       "      <th>TAXI_IN</th>\n",
       "      <th>ARR_DELAY</th>\n",
       "      <th>DIVERTED</th>\n",
       "      <th>CRS_ELAPSED_TIME</th>\n",
       "      <th>ACTUAL_ELAPSED_TIME</th>\n",
       "      <th>AIR_TIME</th>\n",
       "      <th>DISTANCE</th>\n",
       "      <th>CARRIER_DELAY</th>\n",
       "      <th>WEATHER_DELAY</th>\n",
       "      <th>NAS_DELAY</th>\n",
       "      <th>SECURITY_DELAY</th>\n",
       "      <th>LATE_AIRCRAFT_DELAY</th>\n",
       "      <th>WHEELS_OFF_elapse</th>\n",
       "      <th>WHEELS_ON_elapse</th>\n",
       "      <th>DAY</th>\n",
       "      <th>MONTH</th>\n",
       "      <th>MONTH_AB</th>\n",
       "      <th>DAYOFWEEK</th>\n",
       "      <th>DAYNAME</th>\n",
       "      <th>WEEKDAY</th>\n",
       "    </tr>\n",
       "  </thead>\n",
       "  <tbody>\n",
       "    <tr>\n",
       "      <th>2</th>\n",
       "      <td>2016-01-01</td>\n",
       "      <td>Delta Airlines</td>\n",
       "      <td>LAX</td>\n",
       "      <td>ATL</td>\n",
       "      <td>1.0</td>\n",
       "      <td>19.0</td>\n",
       "      <td>5.0</td>\n",
       "      <td>-13.0</td>\n",
       "      <td>0.0</td>\n",
       "      <td>245.0</td>\n",
       "      <td>231.0</td>\n",
       "      <td>207.0</td>\n",
       "      <td>1947.0</td>\n",
       "      <td>0.0</td>\n",
       "      <td>0.0</td>\n",
       "      <td>0.0</td>\n",
       "      <td>0.0</td>\n",
       "      <td>0.0</td>\n",
       "      <td>19.0</td>\n",
       "      <td>5.0</td>\n",
       "      <td>1</td>\n",
       "      <td>1</td>\n",
       "      <td>Jan</td>\n",
       "      <td>4</td>\n",
       "      <td>Friday</td>\n",
       "      <td>1</td>\n",
       "    </tr>\n",
       "    <tr>\n",
       "      <th>3</th>\n",
       "      <td>2016-01-01</td>\n",
       "      <td>Delta Airlines</td>\n",
       "      <td>SLC</td>\n",
       "      <td>ATL</td>\n",
       "      <td>4.0</td>\n",
       "      <td>12.0</td>\n",
       "      <td>8.0</td>\n",
       "      <td>-16.0</td>\n",
       "      <td>0.0</td>\n",
       "      <td>213.0</td>\n",
       "      <td>193.0</td>\n",
       "      <td>173.0</td>\n",
       "      <td>1590.0</td>\n",
       "      <td>0.0</td>\n",
       "      <td>0.0</td>\n",
       "      <td>0.0</td>\n",
       "      <td>0.0</td>\n",
       "      <td>0.0</td>\n",
       "      <td>12.0</td>\n",
       "      <td>8.0</td>\n",
       "      <td>1</td>\n",
       "      <td>1</td>\n",
       "      <td>Jan</td>\n",
       "      <td>4</td>\n",
       "      <td>Friday</td>\n",
       "      <td>1</td>\n",
       "    </tr>\n",
       "  </tbody>\n",
       "</table>\n",
       "</div>"
      ],
      "text/plain": [
       "     FL_DATE      OP_CARRIER ORIGIN DEST  DEP_DELAY  TAXI_OUT  TAXI_IN  \\\n",
       "2 2016-01-01  Delta Airlines    LAX  ATL        1.0      19.0      5.0   \n",
       "3 2016-01-01  Delta Airlines    SLC  ATL        4.0      12.0      8.0   \n",
       "\n",
       "   ARR_DELAY  DIVERTED  CRS_ELAPSED_TIME  ACTUAL_ELAPSED_TIME  AIR_TIME  \\\n",
       "2      -13.0       0.0             245.0                231.0     207.0   \n",
       "3      -16.0       0.0             213.0                193.0     173.0   \n",
       "\n",
       "   DISTANCE  CARRIER_DELAY  WEATHER_DELAY  NAS_DELAY  SECURITY_DELAY  \\\n",
       "2    1947.0            0.0            0.0        0.0             0.0   \n",
       "3    1590.0            0.0            0.0        0.0             0.0   \n",
       "\n",
       "   LATE_AIRCRAFT_DELAY  WHEELS_OFF_elapse  WHEELS_ON_elapse  DAY  MONTH  \\\n",
       "2                  0.0               19.0               5.0    1      1   \n",
       "3                  0.0               12.0               8.0    1      1   \n",
       "\n",
       "  MONTH_AB  DAYOFWEEK DAYNAME  WEEKDAY  \n",
       "2      Jan          4  Friday        1  \n",
       "3      Jan          4  Friday        1  "
      ]
     },
     "execution_count": 30,
     "metadata": {},
     "output_type": "execute_result"
    }
   ],
   "source": [
    "import calendar\n",
    "flight_date=pd.DatetimeIndex(flight_data['FL_DATE'])\n",
    "\n",
    "flight_data['DAY'] = flight_date.day\n",
    "flight_data['MONTH'] = flight_date.month\n",
    "flight_data['MONTH_AB'] = flight_data['MONTH'].apply(lambda x: calendar.month_abbr[x])\n",
    "flight_data['DAYOFWEEK'] = flight_date.dayofweek\n",
    "flight_data['DAYNAME'] = flight_data['DAYOFWEEK'].apply(lambda x: calendar.day_name[x])\n",
    "\n",
    "# 1 Weekday, 0 Weekend\n",
    "daytype = []\n",
    "for value in flight_data['DAYOFWEEK']:\n",
    "    if value in (0,1,2,3,4):\n",
    "        daytype.append(1) #weekday\n",
    "    else:\n",
    "        daytype.append(0) #weekend\n",
    "flight_data['WEEKDAY'] = daytype\n",
    "flight_data.head(2)"
   ]
  },
  {
   "cell_type": "code",
   "execution_count": 31,
   "id": "bf25d5b7",
   "metadata": {},
   "outputs": [
    {
     "name": "stdout",
     "output_type": "stream",
     "text": [
      "Maximum number of days in a month: 31\n",
      "Total number of months: 12\n",
      "Total number of days per week: 7\n",
      "\n",
      "Months present in dataframe: [ 1  2  3  4  5  6  7  8  9 10 11 12]\n",
      "Months present in dataframe: ['Jan' 'Feb' 'Mar' 'Apr' 'May' 'Jun' 'Jul' 'Aug' 'Sep' 'Oct' 'Nov' 'Dec']\n",
      "\n",
      "Days present in dataframe: [4 5 6 0 1 2 3]\n",
      "Days present in dataframe: ['Friday' 'Saturday' 'Sunday' 'Monday' 'Tuesday' 'Wednesday' 'Thursday']\n"
     ]
    }
   ],
   "source": [
    "# For checking\n",
    "print('Maximum number of days in a month:', flight_data.DAY.nunique())\n",
    "print('Total number of months:', flight_data.MONTH.nunique())\n",
    "print('Total number of days per week:', flight_data.DAYNAME.nunique())\n",
    "\n",
    "print()\n",
    "\n",
    "print('Months present in dataframe:',flight_data.MONTH.unique())\n",
    "print('Months present in dataframe:', flight_data.MONTH_AB.unique())\n",
    "\n",
    "print()\n",
    "print('Days present in dataframe:', flight_data['DAYOFWEEK'].unique())\n",
    "print('Days present in dataframe:', flight_data.DAYNAME.unique())"
   ]
  },
  {
   "cell_type": "markdown",
   "id": "9e08fc1c",
   "metadata": {},
   "source": [
    "# Rename of Airports and city name\n",
    "These two column have the IATA airports codes for the origin and destination. I will try to change it to a real city name so that I can do flight analysis per city as well as part of the EDA.\n",
    "\n",
    "For this purpose I found a file called airports from 2015, therefore it might be incomplete so I will have to play with it and see what I can do to complete it.\n",
    "\n",
    "Lets start by loading the file and by exploring it:\n",
    "\n",
    "Columns ORIGIN and DEST are made up of the IATA airports codes to display the origin and destination. Cleaning of the columns are required to obtain the city name for further flight analysis by destination. For this purpose I found a file called airports from 2015, therefore it might be incomplete so I will have to play with it and see what I can do to complete it."
   ]
  },
  {
   "cell_type": "code",
   "execution_count": 32,
   "id": "4e444820",
   "metadata": {},
   "outputs": [
    {
     "data": {
      "text/html": [
       "<div>\n",
       "<style scoped>\n",
       "    .dataframe tbody tr th:only-of-type {\n",
       "        vertical-align: middle;\n",
       "    }\n",
       "\n",
       "    .dataframe tbody tr th {\n",
       "        vertical-align: top;\n",
       "    }\n",
       "\n",
       "    .dataframe thead th {\n",
       "        text-align: right;\n",
       "    }\n",
       "</style>\n",
       "<table border=\"1\" class=\"dataframe\">\n",
       "  <thead>\n",
       "    <tr style=\"text-align: right;\">\n",
       "      <th></th>\n",
       "      <th>IATA_CODE</th>\n",
       "      <th>AIRPORT</th>\n",
       "      <th>CITY</th>\n",
       "    </tr>\n",
       "  </thead>\n",
       "  <tbody>\n",
       "    <tr>\n",
       "      <th>0</th>\n",
       "      <td>AZA</td>\n",
       "      <td>Phoenix-Mesa Gateway Airport</td>\n",
       "      <td>NaN</td>\n",
       "    </tr>\n",
       "    <tr>\n",
       "      <th>1</th>\n",
       "      <td>BKG</td>\n",
       "      <td>Branson Airport</td>\n",
       "      <td>NaN</td>\n",
       "    </tr>\n",
       "    <tr>\n",
       "      <th>2</th>\n",
       "      <td>ABE</td>\n",
       "      <td>Lehigh Valley International Airport</td>\n",
       "      <td>Allentown</td>\n",
       "    </tr>\n",
       "    <tr>\n",
       "      <th>3</th>\n",
       "      <td>ABI</td>\n",
       "      <td>Abilene Regional Airport</td>\n",
       "      <td>Abilene</td>\n",
       "    </tr>\n",
       "    <tr>\n",
       "      <th>4</th>\n",
       "      <td>ABQ</td>\n",
       "      <td>Albuquerque International Sunport</td>\n",
       "      <td>Albuquerque</td>\n",
       "    </tr>\n",
       "    <tr>\n",
       "      <th>5</th>\n",
       "      <td>ABR</td>\n",
       "      <td>Aberdeen Regional Airport</td>\n",
       "      <td>Aberdeen</td>\n",
       "    </tr>\n",
       "    <tr>\n",
       "      <th>6</th>\n",
       "      <td>ABY</td>\n",
       "      <td>Southwest Georgia Regional Airport</td>\n",
       "      <td>Albany</td>\n",
       "    </tr>\n",
       "    <tr>\n",
       "      <th>7</th>\n",
       "      <td>ACK</td>\n",
       "      <td>Nantucket Memorial Airport</td>\n",
       "      <td>Nantucket</td>\n",
       "    </tr>\n",
       "    <tr>\n",
       "      <th>8</th>\n",
       "      <td>ACT</td>\n",
       "      <td>Waco Regional Airport</td>\n",
       "      <td>Waco</td>\n",
       "    </tr>\n",
       "    <tr>\n",
       "      <th>9</th>\n",
       "      <td>ACV</td>\n",
       "      <td>Arcata Airport</td>\n",
       "      <td>Arcata/Eureka</td>\n",
       "    </tr>\n",
       "  </tbody>\n",
       "</table>\n",
       "</div>"
      ],
      "text/plain": [
       "  IATA_CODE                              AIRPORT           CITY\n",
       "0       AZA         Phoenix-Mesa Gateway Airport            NaN\n",
       "1       BKG                      Branson Airport            NaN\n",
       "2       ABE  Lehigh Valley International Airport      Allentown\n",
       "3       ABI             Abilene Regional Airport        Abilene\n",
       "4       ABQ    Albuquerque International Sunport    Albuquerque\n",
       "5       ABR            Aberdeen Regional Airport       Aberdeen\n",
       "6       ABY   Southwest Georgia Regional Airport         Albany\n",
       "7       ACK           Nantucket Memorial Airport      Nantucket\n",
       "8       ACT                Waco Regional Airport           Waco\n",
       "9       ACV                       Arcata Airport  Arcata/Eureka"
      ]
     },
     "execution_count": 32,
     "metadata": {},
     "output_type": "execute_result"
    }
   ],
   "source": [
    "airports = pd.read_csv('airports.csv')\n",
    "airports.head(10)"
   ]
  },
  {
   "cell_type": "code",
   "execution_count": 33,
   "id": "093c51e6",
   "metadata": {},
   "outputs": [
    {
     "name": "stdout",
     "output_type": "stream",
     "text": [
      "There are 353 rows and 3 columns from the airport dataset.\n"
     ]
    }
   ],
   "source": [
    "# Check dimension of dataset\n",
    "airports.shape\n",
    "print(\"There are \"+ str(airports.shape[0]) +\" rows and \"+ str(airports.shape[1]) +\" columns from the airport dataset.\")"
   ]
  },
  {
   "cell_type": "code",
   "execution_count": 34,
   "id": "b21cfef5",
   "metadata": {},
   "outputs": [
    {
     "name": "stdout",
     "output_type": "stream",
     "text": [
      "There are 353 records\n"
     ]
    }
   ],
   "source": [
    "print(\"There are \"+str(len(airports.IATA_CODE.unique()))+\" records\")"
   ]
  },
  {
   "cell_type": "code",
   "execution_count": 35,
   "id": "e9016189",
   "metadata": {},
   "outputs": [],
   "source": [
    "# Covert to list\n",
    "airport_IATA_CODE = list(airports['IATA_CODE'])"
   ]
  },
  {
   "cell_type": "code",
   "execution_count": 36,
   "id": "0110a220",
   "metadata": {},
   "outputs": [
    {
     "data": {
      "text/plain": [
       "array(['LAX', 'SLC', 'BNA', 'JAX', 'MDT', 'SAV', 'BUF', 'PNS', 'CMH',\n",
       "       'DAL', 'MEM', 'SEA', 'RDU', 'PIT', 'SRQ', 'SDF', 'RIC', 'LAS',\n",
       "       'FAY', 'JAC', 'GRR', 'EYW', 'MCI', 'ROC', 'TPA', 'DEN', 'CHS',\n",
       "       'CVG', 'FLL', 'BWI', 'RSW', 'LGA', 'DTW', 'MIA', 'GSO', 'CLE',\n",
       "       'GPT', 'LIT', 'IAH', 'PHL', 'MCO', 'IND', 'DAY', 'OKC', 'PHX',\n",
       "       'BDL', 'STL', 'OMA', 'CAE', 'SAN', 'SJU', 'BOS', 'ORD', 'SAT',\n",
       "       'MSY', 'PBI', 'MKE', 'SFO', 'SJC', 'IAD', 'DFW', 'AUS', 'ABQ',\n",
       "       'HOU', 'MSP', 'DCA', 'HDN', 'SGF', 'MSN', 'MLB', 'TUL', 'PDX',\n",
       "       'ECP', 'HSV', 'BHM', 'EWR', 'TYS', 'SYR', 'MDW', 'ALB', 'BZN',\n",
       "       'FNT', 'MLI', 'MLU', 'CHA', 'MYR', 'GSP', 'MGM', 'OAJ', 'VPS',\n",
       "       'SHV', 'GNV', 'TLH', 'BMI', 'TRI', 'FSM', 'VLD', 'GTR', 'BTR',\n",
       "       'BQK', 'XNA', 'DHN', 'ORF', 'ILM', 'AGS', 'ROA', 'LEX', 'HPN',\n",
       "       'JAN', 'GRK', 'CRW', 'CID', 'LFT', 'AEX', 'PIA', 'AVL', 'PHF',\n",
       "       'MOB', 'ABE', 'DSM', 'CLT', 'ABY', 'EWN', 'EVV', 'CSG', 'TTN',\n",
       "       'CAK', 'OAK', 'FWA', 'ASE', 'SBN', 'GRB', 'CHO', 'ELP', 'HNL',\n",
       "       'STT', 'DAB', 'ATW', 'PVD', 'SNA', 'COS', 'SMF', 'EGE', 'ICT',\n",
       "       'MTJ', 'AVP', 'JFK', 'TUS', 'STX', 'PWM', 'MHT', 'ELM', 'LNK',\n",
       "       'FAR', 'BTV', 'SCE', 'FSD', 'RST', 'ACY', 'ANC', 'FCA', 'RAP',\n",
       "       'TVC', 'MSO', 'RNO'], dtype=object)"
      ]
     },
     "execution_count": 36,
     "metadata": {},
     "output_type": "execute_result"
    }
   ],
   "source": [
    "flight_data.ORIGIN.unique()"
   ]
  },
  {
   "cell_type": "code",
   "execution_count": 37,
   "id": "58a19bcc",
   "metadata": {},
   "outputs": [
    {
     "name": "stdout",
     "output_type": "stream",
     "text": [
      "Type:\n",
      "<class 'list'>\n",
      "<class 'list'>\n",
      "\n",
      "Length:\n",
      "Origin: 165\n",
      "Destination: 1\n"
     ]
    }
   ],
   "source": [
    "# Get the list of origin and destination from `flight_data` \n",
    "flight_ORIGIN = flight_data.ORIGIN.unique().tolist()\n",
    "flight_DEST = flight_data.DEST.unique().tolist()\n",
    "\n",
    "# Check type\n",
    "print(\"Type:\")\n",
    "print(type(flight_ORIGIN))\n",
    "print(type(flight_DEST))\n",
    "print()\n",
    "print(\"Length:\")\n",
    "print(\"Origin: \"+str(len(flight_ORIGIN)))\n",
    "print(\"Destination: \"+str(len(flight_DEST)))"
   ]
  },
  {
   "cell_type": "markdown",
   "id": "5d0b30cb",
   "metadata": {},
   "source": [
    "# Between flight_ORIGIN and airport_IATA_CODE"
   ]
  },
  {
   "cell_type": "code",
   "execution_count": 38,
   "id": "28f1de5f",
   "metadata": {},
   "outputs": [
    {
     "name": "stdout",
     "output_type": "stream",
     "text": [
      "IATA Code (Origin) that is not found from the airport data:\n",
      "[]\n",
      "\n",
      "There are 0\n"
     ]
    }
   ],
   "source": [
    "difference = [item for item in flight_ORIGIN if item not in airport_IATA_CODE]\n",
    "print(\"IATA Code (Origin) that is not found from the airport data:\")\n",
    "print(difference)\n",
    "print()\n",
    "print(\"There are \"+str(len(difference)))"
   ]
  },
  {
   "cell_type": "markdown",
   "id": "5b8a3b3f",
   "metadata": {},
   "source": [
    "# Between flight_DEST and airport_IATA_CODE"
   ]
  },
  {
   "cell_type": "code",
   "execution_count": 39,
   "id": "97c22b91",
   "metadata": {},
   "outputs": [
    {
     "name": "stdout",
     "output_type": "stream",
     "text": [
      "IATA Code (Destination) that is not found from airport data:\n",
      "[]\n",
      "\n"
     ]
    }
   ],
   "source": [
    "difference_2 = [item for item in flight_DEST if item not in airport_IATA_CODE]\n",
    "print(\"IATA Code (Destination) that is not found from airport data:\")\n",
    "print(difference_2)\n",
    "print()"
   ]
  },
  {
   "cell_type": "markdown",
   "id": "ddea8cda",
   "metadata": {},
   "source": [
    "The next step if to save this dataframe ass a .csv file and to open it in Excel where I will add the necessary columns to make it match with the airports dataframe. These columns are:\n",
    "\n",
    "> Airport Name\n",
    "\n",
    "> City Name"
   ]
  },
  {
   "cell_type": "code",
   "execution_count": 40,
   "id": "76608362",
   "metadata": {},
   "outputs": [
    {
     "name": "stdout",
     "output_type": "stream",
     "text": [
      "<class 'dict'>\n"
     ]
    }
   ],
   "source": [
    "# Creating a dictionary and looking at its type for QC purposes\n",
    "airport_dict = pd.Series(airports.AIRPORT.values, index=airports.IATA_CODE).to_dict()\n",
    "print(type(airport_dict))"
   ]
  },
  {
   "cell_type": "code",
   "execution_count": 41,
   "id": "2e688df5",
   "metadata": {},
   "outputs": [
    {
     "data": {
      "text/html": [
       "<div>\n",
       "<style scoped>\n",
       "    .dataframe tbody tr th:only-of-type {\n",
       "        vertical-align: middle;\n",
       "    }\n",
       "\n",
       "    .dataframe tbody tr th {\n",
       "        vertical-align: top;\n",
       "    }\n",
       "\n",
       "    .dataframe thead th {\n",
       "        text-align: right;\n",
       "    }\n",
       "</style>\n",
       "<table border=\"1\" class=\"dataframe\">\n",
       "  <thead>\n",
       "    <tr style=\"text-align: right;\">\n",
       "      <th></th>\n",
       "      <th>FL_DATE</th>\n",
       "      <th>OP_CARRIER</th>\n",
       "      <th>ORIGIN</th>\n",
       "      <th>DEST</th>\n",
       "      <th>DEP_DELAY</th>\n",
       "      <th>TAXI_OUT</th>\n",
       "      <th>TAXI_IN</th>\n",
       "      <th>ARR_DELAY</th>\n",
       "      <th>DIVERTED</th>\n",
       "      <th>CRS_ELAPSED_TIME</th>\n",
       "      <th>ACTUAL_ELAPSED_TIME</th>\n",
       "      <th>AIR_TIME</th>\n",
       "      <th>DISTANCE</th>\n",
       "      <th>CARRIER_DELAY</th>\n",
       "      <th>WEATHER_DELAY</th>\n",
       "      <th>NAS_DELAY</th>\n",
       "      <th>SECURITY_DELAY</th>\n",
       "      <th>LATE_AIRCRAFT_DELAY</th>\n",
       "      <th>WHEELS_OFF_elapse</th>\n",
       "      <th>WHEELS_ON_elapse</th>\n",
       "      <th>DAY</th>\n",
       "      <th>MONTH</th>\n",
       "      <th>MONTH_AB</th>\n",
       "      <th>DAYOFWEEK</th>\n",
       "      <th>DAYNAME</th>\n",
       "      <th>WEEKDAY</th>\n",
       "    </tr>\n",
       "  </thead>\n",
       "  <tbody>\n",
       "    <tr>\n",
       "      <th>2</th>\n",
       "      <td>2016-01-01</td>\n",
       "      <td>Delta Airlines</td>\n",
       "      <td>Los Angeles International Airport</td>\n",
       "      <td>Hartsfield-Jackson Atlanta International Airport</td>\n",
       "      <td>1.0</td>\n",
       "      <td>19.0</td>\n",
       "      <td>5.0</td>\n",
       "      <td>-13.0</td>\n",
       "      <td>0.0</td>\n",
       "      <td>245.0</td>\n",
       "      <td>231.0</td>\n",
       "      <td>207.0</td>\n",
       "      <td>1947.0</td>\n",
       "      <td>0.0</td>\n",
       "      <td>0.0</td>\n",
       "      <td>0.0</td>\n",
       "      <td>0.0</td>\n",
       "      <td>0.0</td>\n",
       "      <td>19.0</td>\n",
       "      <td>5.0</td>\n",
       "      <td>1</td>\n",
       "      <td>1</td>\n",
       "      <td>Jan</td>\n",
       "      <td>4</td>\n",
       "      <td>Friday</td>\n",
       "      <td>1</td>\n",
       "    </tr>\n",
       "    <tr>\n",
       "      <th>3</th>\n",
       "      <td>2016-01-01</td>\n",
       "      <td>Delta Airlines</td>\n",
       "      <td>Salt Lake City International Airport</td>\n",
       "      <td>Hartsfield-Jackson Atlanta International Airport</td>\n",
       "      <td>4.0</td>\n",
       "      <td>12.0</td>\n",
       "      <td>8.0</td>\n",
       "      <td>-16.0</td>\n",
       "      <td>0.0</td>\n",
       "      <td>213.0</td>\n",
       "      <td>193.0</td>\n",
       "      <td>173.0</td>\n",
       "      <td>1590.0</td>\n",
       "      <td>0.0</td>\n",
       "      <td>0.0</td>\n",
       "      <td>0.0</td>\n",
       "      <td>0.0</td>\n",
       "      <td>0.0</td>\n",
       "      <td>12.0</td>\n",
       "      <td>8.0</td>\n",
       "      <td>1</td>\n",
       "      <td>1</td>\n",
       "      <td>Jan</td>\n",
       "      <td>4</td>\n",
       "      <td>Friday</td>\n",
       "      <td>1</td>\n",
       "    </tr>\n",
       "    <tr>\n",
       "      <th>6</th>\n",
       "      <td>2016-01-01</td>\n",
       "      <td>Delta Airlines</td>\n",
       "      <td>Nashville International Airport</td>\n",
       "      <td>Hartsfield-Jackson Atlanta International Airport</td>\n",
       "      <td>86.0</td>\n",
       "      <td>15.0</td>\n",
       "      <td>6.0</td>\n",
       "      <td>74.0</td>\n",
       "      <td>0.0</td>\n",
       "      <td>70.0</td>\n",
       "      <td>58.0</td>\n",
       "      <td>37.0</td>\n",
       "      <td>214.0</td>\n",
       "      <td>3.0</td>\n",
       "      <td>0.0</td>\n",
       "      <td>0.0</td>\n",
       "      <td>0.0</td>\n",
       "      <td>71.0</td>\n",
       "      <td>15.0</td>\n",
       "      <td>6.0</td>\n",
       "      <td>1</td>\n",
       "      <td>1</td>\n",
       "      <td>Jan</td>\n",
       "      <td>4</td>\n",
       "      <td>Friday</td>\n",
       "      <td>1</td>\n",
       "    </tr>\n",
       "    <tr>\n",
       "      <th>8</th>\n",
       "      <td>2016-01-01</td>\n",
       "      <td>Delta Airlines</td>\n",
       "      <td>Jacksonville International Airport</td>\n",
       "      <td>Hartsfield-Jackson Atlanta International Airport</td>\n",
       "      <td>-1.0</td>\n",
       "      <td>12.0</td>\n",
       "      <td>8.0</td>\n",
       "      <td>-15.0</td>\n",
       "      <td>0.0</td>\n",
       "      <td>77.0</td>\n",
       "      <td>63.0</td>\n",
       "      <td>43.0</td>\n",
       "      <td>270.0</td>\n",
       "      <td>0.0</td>\n",
       "      <td>0.0</td>\n",
       "      <td>0.0</td>\n",
       "      <td>0.0</td>\n",
       "      <td>0.0</td>\n",
       "      <td>12.0</td>\n",
       "      <td>8.0</td>\n",
       "      <td>1</td>\n",
       "      <td>1</td>\n",
       "      <td>Jan</td>\n",
       "      <td>4</td>\n",
       "      <td>Friday</td>\n",
       "      <td>1</td>\n",
       "    </tr>\n",
       "    <tr>\n",
       "      <th>13</th>\n",
       "      <td>2016-01-01</td>\n",
       "      <td>Delta Airlines</td>\n",
       "      <td>Harrisburg International Airport</td>\n",
       "      <td>Hartsfield-Jackson Atlanta International Airport</td>\n",
       "      <td>-10.0</td>\n",
       "      <td>11.0</td>\n",
       "      <td>11.0</td>\n",
       "      <td>-15.0</td>\n",
       "      <td>0.0</td>\n",
       "      <td>132.0</td>\n",
       "      <td>127.0</td>\n",
       "      <td>105.0</td>\n",
       "      <td>620.0</td>\n",
       "      <td>0.0</td>\n",
       "      <td>0.0</td>\n",
       "      <td>0.0</td>\n",
       "      <td>0.0</td>\n",
       "      <td>0.0</td>\n",
       "      <td>11.0</td>\n",
       "      <td>11.0</td>\n",
       "      <td>1</td>\n",
       "      <td>1</td>\n",
       "      <td>Jan</td>\n",
       "      <td>4</td>\n",
       "      <td>Friday</td>\n",
       "      <td>1</td>\n",
       "    </tr>\n",
       "  </tbody>\n",
       "</table>\n",
       "</div>"
      ],
      "text/plain": [
       "      FL_DATE      OP_CARRIER                                ORIGIN  \\\n",
       "2  2016-01-01  Delta Airlines     Los Angeles International Airport   \n",
       "3  2016-01-01  Delta Airlines  Salt Lake City International Airport   \n",
       "6  2016-01-01  Delta Airlines       Nashville International Airport   \n",
       "8  2016-01-01  Delta Airlines    Jacksonville International Airport   \n",
       "13 2016-01-01  Delta Airlines      Harrisburg International Airport   \n",
       "\n",
       "                                                DEST  DEP_DELAY  TAXI_OUT  \\\n",
       "2   Hartsfield-Jackson Atlanta International Airport        1.0      19.0   \n",
       "3   Hartsfield-Jackson Atlanta International Airport        4.0      12.0   \n",
       "6   Hartsfield-Jackson Atlanta International Airport       86.0      15.0   \n",
       "8   Hartsfield-Jackson Atlanta International Airport       -1.0      12.0   \n",
       "13  Hartsfield-Jackson Atlanta International Airport      -10.0      11.0   \n",
       "\n",
       "    TAXI_IN  ARR_DELAY  DIVERTED  CRS_ELAPSED_TIME  ACTUAL_ELAPSED_TIME  \\\n",
       "2       5.0      -13.0       0.0             245.0                231.0   \n",
       "3       8.0      -16.0       0.0             213.0                193.0   \n",
       "6       6.0       74.0       0.0              70.0                 58.0   \n",
       "8       8.0      -15.0       0.0              77.0                 63.0   \n",
       "13     11.0      -15.0       0.0             132.0                127.0   \n",
       "\n",
       "    AIR_TIME  DISTANCE  CARRIER_DELAY  WEATHER_DELAY  NAS_DELAY  \\\n",
       "2      207.0    1947.0            0.0            0.0        0.0   \n",
       "3      173.0    1590.0            0.0            0.0        0.0   \n",
       "6       37.0     214.0            3.0            0.0        0.0   \n",
       "8       43.0     270.0            0.0            0.0        0.0   \n",
       "13     105.0     620.0            0.0            0.0        0.0   \n",
       "\n",
       "    SECURITY_DELAY  LATE_AIRCRAFT_DELAY  WHEELS_OFF_elapse  WHEELS_ON_elapse  \\\n",
       "2              0.0                  0.0               19.0               5.0   \n",
       "3              0.0                  0.0               12.0               8.0   \n",
       "6              0.0                 71.0               15.0               6.0   \n",
       "8              0.0                  0.0               12.0               8.0   \n",
       "13             0.0                  0.0               11.0              11.0   \n",
       "\n",
       "    DAY  MONTH MONTH_AB  DAYOFWEEK DAYNAME  WEEKDAY  \n",
       "2     1      1      Jan          4  Friday        1  \n",
       "3     1      1      Jan          4  Friday        1  \n",
       "6     1      1      Jan          4  Friday        1  \n",
       "8     1      1      Jan          4  Friday        1  \n",
       "13    1      1      Jan          4  Friday        1  "
      ]
     },
     "execution_count": 41,
     "metadata": {},
     "output_type": "execute_result"
    }
   ],
   "source": [
    "flight_data['ORIGIN'].replace(airport_dict, inplace=True)\n",
    "flight_data['DEST'].replace(airport_dict, inplace=True)\n",
    "flight_data.head()"
   ]
  },
  {
   "cell_type": "markdown",
   "id": "aea9570f",
   "metadata": {},
   "source": [
    "# Transformation of Target attribute: Flight status\n",
    "FLIGHT_STATUS is the outcome of the flight whether it arrives destination on time or it is delayed, thus the responses is binary where 0 is for flights that arrive earlier or on time and 1 is for flights that are delayed."
   ]
  },
  {
   "cell_type": "code",
   "execution_count": 42,
   "id": "3c0ca770",
   "metadata": {},
   "outputs": [],
   "source": [
    "status = []\n",
    "\n",
    "for value in flight_data['ARR_DELAY']:\n",
    "    if value <= 15:\n",
    "        status.append(0)\n",
    "    else:\n",
    "        status.append(1)\n",
    "flight_data['FLIGHT_STATUS'] = status   "
   ]
  },
  {
   "cell_type": "markdown",
   "id": "7e61e838",
   "metadata": {},
   "source": [
    "#  Exploratory Data Analysis"
   ]
  },
  {
   "cell_type": "code",
   "execution_count": 43,
   "id": "ec077a43",
   "metadata": {},
   "outputs": [],
   "source": [
    "flight_category = flight_data.select_dtypes(include=['object','category'])\n",
    "flight_numerical = flight_data.select_dtypes(exclude=['object'])"
   ]
  },
  {
   "cell_type": "code",
   "execution_count": 44,
   "id": "f0e7c0bb",
   "metadata": {},
   "outputs": [
    {
     "data": {
      "text/plain": [
       "[Text(0.5, 0, 'Number of counts')]"
      ]
     },
     "execution_count": 44,
     "metadata": {},
     "output_type": "execute_result"
    },
    {
     "data": {
      "image/png": "[encoded data removed]",
      "text/plain": [
       "<Figure size 640x480 with 1 Axes>"
      ]
     },
     "metadata": {},
     "output_type": "display_data"
    }
   ],
   "source": [
    "# Output Barplot showing the occurence of flight outcome\n",
    "\n",
    "sns.set_context(\"notebook\")\n",
    "g=sns.countplot(x=\"FLIGHT_STATUS\",data=flight_data)\n",
    "g.set(xlabel=\"Number of counts\")"
   ]
  },
  {
   "cell_type": "code",
   "execution_count": 45,
   "id": "2ce1c31c",
   "metadata": {},
   "outputs": [
    {
     "data": {
      "text/plain": [
       "[Text(0.5, 0, 'Number of counts')]"
      ]
     },
     "execution_count": 45,
     "metadata": {},
     "output_type": "execute_result"
    },
    {
     "data": {
      "image/png": "[encoded data removed]",
      "text/plain": [
       "<Figure size 640x480 with 1 Axes>"
      ]
     },
     "metadata": {},
     "output_type": "display_data"
    }
   ],
   "source": [
    "# Output Barplot showing the occurence of each categorical features         \n",
    "\n",
    "sns.set_context(\"notebook\")\n",
    "g=sns.countplot(y=\"OP_CARRIER\",data=flight_category)\n",
    "g.set(xlabel=\"Number of counts\")"
   ]
  },
  {
   "cell_type": "code",
   "execution_count": 46,
   "id": "e94d872f",
   "metadata": {},
   "outputs": [
    {
     "data": {
      "text/plain": [
       "[Text(0.5, 0, 'Number of counts')]"
      ]
     },
     "execution_count": 46,
     "metadata": {},
     "output_type": "execute_result"
    },
    {
     "data": {
      "image/png": "[encoded data removed]",
      "text/plain": [
       "<Figure size 640x480 with 1 Axes>"
      ]
     },
     "metadata": {},
     "output_type": "display_data"
    }
   ],
   "source": [
    "# Output Barplot showing the occurence of each categorical features         \n",
    "\n",
    "sns.set_context(\"notebook\")\n",
    "g=sns.countplot(y=\"DEST\",data=flight_category)\n",
    "g.set(xlabel=\"Number of counts\")"
   ]
  },
  {
   "cell_type": "code",
   "execution_count": 47,
   "id": "589dae33",
   "metadata": {},
   "outputs": [
    {
     "data": {
      "image/png": "[encoded data removed]",
      "text/plain": [
       "<Figure size 1200x1200 with 2 Axes>"
      ]
     },
     "metadata": {},
     "output_type": "display_data"
    }
   ],
   "source": [
    "# Finding categorical features\n",
    "\n",
    "category = []\n",
    "for i in flight_category:\n",
    "    if i in [\"ORIGIN\",\"DEST\",\"OP_CARRIER\",\"FLIGHT_STATUS\"]:\n",
    "        pass\n",
    "    else:\n",
    "        category.append(i)\n",
    "        \n",
    "# Output Barplot showing the occurence of each categorical features         \n",
    "fig, ax = plt.subplots(ncols=2, figsize=(12,12))\n",
    "plt.subplots_adjust(right=2)\n",
    "plt.subplots_adjust(top=2.5)\n",
    "sns.color_palette(\"husl\", 8)\n",
    "sns.set_context(\"poster\")\n",
    "\n",
    "#ncols=2,nrows=round(len(list(category))/2)\n",
    "\n",
    "for i, feature in enumerate(list(flight_category[category]), 1):\n",
    "    plt.subplot(len(list(category)), 2, i)\n",
    "    g=sns.countplot(x=feature,data=flight_category)\n",
    "    g.set(ylabel=\"Number of counts\")\n",
    "    plt.xticks(rotation=45)\n",
    "   \n",
    "plt.show()"
   ]
  },
  {
   "cell_type": "markdown",
   "id": "6d5e2b2c",
   "metadata": {},
   "source": [
    "# Classification Modelling\n",
    "\n",
    "## Data Preparation\n",
    ">Encoding\n",
    "\n",
    ">Feature Selection\n",
    "\n",
    "### One hot encoding for categorical attributes\n",
    "We converted some categorical variables into numeric variables via one hot encoding method in which one dummy variable would be created for every object in the categorical variable. If the particular object is present, the value would be denoted as 1, otherwise the value would be 0."
   ]
  },
  {
   "cell_type": "code",
   "execution_count": 48,
   "id": "66a6f633",
   "metadata": {},
   "outputs": [],
   "source": [
    "Carrier = pd.get_dummies(flight_data['OP_CARRIER'],prefix=\"OP_CARRIER\",drop_first=False)\n",
    "#Destination = pd.get_dummies(flight_data['DEST'],drop_first=False)\n",
    "#Destination.columns = ['Charlotte_Airport','Chicago_Airport','Dallas_Airpot','Denver_Airport','Dentroit_Airport','GELL_Airpot','George_Aiport','Hartsfield_Airport','JohnFKeenedy_Airpot','LaGuardia_Airport','LosAngelas_Airport','McCarran_Airport','MSP_Airport','NL_Airport','Orlando_Airport','Philadelphia_Airport','Phoenix_Airport','Ronald_Airport','SanFrancisco_Airport','Seattle_Aiport']                  \n",
    "month= pd.get_dummies(flight_data['MONTH_AB'],prefix=\"MONTH\",drop_first=False)\n",
    "day= pd.get_dummies(flight_data['DAYNAME'],prefix=\"DAY\",drop_first=False)\n",
    "\n",
    "#flight_data_new=pd.concat([flight_data,Carrier,Destination,month,day],axis=1)\n",
    "flight_data_new=pd.concat([flight_data,Carrier,month,day],axis=1)"
   ]
  },
  {
   "cell_type": "code",
   "execution_count": 49,
   "id": "dfa0985c",
   "metadata": {},
   "outputs": [
    {
     "data": {
      "text/html": [
       "<div>\n",
       "<style scoped>\n",
       "    .dataframe tbody tr th:only-of-type {\n",
       "        vertical-align: middle;\n",
       "    }\n",
       "\n",
       "    .dataframe tbody tr th {\n",
       "        vertical-align: top;\n",
       "    }\n",
       "\n",
       "    .dataframe thead th {\n",
       "        text-align: right;\n",
       "    }\n",
       "</style>\n",
       "<table border=\"1\" class=\"dataframe\">\n",
       "  <thead>\n",
       "    <tr style=\"text-align: right;\">\n",
       "      <th></th>\n",
       "      <th>FL_DATE</th>\n",
       "      <th>OP_CARRIER</th>\n",
       "      <th>ORIGIN</th>\n",
       "      <th>DEST</th>\n",
       "      <th>DEP_DELAY</th>\n",
       "      <th>TAXI_OUT</th>\n",
       "      <th>TAXI_IN</th>\n",
       "      <th>ARR_DELAY</th>\n",
       "      <th>DIVERTED</th>\n",
       "      <th>CRS_ELAPSED_TIME</th>\n",
       "      <th>ACTUAL_ELAPSED_TIME</th>\n",
       "      <th>AIR_TIME</th>\n",
       "      <th>DISTANCE</th>\n",
       "      <th>CARRIER_DELAY</th>\n",
       "      <th>WEATHER_DELAY</th>\n",
       "      <th>NAS_DELAY</th>\n",
       "      <th>SECURITY_DELAY</th>\n",
       "      <th>LATE_AIRCRAFT_DELAY</th>\n",
       "      <th>WHEELS_OFF_elapse</th>\n",
       "      <th>WHEELS_ON_elapse</th>\n",
       "      <th>DAY</th>\n",
       "      <th>MONTH</th>\n",
       "      <th>MONTH_AB</th>\n",
       "      <th>DAYOFWEEK</th>\n",
       "      <th>DAYNAME</th>\n",
       "      <th>WEEKDAY</th>\n",
       "      <th>FLIGHT_STATUS</th>\n",
       "      <th>OP_CARRIER_Alaska Airlines</th>\n",
       "      <th>OP_CARRIER_American Airlines</th>\n",
       "      <th>OP_CARRIER_Delta Airlines</th>\n",
       "      <th>OP_CARRIER_ExpressJet</th>\n",
       "      <th>OP_CARRIER_Frontier Airlines</th>\n",
       "      <th>OP_CARRIER_SkyWest Airlines</th>\n",
       "      <th>OP_CARRIER_Southwest Airlines</th>\n",
       "      <th>OP_CARRIER_Spirit Airlines</th>\n",
       "      <th>OP_CARRIER_United Airlines</th>\n",
       "      <th>MONTH_Apr</th>\n",
       "      <th>MONTH_Aug</th>\n",
       "      <th>MONTH_Dec</th>\n",
       "      <th>MONTH_Feb</th>\n",
       "      <th>MONTH_Jan</th>\n",
       "      <th>MONTH_Jul</th>\n",
       "      <th>MONTH_Jun</th>\n",
       "      <th>MONTH_Mar</th>\n",
       "      <th>MONTH_May</th>\n",
       "      <th>MONTH_Nov</th>\n",
       "      <th>MONTH_Oct</th>\n",
       "      <th>MONTH_Sep</th>\n",
       "      <th>DAY_Friday</th>\n",
       "      <th>DAY_Monday</th>\n",
       "      <th>DAY_Saturday</th>\n",
       "      <th>DAY_Sunday</th>\n",
       "      <th>DAY_Thursday</th>\n",
       "      <th>DAY_Tuesday</th>\n",
       "      <th>DAY_Wednesday</th>\n",
       "    </tr>\n",
       "  </thead>\n",
       "  <tbody>\n",
       "    <tr>\n",
       "      <th>2</th>\n",
       "      <td>2016-01-01</td>\n",
       "      <td>Delta Airlines</td>\n",
       "      <td>Los Angeles International Airport</td>\n",
       "      <td>Hartsfield-Jackson Atlanta International Airport</td>\n",
       "      <td>1.0</td>\n",
       "      <td>19.0</td>\n",
       "      <td>5.0</td>\n",
       "      <td>-13.0</td>\n",
       "      <td>0.0</td>\n",
       "      <td>245.0</td>\n",
       "      <td>231.0</td>\n",
       "      <td>207.0</td>\n",
       "      <td>1947.0</td>\n",
       "      <td>0.0</td>\n",
       "      <td>0.0</td>\n",
       "      <td>0.0</td>\n",
       "      <td>0.0</td>\n",
       "      <td>0.0</td>\n",
       "      <td>19.0</td>\n",
       "      <td>5.0</td>\n",
       "      <td>1</td>\n",
       "      <td>1</td>\n",
       "      <td>Jan</td>\n",
       "      <td>4</td>\n",
       "      <td>Friday</td>\n",
       "      <td>1</td>\n",
       "      <td>0</td>\n",
       "      <td>0</td>\n",
       "      <td>0</td>\n",
       "      <td>1</td>\n",
       "      <td>0</td>\n",
       "      <td>0</td>\n",
       "      <td>0</td>\n",
       "      <td>0</td>\n",
       "      <td>0</td>\n",
       "      <td>0</td>\n",
       "      <td>0</td>\n",
       "      <td>0</td>\n",
       "      <td>0</td>\n",
       "      <td>0</td>\n",
       "      <td>1</td>\n",
       "      <td>0</td>\n",
       "      <td>0</td>\n",
       "      <td>0</td>\n",
       "      <td>0</td>\n",
       "      <td>0</td>\n",
       "      <td>0</td>\n",
       "      <td>0</td>\n",
       "      <td>1</td>\n",
       "      <td>0</td>\n",
       "      <td>0</td>\n",
       "      <td>0</td>\n",
       "      <td>0</td>\n",
       "      <td>0</td>\n",
       "      <td>0</td>\n",
       "    </tr>\n",
       "    <tr>\n",
       "      <th>3</th>\n",
       "      <td>2016-01-01</td>\n",
       "      <td>Delta Airlines</td>\n",
       "      <td>Salt Lake City International Airport</td>\n",
       "      <td>Hartsfield-Jackson Atlanta International Airport</td>\n",
       "      <td>4.0</td>\n",
       "      <td>12.0</td>\n",
       "      <td>8.0</td>\n",
       "      <td>-16.0</td>\n",
       "      <td>0.0</td>\n",
       "      <td>213.0</td>\n",
       "      <td>193.0</td>\n",
       "      <td>173.0</td>\n",
       "      <td>1590.0</td>\n",
       "      <td>0.0</td>\n",
       "      <td>0.0</td>\n",
       "      <td>0.0</td>\n",
       "      <td>0.0</td>\n",
       "      <td>0.0</td>\n",
       "      <td>12.0</td>\n",
       "      <td>8.0</td>\n",
       "      <td>1</td>\n",
       "      <td>1</td>\n",
       "      <td>Jan</td>\n",
       "      <td>4</td>\n",
       "      <td>Friday</td>\n",
       "      <td>1</td>\n",
       "      <td>0</td>\n",
       "      <td>0</td>\n",
       "      <td>0</td>\n",
       "      <td>1</td>\n",
       "      <td>0</td>\n",
       "      <td>0</td>\n",
       "      <td>0</td>\n",
       "      <td>0</td>\n",
       "      <td>0</td>\n",
       "      <td>0</td>\n",
       "      <td>0</td>\n",
       "      <td>0</td>\n",
       "      <td>0</td>\n",
       "      <td>0</td>\n",
       "      <td>1</td>\n",
       "      <td>0</td>\n",
       "      <td>0</td>\n",
       "      <td>0</td>\n",
       "      <td>0</td>\n",
       "      <td>0</td>\n",
       "      <td>0</td>\n",
       "      <td>0</td>\n",
       "      <td>1</td>\n",
       "      <td>0</td>\n",
       "      <td>0</td>\n",
       "      <td>0</td>\n",
       "      <td>0</td>\n",
       "      <td>0</td>\n",
       "      <td>0</td>\n",
       "    </tr>\n",
       "  </tbody>\n",
       "</table>\n",
       "</div>"
      ],
      "text/plain": [
       "     FL_DATE      OP_CARRIER                                ORIGIN  \\\n",
       "2 2016-01-01  Delta Airlines     Los Angeles International Airport   \n",
       "3 2016-01-01  Delta Airlines  Salt Lake City International Airport   \n",
       "\n",
       "                                               DEST  DEP_DELAY  TAXI_OUT  \\\n",
       "2  Hartsfield-Jackson Atlanta International Airport        1.0      19.0   \n",
       "3  Hartsfield-Jackson Atlanta International Airport        4.0      12.0   \n",
       "\n",
       "   TAXI_IN  ARR_DELAY  DIVERTED  CRS_ELAPSED_TIME  ACTUAL_ELAPSED_TIME  \\\n",
       "2      5.0      -13.0       0.0             245.0                231.0   \n",
       "3      8.0      -16.0       0.0             213.0                193.0   \n",
       "\n",
       "   AIR_TIME  DISTANCE  CARRIER_DELAY  WEATHER_DELAY  NAS_DELAY  \\\n",
       "2     207.0    1947.0            0.0            0.0        0.0   \n",
       "3     173.0    1590.0            0.0            0.0        0.0   \n",
       "\n",
       "   SECURITY_DELAY  LATE_AIRCRAFT_DELAY  WHEELS_OFF_elapse  WHEELS_ON_elapse  \\\n",
       "2             0.0                  0.0               19.0               5.0   \n",
       "3             0.0                  0.0               12.0               8.0   \n",
       "\n",
       "   DAY  MONTH MONTH_AB  DAYOFWEEK DAYNAME  WEEKDAY  FLIGHT_STATUS  \\\n",
       "2    1      1      Jan          4  Friday        1              0   \n",
       "3    1      1      Jan          4  Friday        1              0   \n",
       "\n",
       "   OP_CARRIER_Alaska Airlines  OP_CARRIER_American Airlines  \\\n",
       "2                           0                             0   \n",
       "3                           0                             0   \n",
       "\n",
       "   OP_CARRIER_Delta Airlines  OP_CARRIER_ExpressJet  \\\n",
       "2                          1                      0   \n",
       "3                          1                      0   \n",
       "\n",
       "   OP_CARRIER_Frontier Airlines  OP_CARRIER_SkyWest Airlines  \\\n",
       "2                             0                            0   \n",
       "3                             0                            0   \n",
       "\n",
       "   OP_CARRIER_Southwest Airlines  OP_CARRIER_Spirit Airlines  \\\n",
       "2                              0                           0   \n",
       "3                              0                           0   \n",
       "\n",
       "   OP_CARRIER_United Airlines  MONTH_Apr  MONTH_Aug  MONTH_Dec  MONTH_Feb  \\\n",
       "2                           0          0          0          0          0   \n",
       "3                           0          0          0          0          0   \n",
       "\n",
       "   MONTH_Jan  MONTH_Jul  MONTH_Jun  MONTH_Mar  MONTH_May  MONTH_Nov  \\\n",
       "2          1          0          0          0          0          0   \n",
       "3          1          0          0          0          0          0   \n",
       "\n",
       "   MONTH_Oct  MONTH_Sep  DAY_Friday  DAY_Monday  DAY_Saturday  DAY_Sunday  \\\n",
       "2          0          0           1           0             0           0   \n",
       "3          0          0           1           0             0           0   \n",
       "\n",
       "   DAY_Thursday  DAY_Tuesday  DAY_Wednesday  \n",
       "2             0            0              0  \n",
       "3             0            0              0  "
      ]
     },
     "execution_count": 49,
     "metadata": {},
     "output_type": "execute_result"
    }
   ],
   "source": [
    "flight_data_new.head(2)"
   ]
  },
  {
   "cell_type": "markdown",
   "id": "5724fe3d",
   "metadata": {},
   "source": [
    "# Feature selection\n"
   ]
  },
  {
   "cell_type": "code",
   "execution_count": 50,
   "id": "2664367f",
   "metadata": {},
   "outputs": [],
   "source": [
    "# Drop the redundant columns \n",
    "\n",
    "flight_data_new.drop(['FL_DATE', \n",
    "                      'OP_CARRIER',\n",
    "                      'ORIGIN',\n",
    "                      'DEST',\n",
    "                      'DAYOFWEEK',\n",
    "                      'MONTH',\n",
    "                      'MONTH_AB',\n",
    "                      'DAY',\n",
    "                      'DAYNAME',\n",
    "                      'WEEKDAY',\n",
    "                      'ARR_DELAY',\n",
    "                      'CARRIER_DELAY',\n",
    "                      'WEATHER_DELAY',\n",
    "                      'NAS_DELAY',\n",
    "                      'SECURITY_DELAY',\n",
    "                      'LATE_AIRCRAFT_DELAY'\n",
    "                 ],\n",
    "                 axis = 1, inplace = True)"
   ]
  },
  {
   "cell_type": "code",
   "execution_count": 51,
   "id": "e5a8066e",
   "metadata": {},
   "outputs": [
    {
     "name": "stdout",
     "output_type": "stream",
     "text": [
      "Requirement already satisfied: feature_engine in c:\\users\\dwight jones\\anaconda3\\a\\lib\\site-packages (1.6.2)\n",
      "Requirement already satisfied: scikit-learn>=1.0.0 in c:\\users\\dwight jones\\anaconda3\\a\\lib\\site-packages (from feature_engine) (1.0.2)\n",
      "Requirement already satisfied: scipy>=1.4.1 in c:\\users\\dwight jones\\anaconda3\\a\\lib\\site-packages (from feature_engine) (1.9.1)\n",
      "Requirement already satisfied: statsmodels>=0.11.1 in c:\\users\\dwight jones\\anaconda3\\a\\lib\\site-packages (from feature_engine) (0.13.2)\n",
      "Requirement already satisfied: pandas>=1.0.3 in c:\\users\\dwight jones\\anaconda3\\a\\lib\\site-packages (from feature_engine) (1.4.4)\n",
      "Requirement already satisfied: numpy>=1.18.2 in c:\\users\\dwight jones\\anaconda3\\a\\lib\\site-packages (from feature_engine) (1.24.3)\n",
      "Requirement already satisfied: python-dateutil>=2.8.1 in c:\\users\\dwight jones\\anaconda3\\a\\lib\\site-packages (from pandas>=1.0.3->feature_engine) (2.8.2)\n",
      "Requirement already satisfied: pytz>=2020.1 in c:\\users\\dwight jones\\anaconda3\\a\\lib\\site-packages (from pandas>=1.0.3->feature_engine) (2022.1)\n",
      "Requirement already satisfied: threadpoolctl>=2.0.0 in c:\\users\\dwight jones\\anaconda3\\a\\lib\\site-packages (from scikit-learn>=1.0.0->feature_engine) (2.2.0)\n",
      "Requirement already satisfied: joblib>=0.11 in c:\\users\\dwight jones\\anaconda3\\a\\lib\\site-packages (from scikit-learn>=1.0.0->feature_engine) (1.1.0)\n",
      "Requirement already satisfied: patsy>=0.5.2 in c:\\users\\dwight jones\\anaconda3\\a\\lib\\site-packages (from statsmodels>=0.11.1->feature_engine) (0.5.2)\n",
      "Requirement already satisfied: packaging>=21.3 in c:\\users\\dwight jones\\anaconda3\\a\\lib\\site-packages (from statsmodels>=0.11.1->feature_engine) (21.3)\n",
      "Requirement already satisfied: pyparsing!=3.0.5,>=2.0.2 in c:\\users\\dwight jones\\anaconda3\\a\\lib\\site-packages (from packaging>=21.3->statsmodels>=0.11.1->feature_engine) (3.0.9)\n",
      "Requirement already satisfied: six in c:\\users\\dwight jones\\anaconda3\\a\\lib\\site-packages (from patsy>=0.5.2->statsmodels>=0.11.1->feature_engine) (1.16.0)\n",
      "Note: you may need to restart the kernel to use updated packages.\n"
     ]
    }
   ],
   "source": [
    "pip install feature_engine"
   ]
  },
  {
   "cell_type": "code",
   "execution_count": 52,
   "id": "8cf244c3",
   "metadata": {},
   "outputs": [
    {
     "name": "stdout",
     "output_type": "stream",
     "text": [
      "<class 'pandas.core.frame.DataFrame'>\n",
      "Int64Index: 379991 entries, 2 to 5617492\n",
      "Data columns (total 39 columns):\n",
      " #   Column                         Non-Null Count   Dtype  \n",
      "---  ------                         --------------   -----  \n",
      " 0   DEP_DELAY                      379991 non-null  float64\n",
      " 1   TAXI_OUT                       379991 non-null  float64\n",
      " 2   TAXI_IN                        379991 non-null  float64\n",
      " 3   DIVERTED                       379991 non-null  float64\n",
      " 4   CRS_ELAPSED_TIME               379991 non-null  float64\n",
      " 5   ACTUAL_ELAPSED_TIME            379991 non-null  float64\n",
      " 6   AIR_TIME                       379991 non-null  float64\n",
      " 7   DISTANCE                       379991 non-null  float64\n",
      " 8   WHEELS_OFF_elapse              379991 non-null  float64\n",
      " 9   WHEELS_ON_elapse               379991 non-null  float64\n",
      " 10  FLIGHT_STATUS                  379991 non-null  int64  \n",
      " 11  OP_CARRIER_Alaska Airlines     379991 non-null  uint8  \n",
      " 12  OP_CARRIER_American Airlines   379991 non-null  uint8  \n",
      " 13  OP_CARRIER_Delta Airlines      379991 non-null  uint8  \n",
      " 14  OP_CARRIER_ExpressJet          379991 non-null  uint8  \n",
      " 15  OP_CARRIER_Frontier Airlines   379991 non-null  uint8  \n",
      " 16  OP_CARRIER_SkyWest Airlines    379991 non-null  uint8  \n",
      " 17  OP_CARRIER_Southwest Airlines  379991 non-null  uint8  \n",
      " 18  OP_CARRIER_Spirit Airlines     379991 non-null  uint8  \n",
      " 19  OP_CARRIER_United Airlines     379991 non-null  uint8  \n",
      " 20  MONTH_Apr                      379991 non-null  uint8  \n",
      " 21  MONTH_Aug                      379991 non-null  uint8  \n",
      " 22  MONTH_Dec                      379991 non-null  uint8  \n",
      " 23  MONTH_Feb                      379991 non-null  uint8  \n",
      " 24  MONTH_Jan                      379991 non-null  uint8  \n",
      " 25  MONTH_Jul                      379991 non-null  uint8  \n",
      " 26  MONTH_Jun                      379991 non-null  uint8  \n",
      " 27  MONTH_Mar                      379991 non-null  uint8  \n",
      " 28  MONTH_May                      379991 non-null  uint8  \n",
      " 29  MONTH_Nov                      379991 non-null  uint8  \n",
      " 30  MONTH_Oct                      379991 non-null  uint8  \n",
      " 31  MONTH_Sep                      379991 non-null  uint8  \n",
      " 32  DAY_Friday                     379991 non-null  uint8  \n",
      " 33  DAY_Monday                     379991 non-null  uint8  \n",
      " 34  DAY_Saturday                   379991 non-null  uint8  \n",
      " 35  DAY_Sunday                     379991 non-null  uint8  \n",
      " 36  DAY_Thursday                   379991 non-null  uint8  \n",
      " 37  DAY_Tuesday                    379991 non-null  uint8  \n",
      " 38  DAY_Wednesday                  379991 non-null  uint8  \n",
      "dtypes: float64(10), int64(1), uint8(28)\n",
      "memory usage: 44.9 MB\n"
     ]
    }
   ],
   "source": [
    "flight_data_new.info()"
   ]
  },
  {
   "cell_type": "code",
   "execution_count": 53,
   "id": "a10e9c90",
   "metadata": {},
   "outputs": [],
   "source": [
    "from sklearn.model_selection import train_test_split\n",
    "from feature_engine.selection import DropConstantFeatures"
   ]
  },
  {
   "cell_type": "code",
   "execution_count": 54,
   "id": "9ce839d4",
   "metadata": {},
   "outputs": [
    {
     "data": {
      "text/plain": [
       "((303992, 38), (75999, 38))"
      ]
     },
     "execution_count": 54,
     "metadata": {},
     "output_type": "execute_result"
    }
   ],
   "source": [
    "# separate train and test (again, as we transformed the previous ones)\n",
    "\n",
    "X_train, X_test, y_train, y_test = train_test_split(\n",
    "    flight_data_new.drop(labels=['FLIGHT_STATUS'], axis=1),\n",
    "    flight_data_new['FLIGHT_STATUS'],\n",
    "    test_size=0.2,\n",
    "    random_state=100)\n",
    "\n",
    "X_train.shape, X_test.shape"
   ]
  },
  {
   "cell_type": "code",
   "execution_count": 55,
   "id": "2bd34048",
   "metadata": {},
   "outputs": [
    {
     "data": {
      "text/plain": [
       "DropConstantFeatures()"
      ]
     },
     "execution_count": 55,
     "metadata": {},
     "output_type": "execute_result"
    }
   ],
   "source": [
    "sel = DropConstantFeatures(tol=1, variables=None, missing_values='raise')\n",
    "sel.fit(X_train)"
   ]
  },
  {
   "cell_type": "code",
   "execution_count": 56,
   "id": "0e8c417a",
   "metadata": {},
   "outputs": [
    {
     "data": {
      "text/plain": [
       "1"
      ]
     },
     "execution_count": 56,
     "metadata": {},
     "output_type": "execute_result"
    }
   ],
   "source": [
    "# number of quasi-constant features\n",
    "\n",
    "len(sel.features_to_drop_)"
   ]
  },
  {
   "cell_type": "code",
   "execution_count": 57,
   "id": "0fd71414",
   "metadata": {},
   "outputs": [
    {
     "data": {
      "text/plain": [
       "['DIVERTED']"
      ]
     },
     "execution_count": 57,
     "metadata": {},
     "output_type": "execute_result"
    }
   ],
   "source": [
    "sel.features_to_drop_"
   ]
  },
  {
   "cell_type": "markdown",
   "id": "3c5d015c",
   "metadata": {},
   "source": [
    "DIVERTED is a constant features with only one kind of response for all instances. This does not give any information to the model, hence we will drop it."
   ]
  },
  {
   "cell_type": "code",
   "execution_count": 58,
   "id": "9ecec3f7",
   "metadata": {},
   "outputs": [],
   "source": [
    "# Drop the redundant columns \n",
    "flight_data_new.drop(['DIVERTED'], axis = 1, inplace = True)"
   ]
  },
  {
   "cell_type": "code",
   "execution_count": 59,
   "id": "9e9e0e3f",
   "metadata": {},
   "outputs": [
    {
     "data": {
      "text/plain": [
       "((303992, 37), (75999, 37))"
      ]
     },
     "execution_count": 59,
     "metadata": {},
     "output_type": "execute_result"
    }
   ],
   "source": [
    "#remove the constant features\n",
    "\n",
    "X_train = sel.transform(X_train)\n",
    "X_test = sel.transform(X_test)\n",
    "\n",
    "X_train.shape, X_test.shape"
   ]
  },
  {
   "cell_type": "markdown",
   "id": "4ef91461",
   "metadata": {},
   "source": [
    "Remove multicollinearity effect (Positive)"
   ]
  },
  {
   "cell_type": "code",
   "execution_count": 60,
   "id": "ab36555e",
   "metadata": {},
   "outputs": [],
   "source": [
    "# build a dataframe with the correlation between features\n",
    "# remember that the absolute value of the correlation\n",
    "# coefficient is important and not the sign\n",
    "\n",
    "corrmat = X_train.corr()\n",
    "corrmat = corrmat.abs().unstack() # absolute value of corr coef\n",
    "corrmat = corrmat.sort_values(ascending=False)\n",
    "corrmat = corrmat[corrmat >= 0.8]\n",
    "corrmat = corrmat[corrmat < 1]\n",
    "corrmat = pd.DataFrame(corrmat).reset_index()\n",
    "corrmat.columns = ['feature1', 'feature2', 'corr']"
   ]
  },
  {
   "cell_type": "code",
   "execution_count": 61,
   "id": "e0c42fc3",
   "metadata": {},
   "outputs": [
    {
     "data": {
      "text/html": [
       "<div>\n",
       "<style scoped>\n",
       "    .dataframe tbody tr th:only-of-type {\n",
       "        vertical-align: middle;\n",
       "    }\n",
       "\n",
       "    .dataframe tbody tr th {\n",
       "        vertical-align: top;\n",
       "    }\n",
       "\n",
       "    .dataframe thead th {\n",
       "        text-align: right;\n",
       "    }\n",
       "</style>\n",
       "<table border=\"1\" class=\"dataframe\">\n",
       "  <thead>\n",
       "    <tr style=\"text-align: right;\">\n",
       "      <th></th>\n",
       "      <th>feature1</th>\n",
       "      <th>feature2</th>\n",
       "      <th>corr</th>\n",
       "    </tr>\n",
       "  </thead>\n",
       "  <tbody>\n",
       "    <tr>\n",
       "      <th>0</th>\n",
       "      <td>TAXI_OUT</td>\n",
       "      <td>WHEELS_OFF_elapse</td>\n",
       "      <td>1.000000</td>\n",
       "    </tr>\n",
       "    <tr>\n",
       "      <th>1</th>\n",
       "      <td>WHEELS_OFF_elapse</td>\n",
       "      <td>TAXI_OUT</td>\n",
       "      <td>1.000000</td>\n",
       "    </tr>\n",
       "    <tr>\n",
       "      <th>2</th>\n",
       "      <td>AIR_TIME</td>\n",
       "      <td>DISTANCE</td>\n",
       "      <td>0.985814</td>\n",
       "    </tr>\n",
       "    <tr>\n",
       "      <th>3</th>\n",
       "      <td>DISTANCE</td>\n",
       "      <td>AIR_TIME</td>\n",
       "      <td>0.985814</td>\n",
       "    </tr>\n",
       "    <tr>\n",
       "      <th>4</th>\n",
       "      <td>AIR_TIME</td>\n",
       "      <td>CRS_ELAPSED_TIME</td>\n",
       "      <td>0.984633</td>\n",
       "    </tr>\n",
       "    <tr>\n",
       "      <th>5</th>\n",
       "      <td>CRS_ELAPSED_TIME</td>\n",
       "      <td>AIR_TIME</td>\n",
       "      <td>0.984633</td>\n",
       "    </tr>\n",
       "    <tr>\n",
       "      <th>6</th>\n",
       "      <td>ACTUAL_ELAPSED_TIME</td>\n",
       "      <td>AIR_TIME</td>\n",
       "      <td>0.982322</td>\n",
       "    </tr>\n",
       "    <tr>\n",
       "      <th>7</th>\n",
       "      <td>AIR_TIME</td>\n",
       "      <td>ACTUAL_ELAPSED_TIME</td>\n",
       "      <td>0.982322</td>\n",
       "    </tr>\n",
       "    <tr>\n",
       "      <th>8</th>\n",
       "      <td>DISTANCE</td>\n",
       "      <td>CRS_ELAPSED_TIME</td>\n",
       "      <td>0.981255</td>\n",
       "    </tr>\n",
       "    <tr>\n",
       "      <th>9</th>\n",
       "      <td>CRS_ELAPSED_TIME</td>\n",
       "      <td>DISTANCE</td>\n",
       "      <td>0.981255</td>\n",
       "    </tr>\n",
       "    <tr>\n",
       "      <th>10</th>\n",
       "      <td>ACTUAL_ELAPSED_TIME</td>\n",
       "      <td>CRS_ELAPSED_TIME</td>\n",
       "      <td>0.972757</td>\n",
       "    </tr>\n",
       "    <tr>\n",
       "      <th>11</th>\n",
       "      <td>CRS_ELAPSED_TIME</td>\n",
       "      <td>ACTUAL_ELAPSED_TIME</td>\n",
       "      <td>0.972757</td>\n",
       "    </tr>\n",
       "    <tr>\n",
       "      <th>12</th>\n",
       "      <td>ACTUAL_ELAPSED_TIME</td>\n",
       "      <td>DISTANCE</td>\n",
       "      <td>0.964693</td>\n",
       "    </tr>\n",
       "    <tr>\n",
       "      <th>13</th>\n",
       "      <td>DISTANCE</td>\n",
       "      <td>ACTUAL_ELAPSED_TIME</td>\n",
       "      <td>0.964693</td>\n",
       "    </tr>\n",
       "  </tbody>\n",
       "</table>\n",
       "</div>"
      ],
      "text/plain": [
       "               feature1             feature2      corr\n",
       "0              TAXI_OUT    WHEELS_OFF_elapse  1.000000\n",
       "1     WHEELS_OFF_elapse             TAXI_OUT  1.000000\n",
       "2              AIR_TIME             DISTANCE  0.985814\n",
       "3              DISTANCE             AIR_TIME  0.985814\n",
       "4              AIR_TIME     CRS_ELAPSED_TIME  0.984633\n",
       "5      CRS_ELAPSED_TIME             AIR_TIME  0.984633\n",
       "6   ACTUAL_ELAPSED_TIME             AIR_TIME  0.982322\n",
       "7              AIR_TIME  ACTUAL_ELAPSED_TIME  0.982322\n",
       "8              DISTANCE     CRS_ELAPSED_TIME  0.981255\n",
       "9      CRS_ELAPSED_TIME             DISTANCE  0.981255\n",
       "10  ACTUAL_ELAPSED_TIME     CRS_ELAPSED_TIME  0.972757\n",
       "11     CRS_ELAPSED_TIME  ACTUAL_ELAPSED_TIME  0.972757\n",
       "12  ACTUAL_ELAPSED_TIME             DISTANCE  0.964693\n",
       "13             DISTANCE  ACTUAL_ELAPSED_TIME  0.964693"
      ]
     },
     "execution_count": 61,
     "metadata": {},
     "output_type": "execute_result"
    }
   ],
   "source": [
    "corrmat"
   ]
  },
  {
   "cell_type": "code",
   "execution_count": 62,
   "id": "90b6c192",
   "metadata": {},
   "outputs": [
    {
     "data": {
      "text/plain": [
       "array(['TAXI_OUT', 'WHEELS_OFF_elapse', 'AIR_TIME', 'DISTANCE',\n",
       "       'CRS_ELAPSED_TIME', 'ACTUAL_ELAPSED_TIME'], dtype=object)"
      ]
     },
     "execution_count": 62,
     "metadata": {},
     "output_type": "execute_result"
    }
   ],
   "source": [
    "corrmat.feature1.unique()"
   ]
  },
  {
   "cell_type": "code",
   "execution_count": 63,
   "id": "fe76376a",
   "metadata": {},
   "outputs": [
    {
     "name": "stdout",
     "output_type": "stream",
     "text": [
      "found 2 correlated groups\n",
      "out of 37 total features\n"
     ]
    }
   ],
   "source": [
    "grouped_feature_ls = []\n",
    "correlated_groups = []\n",
    "\n",
    "for feature in corrmat.feature1.unique():\n",
    "    \n",
    "    if feature not in grouped_feature_ls:\n",
    "\n",
    "        # find all features correlated to a single feature\n",
    "        correlated_block = corrmat[corrmat.feature1 == feature]\n",
    "        grouped_feature_ls = grouped_feature_ls + list(\n",
    "            correlated_block.feature2.unique()) + [feature]\n",
    "\n",
    "        # append the block of features to the list\n",
    "        correlated_groups.append(correlated_block)\n",
    "\n",
    "print('found {} correlated groups'.format(len(correlated_groups)))\n",
    "print('out of {} total features'.format(X_train.shape[1]))"
   ]
  },
  {
   "cell_type": "code",
   "execution_count": 64,
   "id": "5a657655",
   "metadata": {},
   "outputs": [
    {
     "name": "stdout",
     "output_type": "stream",
     "text": [
      "   feature1           feature2  corr\n",
      "0  TAXI_OUT  WHEELS_OFF_elapse   1.0\n",
      "\n",
      "   feature1             feature2      corr\n",
      "2  AIR_TIME             DISTANCE  0.985814\n",
      "4  AIR_TIME     CRS_ELAPSED_TIME  0.984633\n",
      "7  AIR_TIME  ACTUAL_ELAPSED_TIME  0.982322\n",
      "\n"
     ]
    }
   ],
   "source": [
    "# now we can print out each group. We see that some groups contain\n",
    "# only 2 correlated features, some other groups present several features \n",
    "# that are correlated among themselves.\n",
    "\n",
    "for group in correlated_groups:\n",
    "    print(group)\n",
    "    print()"
   ]
  },
  {
   "cell_type": "code",
   "execution_count": 65,
   "id": "6812aa0a",
   "metadata": {},
   "outputs": [
    {
     "data": {
      "text/html": [
       "<div>\n",
       "<style scoped>\n",
       "    .dataframe tbody tr th:only-of-type {\n",
       "        vertical-align: middle;\n",
       "    }\n",
       "\n",
       "    .dataframe tbody tr th {\n",
       "        vertical-align: top;\n",
       "    }\n",
       "\n",
       "    .dataframe thead th {\n",
       "        text-align: right;\n",
       "    }\n",
       "</style>\n",
       "<table border=\"1\" class=\"dataframe\">\n",
       "  <thead>\n",
       "    <tr style=\"text-align: right;\">\n",
       "      <th></th>\n",
       "      <th>feature1</th>\n",
       "      <th>feature2</th>\n",
       "      <th>corr</th>\n",
       "    </tr>\n",
       "  </thead>\n",
       "  <tbody>\n",
       "    <tr>\n",
       "      <th>0</th>\n",
       "      <td>TAXI_OUT</td>\n",
       "      <td>WHEELS_OFF_elapse</td>\n",
       "      <td>1.0</td>\n",
       "    </tr>\n",
       "  </tbody>\n",
       "</table>\n",
       "</div>"
      ],
      "text/plain": [
       "   feature1           feature2  corr\n",
       "0  TAXI_OUT  WHEELS_OFF_elapse   1.0"
      ]
     },
     "execution_count": 65,
     "metadata": {},
     "output_type": "execute_result"
    }
   ],
   "source": [
    "# we can now investigate further features within one group.\n",
    "# let's for example select group 1\n",
    "\n",
    "group = correlated_groups[0]\n",
    "group"
   ]
  },
  {
   "cell_type": "markdown",
   "id": "e5de93d6",
   "metadata": {},
   "source": [
    "In this group, several features are highly correlated. Which one should we keep and which ones should we remove? Alternatively, we could build a machine learning algorithm using all the features from the above list, and select the more predictive one."
   ]
  },
  {
   "cell_type": "code",
   "execution_count": 66,
   "id": "5b3f26c6",
   "metadata": {},
   "outputs": [
    {
     "data": {
      "text/plain": [
       "RandomForestClassifier(max_depth=4, random_state=100)"
      ]
     },
     "execution_count": 66,
     "metadata": {},
     "output_type": "execute_result"
    }
   ],
   "source": [
    "from sklearn.ensemble import RandomForestClassifier\n",
    "\n",
    "# add all features of the group to a list\n",
    "features = list(group['feature2'].unique())+['CRS_ELAPSED_TIME']\n",
    "\n",
    "# train a random forest \n",
    "rf = RandomForestClassifier(n_estimators=100, random_state=100, max_depth=4)\n",
    "rf.fit(X_train[features].fillna(0), y_train)"
   ]
  },
  {
   "cell_type": "code",
   "execution_count": 67,
   "id": "b9069bde",
   "metadata": {},
   "outputs": [
    {
     "data": {
      "text/html": [
       "<div>\n",
       "<style scoped>\n",
       "    .dataframe tbody tr th:only-of-type {\n",
       "        vertical-align: middle;\n",
       "    }\n",
       "\n",
       "    .dataframe tbody tr th {\n",
       "        vertical-align: top;\n",
       "    }\n",
       "\n",
       "    .dataframe thead th {\n",
       "        text-align: right;\n",
       "    }\n",
       "</style>\n",
       "<table border=\"1\" class=\"dataframe\">\n",
       "  <thead>\n",
       "    <tr style=\"text-align: right;\">\n",
       "      <th></th>\n",
       "      <th>feature</th>\n",
       "      <th>importance</th>\n",
       "    </tr>\n",
       "  </thead>\n",
       "  <tbody>\n",
       "    <tr>\n",
       "      <th>0</th>\n",
       "      <td>WHEELS_OFF_elapse</td>\n",
       "      <td>0.96844</td>\n",
       "    </tr>\n",
       "    <tr>\n",
       "      <th>1</th>\n",
       "      <td>CRS_ELAPSED_TIME</td>\n",
       "      <td>0.03156</td>\n",
       "    </tr>\n",
       "  </tbody>\n",
       "</table>\n",
       "</div>"
      ],
      "text/plain": [
       "             feature  importance\n",
       "0  WHEELS_OFF_elapse     0.96844\n",
       "1   CRS_ELAPSED_TIME     0.03156"
      ]
     },
     "execution_count": 67,
     "metadata": {},
     "output_type": "execute_result"
    }
   ],
   "source": [
    "# get the feature importance attributed by the \n",
    "# random forest model (more on this in coming lectures)\n",
    "\n",
    "importance = pd.concat(\n",
    "    [pd.Series(features),\n",
    "     pd.Series(rf.feature_importances_)], axis=1)\n",
    "\n",
    "importance.columns = ['feature', 'importance']\n",
    "\n",
    "# sort features by importance, most important first\n",
    "importance.sort_values(by='importance', ascending=False)"
   ]
  },
  {
   "cell_type": "markdown",
   "id": "8c4a3298",
   "metadata": {},
   "source": [
    "ACTUAL_ELAPSED_TIME,CRS_ELAPSED_TIME,AIR_TIME are highly correlated to each other as they are transformed from the same attributes. Thus, we keep ACTUAL_ELAPSED_TIME as it gives the greatest importance as compared to other attributes."
   ]
  },
  {
   "cell_type": "code",
   "execution_count": 68,
   "id": "66bafdef",
   "metadata": {},
   "outputs": [],
   "source": [
    "#X_train = X_train.drop(['CRS_ELAPSED_TIME','AIR_TIME'], axis = 1, inplace = True)\n",
    "#X_test = X_test.drop(['CRS_ELAPSED_TIME','AIR_TIME'], axis = 1, inplace = True)"
   ]
  },
  {
   "cell_type": "code",
   "execution_count": 69,
   "id": "2c940861",
   "metadata": {},
   "outputs": [],
   "source": [
    "# Drop the redundant columns \n",
    "flight_data_new.drop(['CRS_ELAPSED_TIME','AIR_TIME'], axis = 1, inplace = True)"
   ]
  },
  {
   "cell_type": "code",
   "execution_count": 70,
   "id": "157215ec",
   "metadata": {},
   "outputs": [],
   "source": [
    "# build a dataframe with the correlation between features\n",
    "# remember that the absolute value of the correlation\n",
    "# coefficient is important and not the sign\n",
    "\n",
    "corrmat = X_train.corr()\n",
    "corrmat = corrmat.abs().unstack() # absolute value of corr coef\n",
    "corrmat = corrmat.sort_values(ascending=False)\n",
    "corrmat = corrmat[corrmat <= -0.8]\n",
    "corrmat = corrmat[corrmat > -1]\n",
    "corrmat = pd.DataFrame(corrmat).reset_index()\n",
    "corrmat.columns = ['feature1', 'feature2', 'corr']"
   ]
  },
  {
   "cell_type": "code",
   "execution_count": 71,
   "id": "9e157280",
   "metadata": {},
   "outputs": [
    {
     "name": "stdout",
     "output_type": "stream",
     "text": [
      "found 0 correlated groups\n",
      "out of 37 total features\n"
     ]
    }
   ],
   "source": [
    "grouped_feature_ls = []\n",
    "correlated_groups = []\n",
    "\n",
    "for feature in corrmat.feature1.unique():\n",
    "    \n",
    "    if feature not in grouped_feature_ls:\n",
    "\n",
    "        # find all features correlated to a single feature\n",
    "        correlated_block = corrmat[corrmat.feature1 == feature]\n",
    "        grouped_feature_ls = grouped_feature_ls + list(\n",
    "            correlated_block.feature2.unique()) + [feature]\n",
    "\n",
    "        # append the block of features to the list\n",
    "        correlated_groups.append(correlated_block)\n",
    "\n",
    "print('found {} correlated groups'.format(len(correlated_groups)))\n",
    "print('out of {} total features'.format(X_train.shape[1]))"
   ]
  },
  {
   "cell_type": "markdown",
   "id": "2f1c39a1",
   "metadata": {},
   "source": [
    "# Importance by Random Forest"
   ]
  },
  {
   "cell_type": "code",
   "execution_count": 72,
   "id": "1e77a875",
   "metadata": {},
   "outputs": [
    {
     "data": {
      "text/plain": [
       "((303992, 35), (75999, 35))"
      ]
     },
     "execution_count": 72,
     "metadata": {},
     "output_type": "execute_result"
    }
   ],
   "source": [
    "X_train, X_test, y_train, y_test = train_test_split(\n",
    "    flight_data_new.drop(labels=['FLIGHT_STATUS'], axis=1),\n",
    "    flight_data_new['FLIGHT_STATUS'],\n",
    "    test_size=0.2,\n",
    "    random_state=100)\n",
    "\n",
    "X_train.shape, X_test.shape"
   ]
  },
  {
   "cell_type": "code",
   "execution_count": 73,
   "id": "25f0155f",
   "metadata": {},
   "outputs": [
    {
     "data": {
      "text/plain": [
       "array([6.74231673e-01, 1.31735218e-01, 2.33879182e-02, 1.32216490e-02,\n",
       "       8.45978090e-03, 9.33829824e-02, 2.25761528e-02, 4.51533261e-05,\n",
       "       1.34762314e-04, 1.43593370e-02, 1.59797898e-03, 5.11292104e-05,\n",
       "       7.24506688e-05, 2.64347903e-03, 1.06101632e-03, 3.60800557e-05,\n",
       "       2.34482235e-04, 1.62717537e-03, 2.93687156e-04, 1.78356673e-05,\n",
       "       2.34948999e-05, 4.74525130e-03, 5.45993870e-04, 1.01435334e-04,\n",
       "       5.26349483e-05, 1.01282513e-03, 3.17045943e-03, 3.06674555e-04,\n",
       "       8.54206630e-05, 7.99552515e-05, 1.21097870e-04, 9.37500425e-05,\n",
       "       1.27255086e-04, 2.33921948e-04, 1.29888005e-04])"
      ]
     },
     "execution_count": 73,
     "metadata": {},
     "output_type": "execute_result"
    }
   ],
   "source": [
    "rf = RandomForestClassifier(n_estimators=100, random_state=100, max_depth=5)\n",
    "rf.fit(X_train, y_train)\n",
    "rf.feature_importances_"
   ]
  },
  {
   "cell_type": "code",
   "execution_count": 74,
   "id": "b516a96a",
   "metadata": {},
   "outputs": [
    {
     "data": {
      "image/png": "[encoded data removed]",
      "text/plain": [
       "<Figure size 2000x500 with 1 Axes>"
      ]
     },
     "metadata": {},
     "output_type": "display_data"
    }
   ],
   "source": [
    "# Sorting in descending order and rearranging feature names to match sorted feature importance\n",
    "importance = rf.feature_importances_\n",
    "indices = np.argsort(importance)[::-1] \n",
    "names = [X_train.columns[i] for i in indices]\n",
    "\n",
    "# Bar chart creation\n",
    "sns.set_context(\"notebook\")\n",
    "plt.figure(figsize=(20, 5))\n",
    "plt.title(\"Feature Importance\")\n",
    "plt.bar(range(X_train.shape[1]), importance[indices])\n",
    "plt.xticks(range(X_train.shape[1]), names, rotation = 90)\n",
    "\n",
    "plt.show()"
   ]
  },
  {
   "cell_type": "code",
   "execution_count": 75,
   "id": "1204a9ad",
   "metadata": {},
   "outputs": [
    {
     "data": {
      "text/html": [
       "<div>\n",
       "<style scoped>\n",
       "    .dataframe tbody tr th:only-of-type {\n",
       "        vertical-align: middle;\n",
       "    }\n",
       "\n",
       "    .dataframe tbody tr th {\n",
       "        vertical-align: top;\n",
       "    }\n",
       "\n",
       "    .dataframe thead th {\n",
       "        text-align: right;\n",
       "    }\n",
       "</style>\n",
       "<table border=\"1\" class=\"dataframe\">\n",
       "  <thead>\n",
       "    <tr style=\"text-align: right;\">\n",
       "      <th></th>\n",
       "      <th>0</th>\n",
       "      <th>0</th>\n",
       "    </tr>\n",
       "  </thead>\n",
       "  <tbody>\n",
       "    <tr>\n",
       "      <th>0</th>\n",
       "      <td>DEP_DELAY</td>\n",
       "      <td>0.674232</td>\n",
       "    </tr>\n",
       "    <tr>\n",
       "      <th>1</th>\n",
       "      <td>TAXI_OUT</td>\n",
       "      <td>0.131735</td>\n",
       "    </tr>\n",
       "    <tr>\n",
       "      <th>2</th>\n",
       "      <td>WHEELS_OFF_elapse</td>\n",
       "      <td>0.093383</td>\n",
       "    </tr>\n",
       "    <tr>\n",
       "      <th>3</th>\n",
       "      <td>TAXI_IN</td>\n",
       "      <td>0.023388</td>\n",
       "    </tr>\n",
       "    <tr>\n",
       "      <th>4</th>\n",
       "      <td>WHEELS_ON_elapse</td>\n",
       "      <td>0.022576</td>\n",
       "    </tr>\n",
       "    <tr>\n",
       "      <th>5</th>\n",
       "      <td>OP_CARRIER_Delta Airlines</td>\n",
       "      <td>0.014359</td>\n",
       "    </tr>\n",
       "    <tr>\n",
       "      <th>6</th>\n",
       "      <td>ACTUAL_ELAPSED_TIME</td>\n",
       "      <td>0.013222</td>\n",
       "    </tr>\n",
       "    <tr>\n",
       "      <th>7</th>\n",
       "      <td>DISTANCE</td>\n",
       "      <td>0.008460</td>\n",
       "    </tr>\n",
       "    <tr>\n",
       "      <th>8</th>\n",
       "      <td>MONTH_Jul</td>\n",
       "      <td>0.004745</td>\n",
       "    </tr>\n",
       "    <tr>\n",
       "      <th>9</th>\n",
       "      <td>MONTH_Oct</td>\n",
       "      <td>0.003170</td>\n",
       "    </tr>\n",
       "    <tr>\n",
       "      <th>10</th>\n",
       "      <td>OP_CARRIER_Southwest Airlines</td>\n",
       "      <td>0.002643</td>\n",
       "    </tr>\n",
       "    <tr>\n",
       "      <th>11</th>\n",
       "      <td>MONTH_Aug</td>\n",
       "      <td>0.001627</td>\n",
       "    </tr>\n",
       "    <tr>\n",
       "      <th>12</th>\n",
       "      <td>OP_CARRIER_ExpressJet</td>\n",
       "      <td>0.001598</td>\n",
       "    </tr>\n",
       "    <tr>\n",
       "      <th>13</th>\n",
       "      <td>OP_CARRIER_Spirit Airlines</td>\n",
       "      <td>0.001061</td>\n",
       "    </tr>\n",
       "    <tr>\n",
       "      <th>14</th>\n",
       "      <td>MONTH_Nov</td>\n",
       "      <td>0.001013</td>\n",
       "    </tr>\n",
       "    <tr>\n",
       "      <th>15</th>\n",
       "      <td>MONTH_Jun</td>\n",
       "      <td>0.000546</td>\n",
       "    </tr>\n",
       "    <tr>\n",
       "      <th>16</th>\n",
       "      <td>MONTH_Sep</td>\n",
       "      <td>0.000307</td>\n",
       "    </tr>\n",
       "    <tr>\n",
       "      <th>17</th>\n",
       "      <td>MONTH_Dec</td>\n",
       "      <td>0.000294</td>\n",
       "    </tr>\n",
       "    <tr>\n",
       "      <th>18</th>\n",
       "      <td>MONTH_Apr</td>\n",
       "      <td>0.000234</td>\n",
       "    </tr>\n",
       "    <tr>\n",
       "      <th>19</th>\n",
       "      <td>DAY_Tuesday</td>\n",
       "      <td>0.000234</td>\n",
       "    </tr>\n",
       "    <tr>\n",
       "      <th>20</th>\n",
       "      <td>OP_CARRIER_American Airlines</td>\n",
       "      <td>0.000135</td>\n",
       "    </tr>\n",
       "    <tr>\n",
       "      <th>21</th>\n",
       "      <td>DAY_Wednesday</td>\n",
       "      <td>0.000130</td>\n",
       "    </tr>\n",
       "    <tr>\n",
       "      <th>22</th>\n",
       "      <td>DAY_Thursday</td>\n",
       "      <td>0.000127</td>\n",
       "    </tr>\n",
       "    <tr>\n",
       "      <th>23</th>\n",
       "      <td>DAY_Saturday</td>\n",
       "      <td>0.000121</td>\n",
       "    </tr>\n",
       "    <tr>\n",
       "      <th>24</th>\n",
       "      <td>MONTH_Mar</td>\n",
       "      <td>0.000101</td>\n",
       "    </tr>\n",
       "    <tr>\n",
       "      <th>25</th>\n",
       "      <td>DAY_Sunday</td>\n",
       "      <td>0.000094</td>\n",
       "    </tr>\n",
       "    <tr>\n",
       "      <th>26</th>\n",
       "      <td>DAY_Friday</td>\n",
       "      <td>0.000085</td>\n",
       "    </tr>\n",
       "    <tr>\n",
       "      <th>27</th>\n",
       "      <td>DAY_Monday</td>\n",
       "      <td>0.000080</td>\n",
       "    </tr>\n",
       "    <tr>\n",
       "      <th>28</th>\n",
       "      <td>OP_CARRIER_SkyWest Airlines</td>\n",
       "      <td>0.000072</td>\n",
       "    </tr>\n",
       "    <tr>\n",
       "      <th>29</th>\n",
       "      <td>MONTH_May</td>\n",
       "      <td>0.000053</td>\n",
       "    </tr>\n",
       "    <tr>\n",
       "      <th>30</th>\n",
       "      <td>OP_CARRIER_Frontier Airlines</td>\n",
       "      <td>0.000051</td>\n",
       "    </tr>\n",
       "    <tr>\n",
       "      <th>31</th>\n",
       "      <td>OP_CARRIER_Alaska Airlines</td>\n",
       "      <td>0.000045</td>\n",
       "    </tr>\n",
       "    <tr>\n",
       "      <th>32</th>\n",
       "      <td>OP_CARRIER_United Airlines</td>\n",
       "      <td>0.000036</td>\n",
       "    </tr>\n",
       "    <tr>\n",
       "      <th>33</th>\n",
       "      <td>MONTH_Jan</td>\n",
       "      <td>0.000023</td>\n",
       "    </tr>\n",
       "    <tr>\n",
       "      <th>34</th>\n",
       "      <td>MONTH_Feb</td>\n",
       "      <td>0.000018</td>\n",
       "    </tr>\n",
       "  </tbody>\n",
       "</table>\n",
       "</div>"
      ],
      "text/plain": [
       "                                0         0\n",
       "0                       DEP_DELAY  0.674232\n",
       "1                        TAXI_OUT  0.131735\n",
       "2               WHEELS_OFF_elapse  0.093383\n",
       "3                         TAXI_IN  0.023388\n",
       "4                WHEELS_ON_elapse  0.022576\n",
       "5       OP_CARRIER_Delta Airlines  0.014359\n",
       "6             ACTUAL_ELAPSED_TIME  0.013222\n",
       "7                        DISTANCE  0.008460\n",
       "8                       MONTH_Jul  0.004745\n",
       "9                       MONTH_Oct  0.003170\n",
       "10  OP_CARRIER_Southwest Airlines  0.002643\n",
       "11                      MONTH_Aug  0.001627\n",
       "12          OP_CARRIER_ExpressJet  0.001598\n",
       "13     OP_CARRIER_Spirit Airlines  0.001061\n",
       "14                      MONTH_Nov  0.001013\n",
       "15                      MONTH_Jun  0.000546\n",
       "16                      MONTH_Sep  0.000307\n",
       "17                      MONTH_Dec  0.000294\n",
       "18                      MONTH_Apr  0.000234\n",
       "19                    DAY_Tuesday  0.000234\n",
       "20   OP_CARRIER_American Airlines  0.000135\n",
       "21                  DAY_Wednesday  0.000130\n",
       "22                   DAY_Thursday  0.000127\n",
       "23                   DAY_Saturday  0.000121\n",
       "24                      MONTH_Mar  0.000101\n",
       "25                     DAY_Sunday  0.000094\n",
       "26                     DAY_Friday  0.000085\n",
       "27                     DAY_Monday  0.000080\n",
       "28    OP_CARRIER_SkyWest Airlines  0.000072\n",
       "29                      MONTH_May  0.000053\n",
       "30   OP_CARRIER_Frontier Airlines  0.000051\n",
       "31     OP_CARRIER_Alaska Airlines  0.000045\n",
       "32     OP_CARRIER_United Airlines  0.000036\n",
       "33                      MONTH_Jan  0.000023\n",
       "34                      MONTH_Feb  0.000018"
      ]
     },
     "execution_count": 75,
     "metadata": {},
     "output_type": "execute_result"
    }
   ],
   "source": [
    "features=pd.DataFrame(names)\n",
    "scale = pd.DataFrame(importance[indices])\n",
    "keep_features = pd.concat([features, scale],axis=1)\n",
    "keep_features"
   ]
  },
  {
   "cell_type": "markdown",
   "id": "12445227",
   "metadata": {},
   "source": [
    "# Classification Modelling"
   ]
  },
  {
   "cell_type": "code",
   "execution_count": 76,
   "id": "35a57f80",
   "metadata": {},
   "outputs": [],
   "source": [
    "from sklearn.metrics import (\n",
    "    precision_score,\n",
    "    recall_score,\n",
    "    f1_score,\n",
    "    roc_auc_score, \n",
    "    accuracy_score, \n",
    "    confusion_matrix, \n",
    "    classification_report, \n",
    "    plot_confusion_matrix,\n",
    "    plot_precision_recall_curve\n",
    ")"
   ]
  },
  {
   "cell_type": "markdown",
   "id": "b3c9fa2e",
   "metadata": {},
   "source": [
    "# Base classifiers\n",
    ">Logistic regression\n",
    "\n",
    ">SVM\n",
    "\n",
    ">Decision Tree\n",
    "\n",
    ">Random Forest"
   ]
  },
  {
   "cell_type": "code",
   "execution_count": 77,
   "id": "9bacb1b3",
   "metadata": {},
   "outputs": [
    {
     "name": "stdout",
     "output_type": "stream",
     "text": [
      "<class 'pandas.core.frame.DataFrame'>\n",
      "Int64Index: 379991 entries, 2 to 5617492\n",
      "Data columns (total 36 columns):\n",
      " #   Column                         Non-Null Count   Dtype  \n",
      "---  ------                         --------------   -----  \n",
      " 0   DEP_DELAY                      379991 non-null  float64\n",
      " 1   TAXI_OUT                       379991 non-null  float64\n",
      " 2   TAXI_IN                        379991 non-null  float64\n",
      " 3   ACTUAL_ELAPSED_TIME            379991 non-null  float64\n",
      " 4   DISTANCE                       379991 non-null  float64\n",
      " 5   WHEELS_OFF_elapse              379991 non-null  float64\n",
      " 6   WHEELS_ON_elapse               379991 non-null  float64\n",
      " 7   FLIGHT_STATUS                  379991 non-null  int64  \n",
      " 8   OP_CARRIER_Alaska Airlines     379991 non-null  uint8  \n",
      " 9   OP_CARRIER_American Airlines   379991 non-null  uint8  \n",
      " 10  OP_CARRIER_Delta Airlines      379991 non-null  uint8  \n",
      " 11  OP_CARRIER_ExpressJet          379991 non-null  uint8  \n",
      " 12  OP_CARRIER_Frontier Airlines   379991 non-null  uint8  \n",
      " 13  OP_CARRIER_SkyWest Airlines    379991 non-null  uint8  \n",
      " 14  OP_CARRIER_Southwest Airlines  379991 non-null  uint8  \n",
      " 15  OP_CARRIER_Spirit Airlines     379991 non-null  uint8  \n",
      " 16  OP_CARRIER_United Airlines     379991 non-null  uint8  \n",
      " 17  MONTH_Apr                      379991 non-null  uint8  \n",
      " 18  MONTH_Aug                      379991 non-null  uint8  \n",
      " 19  MONTH_Dec                      379991 non-null  uint8  \n",
      " 20  MONTH_Feb                      379991 non-null  uint8  \n",
      " 21  MONTH_Jan                      379991 non-null  uint8  \n",
      " 22  MONTH_Jul                      379991 non-null  uint8  \n",
      " 23  MONTH_Jun                      379991 non-null  uint8  \n",
      " 24  MONTH_Mar                      379991 non-null  uint8  \n",
      " 25  MONTH_May                      379991 non-null  uint8  \n",
      " 26  MONTH_Nov                      379991 non-null  uint8  \n",
      " 27  MONTH_Oct                      379991 non-null  uint8  \n",
      " 28  MONTH_Sep                      379991 non-null  uint8  \n",
      " 29  DAY_Friday                     379991 non-null  uint8  \n",
      " 30  DAY_Monday                     379991 non-null  uint8  \n",
      " 31  DAY_Saturday                   379991 non-null  uint8  \n",
      " 32  DAY_Sunday                     379991 non-null  uint8  \n",
      " 33  DAY_Thursday                   379991 non-null  uint8  \n",
      " 34  DAY_Tuesday                    379991 non-null  uint8  \n",
      " 35  DAY_Wednesday                  379991 non-null  uint8  \n",
      "dtypes: float64(7), int64(1), uint8(28)\n",
      "memory usage: 36.2 MB\n"
     ]
    }
   ],
   "source": [
    "flight_data_new.info()"
   ]
  },
  {
   "cell_type": "code",
   "execution_count": 78,
   "id": "0a83d0e2",
   "metadata": {},
   "outputs": [],
   "source": [
    "flight_data_new[\"FLIGHT_STATUS\"] = flight_data_new[\"FLIGHT_STATUS\"].astype('category')"
   ]
  },
  {
   "cell_type": "code",
   "execution_count": 79,
   "id": "9ff404bb",
   "metadata": {},
   "outputs": [
    {
     "name": "stdout",
     "output_type": "stream",
     "text": [
      "<class 'pandas.core.frame.DataFrame'>\n",
      "Int64Index: 379991 entries, 2 to 5617492\n",
      "Data columns (total 36 columns):\n",
      " #   Column                         Non-Null Count   Dtype   \n",
      "---  ------                         --------------   -----   \n",
      " 0   DEP_DELAY                      379991 non-null  float64 \n",
      " 1   TAXI_OUT                       379991 non-null  float64 \n",
      " 2   TAXI_IN                        379991 non-null  float64 \n",
      " 3   ACTUAL_ELAPSED_TIME            379991 non-null  float64 \n",
      " 4   DISTANCE                       379991 non-null  float64 \n",
      " 5   WHEELS_OFF_elapse              379991 non-null  float64 \n",
      " 6   WHEELS_ON_elapse               379991 non-null  float64 \n",
      " 7   FLIGHT_STATUS                  379991 non-null  category\n",
      " 8   OP_CARRIER_Alaska Airlines     379991 non-null  uint8   \n",
      " 9   OP_CARRIER_American Airlines   379991 non-null  uint8   \n",
      " 10  OP_CARRIER_Delta Airlines      379991 non-null  uint8   \n",
      " 11  OP_CARRIER_ExpressJet          379991 non-null  uint8   \n",
      " 12  OP_CARRIER_Frontier Airlines   379991 non-null  uint8   \n",
      " 13  OP_CARRIER_SkyWest Airlines    379991 non-null  uint8   \n",
      " 14  OP_CARRIER_Southwest Airlines  379991 non-null  uint8   \n",
      " 15  OP_CARRIER_Spirit Airlines     379991 non-null  uint8   \n",
      " 16  OP_CARRIER_United Airlines     379991 non-null  uint8   \n",
      " 17  MONTH_Apr                      379991 non-null  uint8   \n",
      " 18  MONTH_Aug                      379991 non-null  uint8   \n",
      " 19  MONTH_Dec                      379991 non-null  uint8   \n",
      " 20  MONTH_Feb                      379991 non-null  uint8   \n",
      " 21  MONTH_Jan                      379991 non-null  uint8   \n",
      " 22  MONTH_Jul                      379991 non-null  uint8   \n",
      " 23  MONTH_Jun                      379991 non-null  uint8   \n",
      " 24  MONTH_Mar                      379991 non-null  uint8   \n",
      " 25  MONTH_May                      379991 non-null  uint8   \n",
      " 26  MONTH_Nov                      379991 non-null  uint8   \n",
      " 27  MONTH_Oct                      379991 non-null  uint8   \n",
      " 28  MONTH_Sep                      379991 non-null  uint8   \n",
      " 29  DAY_Friday                     379991 non-null  uint8   \n",
      " 30  DAY_Monday                     379991 non-null  uint8   \n",
      " 31  DAY_Saturday                   379991 non-null  uint8   \n",
      " 32  DAY_Sunday                     379991 non-null  uint8   \n",
      " 33  DAY_Thursday                   379991 non-null  uint8   \n",
      " 34  DAY_Tuesday                    379991 non-null  uint8   \n",
      " 35  DAY_Wednesday                  379991 non-null  uint8   \n",
      "dtypes: category(1), float64(7), uint8(28)\n",
      "memory usage: 33.7 MB\n"
     ]
    }
   ],
   "source": [
    "flight_data_new.info()"
   ]
  },
  {
   "cell_type": "code",
   "execution_count": 80,
   "id": "84142e03",
   "metadata": {},
   "outputs": [],
   "source": [
    "flight_data_new.to_csv('flight_data_new.csv',index=False)"
   ]
  },
  {
   "cell_type": "code",
   "execution_count": 81,
   "id": "121d6587",
   "metadata": {},
   "outputs": [
    {
     "data": {
      "text/plain": [
       "((303992, 35), (75999, 35))"
      ]
     },
     "execution_count": 81,
     "metadata": {},
     "output_type": "execute_result"
    }
   ],
   "source": [
    "X_train, X_test, y_train, y_test = train_test_split(\n",
    "    flight_data_new.drop(labels=['FLIGHT_STATUS'], axis=1),\n",
    "    flight_data_new['FLIGHT_STATUS'],\n",
    "    test_size=0.2,\n",
    "    random_state=100)\n",
    "\n",
    "X_train.shape, X_test.shape"
   ]
  },
  {
   "cell_type": "markdown",
   "id": "a73b5a43",
   "metadata": {},
   "source": [
    "# Random Forest"
   ]
  },
  {
   "cell_type": "code",
   "execution_count": 82,
   "id": "5c246868",
   "metadata": {},
   "outputs": [],
   "source": [
    "def run_randomForests(X_train, X_test, y_train, y_test):\n",
    "    rf = RandomForestClassifier(n_estimators=100, random_state=100, max_depth=4)\n",
    "    rf.fit(X_train, y_train)\n",
    "\n",
    "    print('Test set')\n",
    "    pred = rf.predict_proba(X_test)\n",
    "    print('Roc-auc Random Forests roc-auc: {}'.format(roc_auc_score(y_test, pred[:,1])))\n",
    "    print()\n",
    "    print('Accuracy Random Forest test:', accuracy_score(y_test, rf.predict(X_test)))\n",
    "    print()\n",
    "    print('Precision Random Forest test:', precision_score(y_test, rf.predict(X_test),pos_label=1))\n",
    "    print()\n",
    "    print('Recall Random Forest test:', recall_score(y_test, rf.predict(X_test),pos_label=1))\n",
    "    print()\n",
    "    print('F-measure Random Forest test:', f1_score(y_test, rf.predict(X_test),pos_label=1))\n",
    "    print()\n",
    "    print('Summary Report:')\n",
    "    print(classification_report(y_test, rf.predict(X_test)))"
   ]
  },
  {
   "cell_type": "code",
   "execution_count": 83,
   "id": "58c1cb9a",
   "metadata": {},
   "outputs": [
    {
     "name": "stdout",
     "output_type": "stream",
     "text": [
      "Test set\n",
      "Roc-auc Random Forests roc-auc: 0.9785247059803732\n",
      "\n",
      "Accuracy Random Forest test: 0.9175383886630087\n",
      "\n",
      "Precision Random Forest test: 0.9892703862660944\n",
      "\n",
      "Recall Random Forest test: 0.3411565704619939\n",
      "\n",
      "F-measure Random Forest test: 0.5073500510966119\n",
      "\n",
      "Summary Report:\n",
      "              precision    recall  f1-score   support\n",
      "\n",
      "           0       0.91      1.00      0.96     66540\n",
      "           1       0.99      0.34      0.51      9459\n",
      "\n",
      "    accuracy                           0.92     75999\n",
      "   macro avg       0.95      0.67      0.73     75999\n",
      "weighted avg       0.92      0.92      0.90     75999\n",
      "\n"
     ]
    }
   ],
   "source": [
    "run_randomForests(X_train, X_test, y_train, y_test)"
   ]
  },
  {
   "cell_type": "markdown",
   "id": "2ad6f7fd",
   "metadata": {},
   "source": [
    "# Logistic Regression"
   ]
  },
  {
   "cell_type": "code",
   "execution_count": 84,
   "id": "c8cadd83",
   "metadata": {},
   "outputs": [],
   "source": [
    "from sklearn.linear_model import LogisticRegression"
   ]
  },
  {
   "cell_type": "code",
   "execution_count": 85,
   "id": "c5120b42",
   "metadata": {},
   "outputs": [],
   "source": [
    "def run_logisticReg(X_train, X_test, y_train, y_test):\n",
    "    lr = LogisticRegression(random_state=100)\n",
    "    lr.fit(X_train, y_train)\n",
    "\n",
    "    print('Test set')\n",
    "    pred = lr.predict_proba(X_test)\n",
    "    print('Roc-auc Logistic Regression roc-auc: {}'.format(roc_auc_score(y_test, pred[:,1])))\n",
    "    print()\n",
    "    print('Accuracy Logistic Regression:', accuracy_score(y_test, lr.predict(X_test)))\n",
    "    print()\n",
    "    print('Precision Logistic Regression:', precision_score(y_test, lr.predict(X_test),pos_label=1))\n",
    "    print()\n",
    "    print('Recall Logistic Regression:', recall_score(y_test, lr.predict(X_test),pos_label=1))\n",
    "    print()\n",
    "    print('F-measure Logistic Regression:', f1_score(y_test, lr.predict(X_test),pos_label=1))\n",
    "    print()\n",
    "    print('Summary Report:')\n",
    "    print(classification_report(y_test, lr.predict(X_test)))"
   ]
  },
  {
   "cell_type": "code",
   "execution_count": 86,
   "id": "4653f1db",
   "metadata": {},
   "outputs": [
    {
     "name": "stdout",
     "output_type": "stream",
     "text": [
      "Test set\n",
      "Roc-auc Logistic Regression roc-auc: 0.9909474290400094\n",
      "\n",
      "Accuracy Logistic Regression: 0.967696943380834\n",
      "\n",
      "Precision Logistic Regression: 0.905230270770655\n",
      "\n",
      "Recall Logistic Regression: 0.8270430278042077\n",
      "\n",
      "F-measure Logistic Regression: 0.8643721341362356\n",
      "\n",
      "Summary Report:\n",
      "              precision    recall  f1-score   support\n",
      "\n",
      "           0       0.98      0.99      0.98     66540\n",
      "           1       0.91      0.83      0.86      9459\n",
      "\n",
      "    accuracy                           0.97     75999\n",
      "   macro avg       0.94      0.91      0.92     75999\n",
      "weighted avg       0.97      0.97      0.97     75999\n",
      "\n"
     ]
    }
   ],
   "source": [
    "run_logisticReg(X_train, X_test, y_train, y_test)"
   ]
  },
  {
   "cell_type": "markdown",
   "id": "71b214ae",
   "metadata": {},
   "source": [
    "# Decision Tree"
   ]
  },
  {
   "cell_type": "code",
   "execution_count": 87,
   "id": "742fc291",
   "metadata": {},
   "outputs": [],
   "source": [
    "from sklearn.tree import DecisionTreeClassifier"
   ]
  },
  {
   "cell_type": "code",
   "execution_count": 88,
   "id": "1b64f686",
   "metadata": {},
   "outputs": [],
   "source": [
    "def run_DT(X_train, X_test, y_train, y_test):\n",
    "    DT = DecisionTreeClassifier(random_state=100)\n",
    "    DT = DT.fit(X_train,y_train)\n",
    "\n",
    "    print('Test set')\n",
    "    pred = DT.predict_proba(X_test)\n",
    "    print('Roc-auc Decision Tree roc-auc: {}'.format(roc_auc_score(y_test, pred[:,1])))\n",
    "    print()\n",
    "    print('Accuracy Decision Tree:', accuracy_score(y_test, DT.predict(X_test)))\n",
    "    print()\n",
    "    print('Precision Decision Tree:', precision_score(y_test, DT.predict(X_test),pos_label=1))\n",
    "    print()\n",
    "    print('Recall Decision Tree:', recall_score(y_test, DT.predict(X_test),pos_label=1))\n",
    "    print()\n",
    "    print('F-measure Decision Tree:', f1_score(y_test, DT.predict(X_test),pos_label=1))\n",
    "    print()\n",
    "    print('Summary Report:')\n",
    "    print(classification_report(y_test, DT.predict(X_test)))"
   ]
  },
  {
   "cell_type": "code",
   "execution_count": 89,
   "id": "80846157",
   "metadata": {},
   "outputs": [
    {
     "name": "stdout",
     "output_type": "stream",
     "text": [
      "Test set\n",
      "Roc-auc Decision Tree roc-auc: 0.916824590413508\n",
      "\n",
      "Accuracy Decision Tree: 0.9645653232279372\n",
      "\n",
      "Precision Decision Tree: 0.8608148464163823\n",
      "\n",
      "Recall Decision Tree: 0.8532614441272862\n",
      "\n",
      "F-measure Decision Tree: 0.8570215025219007\n",
      "\n",
      "Summary Report:\n",
      "              precision    recall  f1-score   support\n",
      "\n",
      "           0       0.98      0.98      0.98     66540\n",
      "           1       0.86      0.85      0.86      9459\n",
      "\n",
      "    accuracy                           0.96     75999\n",
      "   macro avg       0.92      0.92      0.92     75999\n",
      "weighted avg       0.96      0.96      0.96     75999\n",
      "\n"
     ]
    }
   ],
   "source": [
    "run_DT(X_train, X_test, y_train, y_test)"
   ]
  },
  {
   "cell_type": "markdown",
   "id": "8ca30080",
   "metadata": {},
   "source": [
    "# Support Vector Machine (SVM)"
   ]
  },
  {
   "cell_type": "code",
   "execution_count": 90,
   "id": "9a4aef10",
   "metadata": {},
   "outputs": [],
   "source": [
    "from sklearn import svm"
   ]
  },
  {
   "cell_type": "code",
   "execution_count": 91,
   "id": "e5777686",
   "metadata": {},
   "outputs": [],
   "source": [
    "from sklearn.model_selection import train_test_split"
   ]
  },
  {
   "cell_type": "code",
   "execution_count": 92,
   "id": "0b889fcb",
   "metadata": {},
   "outputs": [],
   "source": [
    "def run_SVM(X_train, X_test, y_train, y_test):\n",
    "    svm_class = svm.SVC(probability=True, random_state=100)\n",
    "    svm_class.fit(X_train, y_train)\n",
    "    pred = rf.predict_proba(test_X)\n",
    "\n",
    "    print('Test set')\n",
    "    pred = svm_class.predict_proba(X_test)\n",
    "    print('Roc-auc Random Forests roc-auc: {}'.format(roc_auc_score(y_test, svm_class.pred[:,1])))\n",
    "    print()\n",
    "    print('Accuracy Random Forest test:', accuracy_score(y_test, svm_class.predict(X_test)))\n",
    "    print()\n",
    "    print('Precision Random Forest test:', precision_score(y_test, svm_class.predict(X_test),pos_label=1))\n",
    "    print()\n",
    "    print('Recall Random Forest test:', recall_score(y_test, svm_class.predict(X_test),pos_label=1))\n",
    "    print()\n",
    "    print('F-measure Random Forest test:', f1_score(y_test, svm_class.predict(X_test),pos_label=1))"
   ]
  }
 ],
 "metadata": {
  "kernelspec": {
   "display_name": "Python 3 (ipykernel)",
   "language": "python",
   "name": "python3"
  },
  "language_info": {
   "codemirror_mode": {
    "name": "ipython",
    "version": 3
   },
   "file_extension": ".py",
   "mimetype": "text/x-python",
   "name": "python",
   "nbconvert_exporter": "python",
   "pygments_lexer": "ipython3",
   "version": "3.9.13"
  }
 },
 "nbformat": 4,
 "nbformat_minor": 5
}
