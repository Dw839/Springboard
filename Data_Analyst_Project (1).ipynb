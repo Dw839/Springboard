{
 "cells": [
  {
   "cell_type": "code",
   "execution_count": 85,
   "id": "9598f618",
   "metadata": {},
   "outputs": [],
   "source": [
    "# Importing the required libraries\n",
    "import pandas as pd\n",
    "import numpy as np\n",
    "import matplotlib.pyplot as plt\n",
    "import seaborn as sns"
   ]
  },
  {
   "cell_type": "code",
   "execution_count": 86,
   "id": "da7da6b7",
   "metadata": {},
   "outputs": [],
   "source": [
    "# loading data from leads_basic_details.csv\n",
    "df1 = pd.read_csv('leads_basic_details.csv')\n",
    "df2 = pd.read_csv('leads_demo_watched_details.csv')\n",
    "df3 = pd.read_csv('leads_interaction_details.csv')\n",
    "df4 = pd.read_csv('leads_reasons_for_no_interest.csv')\n",
    "df5 = pd.read_csv('sales_managers_assigned_leads_details.csv')"
   ]
  },
  {
   "cell_type": "markdown",
   "id": "811a248a",
   "metadata": {},
   "source": [
    "# Data Cleaning"
   ]
  },
  {
   "cell_type": "code",
   "execution_count": 87,
   "id": "3a689d53",
   "metadata": {},
   "outputs": [
    {
     "name": "stdout",
     "output_type": "stream",
     "text": [
      "SHAPE OF DATASETS \n",
      "\n",
      "leads_basic_details:  (360, 7)\n",
      "leads_demo_watched_details (194, 4)\n",
      "leads_interaction_details (2192, 6)\n",
      "leads_reasons_for_no_interest (294, 4)\n",
      "sales_managers_assigned_leads_details (360, 5)\n"
     ]
    }
   ],
   "source": [
    "print('SHAPE OF DATASETS \\n')\n",
    "print('leads_basic_details: ', df1.shape)\n",
    "print('leads_demo_watched_details', df2.shape)\n",
    "print('leads_interaction_details', df3.shape)\n",
    "print('leads_reasons_for_no_interest', df4.shape)\n",
    "print('sales_managers_assigned_leads_details', df5.shape)"
   ]
  },
  {
   "cell_type": "code",
   "execution_count": 88,
   "id": "df3478fd",
   "metadata": {},
   "outputs": [
    {
     "name": "stdout",
     "output_type": "stream",
     "text": [
      "DUPLICATES COUNT \n",
      "\n",
      "leads_basic_details:  0\n",
      "leads_demo_watched_details:  0\n",
      "leads_interaction_details:  438\n",
      "leads_reasons_for_no_interest:  0\n",
      "sales_managers_assigned_leads_details:  0\n"
     ]
    }
   ],
   "source": [
    "print('DUPLICATES COUNT \\n')\n",
    "print('leads_basic_details: ', df1.duplicated().sum())\n",
    "print('leads_demo_watched_details: ', df2.duplicated().sum())\n",
    "print('leads_interaction_details: ', df3.duplicated().sum())\n",
    "print('leads_reasons_for_no_interest: ', df4.duplicated().sum())\n",
    "print('sales_managers_assigned_leads_details: ', df5.duplicated().sum())"
   ]
  },
  {
   "cell_type": "markdown",
   "id": "9466a153",
   "metadata": {},
   "source": [
    "> Notice that there are duplicate records in leads_interaction_details dataset.\n",
    "> Will need to drop these records before using the data for analysis."
   ]
  },
  {
   "cell_type": "code",
   "execution_count": 89,
   "id": "bf9aebe9",
   "metadata": {},
   "outputs": [
    {
     "name": "stdout",
     "output_type": "stream",
     "text": [
      "leads_interaction_details:  0\n"
     ]
    }
   ],
   "source": [
    "df3.drop_duplicates(inplace=True)\n",
    "print('leads_interaction_details: ', df3.duplicated().sum())"
   ]
  },
  {
   "cell_type": "code",
   "execution_count": 90,
   "id": "b32d0982",
   "metadata": {},
   "outputs": [
    {
     "name": "stdout",
     "output_type": "stream",
     "text": [
      "NULL VALUE COUNT\n",
      "\n",
      "leads_basic_details:\n",
      "\n",
      " lead_id              0\n",
      "age                  0\n",
      "gender               0\n",
      "current_city         0\n",
      "current_education    0\n",
      "parent_occupation    0\n",
      "lead_gen_source      0\n",
      "dtype: int64\n",
      "leads_demo_watched_details:\n",
      "\n",
      " lead_id               0\n",
      "demo_watched_date     0\n",
      "language              0\n",
      "watched_percentage    0\n",
      "dtype: int64\n",
      "leads_interaction_details:\n",
      "\n",
      " jnr_sm_id         0\n",
      "lead_id           0\n",
      "lead_stage        0\n",
      "call_done_date    0\n",
      "call_status       0\n",
      "call_reason       0\n",
      "dtype: int64\n",
      "leads_reasons_for_no_interest:\n",
      "\n",
      " lead_id                                     0\n",
      "reasons_for_not_interested_in_demo        130\n",
      "reasons_for_not_interested_to_consider    215\n",
      "reasons_for_not_interested_to_convert     243\n",
      "dtype: int64\n",
      "sales_managers_assigned_leads_details:\n",
      "\n",
      " snr_sm_id        0\n",
      "jnr_sm_id        0\n",
      "assigned_date    0\n",
      "cycle            0\n",
      "lead_id          0\n",
      "dtype: int64\n"
     ]
    }
   ],
   "source": [
    "print('NULL VALUE COUNT\\n')\n",
    "print('leads_basic_details:\\n\\n', df1.isnull().sum())\n",
    "print('leads_demo_watched_details:\\n\\n', df2.isnull().sum())\n",
    "print('leads_interaction_details:\\n\\n', df3.isnull().sum())\n",
    "print('leads_reasons_for_no_interest:\\n\\n', df4.isnull().sum())\n",
    "print('sales_managers_assigned_leads_details:\\n\\n', df5.isnull().sum())"
   ]
  },
  {
   "cell_type": "markdown",
   "id": "4898c813",
   "metadata": {},
   "source": [
    "> Look for null values, duplic, inconsistencies in data\n",
    "> Start with dataset from df1 through df5"
   ]
  },
  {
   "cell_type": "markdown",
   "id": "659fd73a",
   "metadata": {},
   "source": [
    "### Dataframe df1"
   ]
  },
  {
   "cell_type": "code",
   "execution_count": 91,
   "id": "4c894abe",
   "metadata": {},
   "outputs": [
    {
     "name": "stdout",
     "output_type": "stream",
     "text": [
      "<class 'pandas.core.frame.DataFrame'>\n",
      "RangeIndex: 360 entries, 0 to 359\n",
      "Data columns (total 7 columns):\n",
      " #   Column             Non-Null Count  Dtype \n",
      "---  ------             --------------  ----- \n",
      " 0   lead_id            360 non-null    object\n",
      " 1   age                360 non-null    int64 \n",
      " 2   gender             360 non-null    object\n",
      " 3   current_city       360 non-null    object\n",
      " 4   current_education  360 non-null    object\n",
      " 5   parent_occupation  360 non-null    object\n",
      " 6   lead_gen_source    360 non-null    object\n",
      "dtypes: int64(1), object(6)\n",
      "memory usage: 19.8+ KB\n"
     ]
    }
   ],
   "source": [
    "df1.info()"
   ]
  },
  {
   "cell_type": "code",
   "execution_count": 92,
   "id": "305f5bcb",
   "metadata": {},
   "outputs": [
    {
     "data": {
      "text/html": [
       "<div>\n",
       "<style scoped>\n",
       "    .dataframe tbody tr th:only-of-type {\n",
       "        vertical-align: middle;\n",
       "    }\n",
       "\n",
       "    .dataframe tbody tr th {\n",
       "        vertical-align: top;\n",
       "    }\n",
       "\n",
       "    .dataframe thead th {\n",
       "        text-align: right;\n",
       "    }\n",
       "</style>\n",
       "<table border=\"1\" class=\"dataframe\">\n",
       "  <thead>\n",
       "    <tr style=\"text-align: right;\">\n",
       "      <th></th>\n",
       "      <th>age</th>\n",
       "    </tr>\n",
       "  </thead>\n",
       "  <tbody>\n",
       "    <tr>\n",
       "      <th>count</th>\n",
       "      <td>360.000000</td>\n",
       "    </tr>\n",
       "    <tr>\n",
       "      <th>mean</th>\n",
       "      <td>21.561111</td>\n",
       "    </tr>\n",
       "    <tr>\n",
       "      <th>std</th>\n",
       "      <td>11.555444</td>\n",
       "    </tr>\n",
       "    <tr>\n",
       "      <th>min</th>\n",
       "      <td>16.000000</td>\n",
       "    </tr>\n",
       "    <tr>\n",
       "      <th>25%</th>\n",
       "      <td>18.000000</td>\n",
       "    </tr>\n",
       "    <tr>\n",
       "      <th>50%</th>\n",
       "      <td>21.000000</td>\n",
       "    </tr>\n",
       "    <tr>\n",
       "      <th>75%</th>\n",
       "      <td>24.000000</td>\n",
       "    </tr>\n",
       "    <tr>\n",
       "      <th>max</th>\n",
       "      <td>211.000000</td>\n",
       "    </tr>\n",
       "  </tbody>\n",
       "</table>\n",
       "</div>"
      ],
      "text/plain": [
       "              age\n",
       "count  360.000000\n",
       "mean    21.561111\n",
       "std     11.555444\n",
       "min     16.000000\n",
       "25%     18.000000\n",
       "50%     21.000000\n",
       "75%     24.000000\n",
       "max    211.000000"
      ]
     },
     "execution_count": 92,
     "metadata": {},
     "output_type": "execute_result"
    }
   ],
   "source": [
    "df1.describe()"
   ]
  },
  {
   "cell_type": "markdown",
   "id": "28f9a10d",
   "metadata": {},
   "source": [
    "> It is observe there is huge gap between the 75% value and the max value. 211 years of age is an unrealistic number and appears to be an outlier. Lets see how the plot verifies this."
   ]
  },
  {
   "cell_type": "code",
   "execution_count": 93,
   "id": "985f4ba2",
   "metadata": {},
   "outputs": [
    {
     "data": {
      "image/png": "[encoded data removed]",
      "text/plain": [
       "<Figure size 1300x500 with 1 Axes>"
      ]
     },
     "metadata": {},
     "output_type": "display_data"
    }
   ],
   "source": [
    "plt.figure(figsize=(13,5))\n",
    "plt.suptitle(\"Distribution of age\", fontsize= 20, fontweight = 5, color = 'Red')\n",
    "ticks = np.arange(0,200,20)\n",
    "label = [\"{}\".format(i) for i in ticks]\n",
    "plt.yticks(ticks,label)\n",
    "sns.boxplot(y=df1.age)\n",
    "\n",
    "plt.show()"
   ]
  },
  {
   "cell_type": "markdown",
   "id": "10b73233",
   "metadata": {},
   "source": [
    "> The above shows there is more than one outliers. There are two. It is necessary to remove these outliers before this data can be used for further analysis."
   ]
  },
  {
   "cell_type": "code",
   "execution_count": 94,
   "id": "99986eba",
   "metadata": {},
   "outputs": [
    {
     "data": {
      "text/html": [
       "<div>\n",
       "<style scoped>\n",
       "    .dataframe tbody tr th:only-of-type {\n",
       "        vertical-align: middle;\n",
       "    }\n",
       "\n",
       "    .dataframe tbody tr th {\n",
       "        vertical-align: top;\n",
       "    }\n",
       "\n",
       "    .dataframe thead th {\n",
       "        text-align: right;\n",
       "    }\n",
       "</style>\n",
       "<table border=\"1\" class=\"dataframe\">\n",
       "  <thead>\n",
       "    <tr style=\"text-align: right;\">\n",
       "      <th></th>\n",
       "      <th>lead_id</th>\n",
       "      <th>age</th>\n",
       "      <th>gender</th>\n",
       "      <th>current_city</th>\n",
       "      <th>current_education</th>\n",
       "      <th>parent_occupation</th>\n",
       "      <th>lead_gen_source</th>\n",
       "    </tr>\n",
       "  </thead>\n",
       "  <tbody>\n",
       "    <tr>\n",
       "      <th>17</th>\n",
       "      <td>USR1018</td>\n",
       "      <td>211</td>\n",
       "      <td>MALE</td>\n",
       "      <td>Hyderabad</td>\n",
       "      <td>Degree</td>\n",
       "      <td>IT Employee</td>\n",
       "      <td>social_media</td>\n",
       "    </tr>\n",
       "    <tr>\n",
       "      <th>300</th>\n",
       "      <td>USR1301</td>\n",
       "      <td>116</td>\n",
       "      <td>FEMALE</td>\n",
       "      <td>Hyderabad</td>\n",
       "      <td>Intermediate</td>\n",
       "      <td>Private Employee</td>\n",
       "      <td>social_media</td>\n",
       "    </tr>\n",
       "  </tbody>\n",
       "</table>\n",
       "</div>"
      ],
      "text/plain": [
       "     lead_id  age  gender current_city current_education parent_occupation  \\\n",
       "17   USR1018  211    MALE    Hyderabad            Degree       IT Employee   \n",
       "300  USR1301  116  FEMALE    Hyderabad      Intermediate  Private Employee   \n",
       "\n",
       "    lead_gen_source  \n",
       "17     social_media  \n",
       "300    social_media  "
      ]
     },
     "execution_count": 94,
     "metadata": {},
     "output_type": "execute_result"
    }
   ],
   "source": [
    "# Seperating values greater than 90 percentile as outliers and storing into a different dataset. \n",
    "df1_outlier = df1[df1.age>df1.age.quantile(0.90)]\n",
    "# Displaying the outliers\n",
    "df1_outlier"
   ]
  },
  {
   "cell_type": "code",
   "execution_count": 95,
   "id": "f01e1304",
   "metadata": {},
   "outputs": [],
   "source": [
    "# Removing the outliers for df1 dataset\n",
    "df1 = df1.drop([df1_outlier.index[0] , df1_outlier.index[1]])"
   ]
  },
  {
   "cell_type": "code",
   "execution_count": 96,
   "id": "a4a88877",
   "metadata": {},
   "outputs": [
    {
     "data": {
      "text/plain": [
       "(358, 7)"
      ]
     },
     "execution_count": 96,
     "metadata": {},
     "output_type": "execute_result"
    }
   ],
   "source": [
    "df1.shape"
   ]
  },
  {
   "cell_type": "code",
   "execution_count": 97,
   "id": "1cbe3074",
   "metadata": {},
   "outputs": [
    {
     "data": {
      "image/png": "[encoded data removed]",
      "text/plain": [
       "<Figure size 1300x500 with 1 Axes>"
      ]
     },
     "metadata": {},
     "output_type": "display_data"
    }
   ],
   "source": [
    "# Re-plotting age distribution after handling the outliers\n",
    "plt.figure(figsize=(13,5))\n",
    "plt.suptitle(\"Distribution of age\", fontsize= 20, fontweight = 5, color = 'Red')\n",
    "ticks = np.arange(0,40,1)\n",
    "label = [\"{}\".format(i) for i in ticks]\n",
    "plt.yticks(ticks,label)\n",
    "sns.boxplot(y=df1.age)\n",
    "plt.show()"
   ]
  },
  {
   "cell_type": "markdown",
   "id": "0577b6e4",
   "metadata": {},
   "source": [
    "> The above shows that outliers are no longer present in df1 data.\n",
    "\n",
    "> Majority of the students are between the ages 18 and 24 years."
   ]
  },
  {
   "cell_type": "code",
   "execution_count": 98,
   "id": "63c2b11d",
   "metadata": {},
   "outputs": [
    {
     "data": {
      "text/plain": [
       "gender\n",
       "FEMALE    198\n",
       "MALE      160\n",
       "Name: count, dtype: int64"
      ]
     },
     "execution_count": 98,
     "metadata": {},
     "output_type": "execute_result"
    }
   ],
   "source": [
    "df1.gender.value_counts()"
   ]
  },
  {
   "cell_type": "code",
   "execution_count": 99,
   "id": "a82c3ad3",
   "metadata": {},
   "outputs": [
    {
     "data": {
      "text/plain": [
       "Index(['lead_id', 'age', 'gender', 'current_city', 'current_education',\n",
       "       'parent_occupation', 'lead_gen_source'],\n",
       "      dtype='object')"
      ]
     },
     "execution_count": 99,
     "metadata": {},
     "output_type": "execute_result"
    }
   ],
   "source": [
    "df1.columns"
   ]
  },
  {
   "cell_type": "code",
   "execution_count": 100,
   "id": "8a6e48c6",
   "metadata": {},
   "outputs": [
    {
     "data": {
      "text/plain": [
       "current_education\n",
       "B.Tech                    139\n",
       "Looking for Job           117\n",
       "Degree                     42\n",
       "Intermediate               40\n",
       "Intermediate Completed     12\n",
       "10th Completed              8\n",
       "Name: count, dtype: int64"
      ]
     },
     "execution_count": 100,
     "metadata": {},
     "output_type": "execute_result"
    }
   ],
   "source": [
    "df1.current_education.value_counts()"
   ]
  },
  {
   "cell_type": "markdown",
   "id": "ce0781a2",
   "metadata": {},
   "source": [
    "> 'Intermediate' and 'Intermediate Completed' are the same.\n",
    "\n",
    "> Therefore rename one of these values to draw more accurate results in further analysis."
   ]
  },
  {
   "cell_type": "code",
   "execution_count": 101,
   "id": "f759d952",
   "metadata": {},
   "outputs": [],
   "source": [
    "df1['current_education'].replace({'Intermediate Completed':'Intermediate'}, inplace=True)"
   ]
  },
  {
   "cell_type": "markdown",
   "id": "da190e9d",
   "metadata": {},
   "source": [
    "### Dataframe df2"
   ]
  },
  {
   "cell_type": "code",
   "execution_count": 102,
   "id": "b839282b",
   "metadata": {},
   "outputs": [
    {
     "name": "stdout",
     "output_type": "stream",
     "text": [
      "<class 'pandas.core.frame.DataFrame'>\n",
      "RangeIndex: 194 entries, 0 to 193\n",
      "Data columns (total 4 columns):\n",
      " #   Column              Non-Null Count  Dtype \n",
      "---  ------              --------------  ----- \n",
      " 0   lead_id             194 non-null    object\n",
      " 1   demo_watched_date   194 non-null    object\n",
      " 2   language            194 non-null    object\n",
      " 3   watched_percentage  194 non-null    int64 \n",
      "dtypes: int64(1), object(3)\n",
      "memory usage: 6.2+ KB\n"
     ]
    }
   ],
   "source": [
    "df2.info()"
   ]
  },
  {
   "cell_type": "code",
   "execution_count": 103,
   "id": "84082c1c",
   "metadata": {},
   "outputs": [
    {
     "data": {
      "text/html": [
       "<div>\n",
       "<style scoped>\n",
       "    .dataframe tbody tr th:only-of-type {\n",
       "        vertical-align: middle;\n",
       "    }\n",
       "\n",
       "    .dataframe tbody tr th {\n",
       "        vertical-align: top;\n",
       "    }\n",
       "\n",
       "    .dataframe thead th {\n",
       "        text-align: right;\n",
       "    }\n",
       "</style>\n",
       "<table border=\"1\" class=\"dataframe\">\n",
       "  <thead>\n",
       "    <tr style=\"text-align: right;\">\n",
       "      <th></th>\n",
       "      <th>watched_percentage</th>\n",
       "    </tr>\n",
       "  </thead>\n",
       "  <tbody>\n",
       "    <tr>\n",
       "      <th>count</th>\n",
       "      <td>194.000000</td>\n",
       "    </tr>\n",
       "    <tr>\n",
       "      <th>mean</th>\n",
       "      <td>56.634021</td>\n",
       "    </tr>\n",
       "    <tr>\n",
       "      <th>std</th>\n",
       "      <td>43.555635</td>\n",
       "    </tr>\n",
       "    <tr>\n",
       "      <th>min</th>\n",
       "      <td>2.000000</td>\n",
       "    </tr>\n",
       "    <tr>\n",
       "      <th>25%</th>\n",
       "      <td>35.000000</td>\n",
       "    </tr>\n",
       "    <tr>\n",
       "      <th>50%</th>\n",
       "      <td>55.500000</td>\n",
       "    </tr>\n",
       "    <tr>\n",
       "      <th>75%</th>\n",
       "      <td>75.750000</td>\n",
       "    </tr>\n",
       "    <tr>\n",
       "      <th>max</th>\n",
       "      <td>510.000000</td>\n",
       "    </tr>\n",
       "  </tbody>\n",
       "</table>\n",
       "</div>"
      ],
      "text/plain": [
       "       watched_percentage\n",
       "count          194.000000\n",
       "mean            56.634021\n",
       "std             43.555635\n",
       "min              2.000000\n",
       "25%             35.000000\n",
       "50%             55.500000\n",
       "75%             75.750000\n",
       "max            510.000000"
      ]
     },
     "execution_count": 103,
     "metadata": {},
     "output_type": "execute_result"
    }
   ],
   "source": [
    "df2.describe()"
   ]
  },
  {
   "cell_type": "markdown",
   "id": "43af8052",
   "metadata": {},
   "source": [
    "> It is observe that the max watched_percentage is beyond 100 which is inaccurate or unrealistic. Let see how the plot verifies the outliers in this field."
   ]
  },
  {
   "cell_type": "code",
   "execution_count": 104,
   "id": "1a5f34b9",
   "metadata": {},
   "outputs": [
    {
     "data": {
      "image/png": "[encoded data removed]",
      "text/plain": [
       "<Figure size 1300x500 with 1 Axes>"
      ]
     },
     "metadata": {},
     "output_type": "display_data"
    }
   ],
   "source": [
    "# Plotting Watched Percentage\n",
    "plt.figure(figsize=(13,5))\n",
    "plt.suptitle(\"Distribution of Watched_Percentage\", fontsize= 25, fontweight = 5, color = 'Red')\n",
    "ticks = np.arange(0,200,20)\n",
    "label = [\"{}\".format(i) for i in ticks]\n",
    "plt.yticks(ticks,label)\n",
    "sns.boxplot(y=df2.watched_percentage)\n",
    "\n",
    "plt.show()"
   ]
  },
  {
   "cell_type": "markdown",
   "id": "c4c45e21",
   "metadata": {},
   "source": [
    "> It shows there are not one but two outliers that are beyond the 100%. These outliers must be removed from teh dataset to normalize the data and be used for analysis."
   ]
  },
  {
   "cell_type": "code",
   "execution_count": 105,
   "id": "471bea42",
   "metadata": {},
   "outputs": [
    {
     "data": {
      "text/html": [
       "<div>\n",
       "<style scoped>\n",
       "    .dataframe tbody tr th:only-of-type {\n",
       "        vertical-align: middle;\n",
       "    }\n",
       "\n",
       "    .dataframe tbody tr th {\n",
       "        vertical-align: top;\n",
       "    }\n",
       "\n",
       "    .dataframe thead th {\n",
       "        text-align: right;\n",
       "    }\n",
       "</style>\n",
       "<table border=\"1\" class=\"dataframe\">\n",
       "  <thead>\n",
       "    <tr style=\"text-align: right;\">\n",
       "      <th></th>\n",
       "      <th>lead_id</th>\n",
       "      <th>demo_watched_date</th>\n",
       "      <th>language</th>\n",
       "      <th>watched_percentage</th>\n",
       "    </tr>\n",
       "  </thead>\n",
       "  <tbody>\n",
       "    <tr>\n",
       "      <th>94</th>\n",
       "      <td>USR1138</td>\n",
       "      <td>2/20/2022</td>\n",
       "      <td>English</td>\n",
       "      <td>510</td>\n",
       "    </tr>\n",
       "    <tr>\n",
       "      <th>133</th>\n",
       "      <td>USR1213</td>\n",
       "      <td>1/20/2022</td>\n",
       "      <td>Telugu</td>\n",
       "      <td>233</td>\n",
       "    </tr>\n",
       "  </tbody>\n",
       "</table>\n",
       "</div>"
      ],
      "text/plain": [
       "     lead_id demo_watched_date language  watched_percentage\n",
       "94   USR1138         2/20/2022  English                 510\n",
       "133  USR1213         1/20/2022   Telugu                 233"
      ]
     },
     "execution_count": 105,
     "metadata": {},
     "output_type": "execute_result"
    }
   ],
   "source": [
    "# Identifying outliers whose watched percentage is beyond 100\n",
    "df2_outlier = df2[df2.watched_percentage>100]\n",
    "df2_outlier"
   ]
  },
  {
   "cell_type": "code",
   "execution_count": 106,
   "id": "8ee20cbf",
   "metadata": {},
   "outputs": [
    {
     "data": {
      "text/plain": [
       "(192, 4)"
      ]
     },
     "execution_count": 106,
     "metadata": {},
     "output_type": "execute_result"
    }
   ],
   "source": [
    "# Removing the outliers from df2 dataset\n",
    "df2 = df2.drop([df2_outlier.index[0] , df2_outlier.index[1]])\n",
    "df2.shape"
   ]
  },
  {
   "cell_type": "code",
   "execution_count": 107,
   "id": "471a2d79",
   "metadata": {},
   "outputs": [
    {
     "data": {
      "image/png": "[encoded data removed]",
      "text/plain": [
       "<Figure size 1300x500 with 1 Axes>"
      ]
     },
     "metadata": {},
     "output_type": "display_data"
    }
   ],
   "source": [
    "# Plotting watched percentage after handling outliers\n",
    "plt.figure(figsize=(13,5))\n",
    "plt.suptitle(\"Distribution of Watched_Percentage\", fontsize= 25, fontweight = 5, color = 'Black')\n",
    "ticks = np.arange(0,200,20)\n",
    "label = [\"{}\".format(i) for i in ticks]\n",
    "plt.yticks(ticks,label)\n",
    "sns.boxplot(y=df2.watched_percentage)\n",
    "\n",
    "plt.show()"
   ]
  },
  {
   "cell_type": "code",
   "execution_count": 108,
   "id": "f1f39ec6",
   "metadata": {},
   "outputs": [],
   "source": [
    "df2 = df2.drop(['demo_watched_date'], axis=1)"
   ]
  },
  {
   "cell_type": "code",
   "execution_count": 109,
   "id": "4f384b15",
   "metadata": {},
   "outputs": [
    {
     "data": {
      "text/html": [
       "<div>\n",
       "<style scoped>\n",
       "    .dataframe tbody tr th:only-of-type {\n",
       "        vertical-align: middle;\n",
       "    }\n",
       "\n",
       "    .dataframe tbody tr th {\n",
       "        vertical-align: top;\n",
       "    }\n",
       "\n",
       "    .dataframe thead th {\n",
       "        text-align: right;\n",
       "    }\n",
       "</style>\n",
       "<table border=\"1\" class=\"dataframe\">\n",
       "  <thead>\n",
       "    <tr style=\"text-align: right;\">\n",
       "      <th></th>\n",
       "      <th>lead_id</th>\n",
       "      <th>language</th>\n",
       "      <th>watched_percentage</th>\n",
       "    </tr>\n",
       "  </thead>\n",
       "  <tbody>\n",
       "    <tr>\n",
       "      <th>0</th>\n",
       "      <td>USR1002</td>\n",
       "      <td>Telugu</td>\n",
       "      <td>42</td>\n",
       "    </tr>\n",
       "    <tr>\n",
       "      <th>1</th>\n",
       "      <td>USR1003</td>\n",
       "      <td>Telugu</td>\n",
       "      <td>81</td>\n",
       "    </tr>\n",
       "    <tr>\n",
       "      <th>2</th>\n",
       "      <td>USR1004</td>\n",
       "      <td>Telugu</td>\n",
       "      <td>35</td>\n",
       "    </tr>\n",
       "    <tr>\n",
       "      <th>3</th>\n",
       "      <td>USR1005</td>\n",
       "      <td>Hindi</td>\n",
       "      <td>38</td>\n",
       "    </tr>\n",
       "    <tr>\n",
       "      <th>4</th>\n",
       "      <td>USR1006</td>\n",
       "      <td>Hindi</td>\n",
       "      <td>54</td>\n",
       "    </tr>\n",
       "    <tr>\n",
       "      <th>...</th>\n",
       "      <td>...</td>\n",
       "      <td>...</td>\n",
       "      <td>...</td>\n",
       "    </tr>\n",
       "    <tr>\n",
       "      <th>189</th>\n",
       "      <td>USR1317</td>\n",
       "      <td>English</td>\n",
       "      <td>48</td>\n",
       "    </tr>\n",
       "    <tr>\n",
       "      <th>190</th>\n",
       "      <td>USR1318</td>\n",
       "      <td>English</td>\n",
       "      <td>83</td>\n",
       "    </tr>\n",
       "    <tr>\n",
       "      <th>191</th>\n",
       "      <td>USR1319</td>\n",
       "      <td>English</td>\n",
       "      <td>84</td>\n",
       "    </tr>\n",
       "    <tr>\n",
       "      <th>192</th>\n",
       "      <td>USR1343</td>\n",
       "      <td>English</td>\n",
       "      <td>68</td>\n",
       "    </tr>\n",
       "    <tr>\n",
       "      <th>193</th>\n",
       "      <td>USR1348</td>\n",
       "      <td>English</td>\n",
       "      <td>72</td>\n",
       "    </tr>\n",
       "  </tbody>\n",
       "</table>\n",
       "<p>192 rows × 3 columns</p>\n",
       "</div>"
      ],
      "text/plain": [
       "     lead_id language  watched_percentage\n",
       "0    USR1002   Telugu                  42\n",
       "1    USR1003   Telugu                  81\n",
       "2    USR1004   Telugu                  35\n",
       "3    USR1005    Hindi                  38\n",
       "4    USR1006    Hindi                  54\n",
       "..       ...      ...                 ...\n",
       "189  USR1317  English                  48\n",
       "190  USR1318  English                  83\n",
       "191  USR1319  English                  84\n",
       "192  USR1343  English                  68\n",
       "193  USR1348  English                  72\n",
       "\n",
       "[192 rows x 3 columns]"
      ]
     },
     "execution_count": 109,
     "metadata": {},
     "output_type": "execute_result"
    }
   ],
   "source": [
    "df2"
   ]
  },
  {
   "cell_type": "markdown",
   "id": "d22039b2",
   "metadata": {},
   "source": [
    "### Dataframe df3"
   ]
  },
  {
   "cell_type": "code",
   "execution_count": 110,
   "id": "fb3e6a50",
   "metadata": {},
   "outputs": [
    {
     "name": "stdout",
     "output_type": "stream",
     "text": [
      "<class 'pandas.core.frame.DataFrame'>\n",
      "Index: 1754 entries, 0 to 2191\n",
      "Data columns (total 6 columns):\n",
      " #   Column          Non-Null Count  Dtype \n",
      "---  ------          --------------  ----- \n",
      " 0   jnr_sm_id       1754 non-null   object\n",
      " 1   lead_id         1754 non-null   object\n",
      " 2   lead_stage      1754 non-null   object\n",
      " 3   call_done_date  1754 non-null   object\n",
      " 4   call_status     1754 non-null   object\n",
      " 5   call_reason     1754 non-null   object\n",
      "dtypes: object(6)\n",
      "memory usage: 95.9+ KB\n"
     ]
    }
   ],
   "source": [
    "df3.info()"
   ]
  },
  {
   "cell_type": "code",
   "execution_count": 111,
   "id": "b3ca97d0",
   "metadata": {},
   "outputs": [
    {
     "data": {
      "text/html": [
       "<div>\n",
       "<style scoped>\n",
       "    .dataframe tbody tr th:only-of-type {\n",
       "        vertical-align: middle;\n",
       "    }\n",
       "\n",
       "    .dataframe tbody tr th {\n",
       "        vertical-align: top;\n",
       "    }\n",
       "\n",
       "    .dataframe thead th {\n",
       "        text-align: right;\n",
       "    }\n",
       "</style>\n",
       "<table border=\"1\" class=\"dataframe\">\n",
       "  <thead>\n",
       "    <tr style=\"text-align: right;\">\n",
       "      <th></th>\n",
       "      <th>jnr_sm_id</th>\n",
       "      <th>lead_id</th>\n",
       "      <th>lead_stage</th>\n",
       "      <th>call_status</th>\n",
       "      <th>call_reason</th>\n",
       "    </tr>\n",
       "  </thead>\n",
       "  <tbody>\n",
       "    <tr>\n",
       "      <th>0</th>\n",
       "      <td>JNR1001MG</td>\n",
       "      <td>USR1001</td>\n",
       "      <td>lead</td>\n",
       "      <td>successful</td>\n",
       "      <td>lead_introduction</td>\n",
       "    </tr>\n",
       "    <tr>\n",
       "      <th>1</th>\n",
       "      <td>JNR1001MG</td>\n",
       "      <td>USR1001</td>\n",
       "      <td>lead</td>\n",
       "      <td>successful</td>\n",
       "      <td>demo_schedule</td>\n",
       "    </tr>\n",
       "    <tr>\n",
       "      <th>2</th>\n",
       "      <td>JNR1001MG</td>\n",
       "      <td>USR1002</td>\n",
       "      <td>lead</td>\n",
       "      <td>successful</td>\n",
       "      <td>lead_introduction</td>\n",
       "    </tr>\n",
       "    <tr>\n",
       "      <th>3</th>\n",
       "      <td>JNR1001MG</td>\n",
       "      <td>USR1002</td>\n",
       "      <td>lead</td>\n",
       "      <td>successful</td>\n",
       "      <td>demo_schedule</td>\n",
       "    </tr>\n",
       "    <tr>\n",
       "      <th>4</th>\n",
       "      <td>JNR1001MG</td>\n",
       "      <td>USR1002</td>\n",
       "      <td>awareness</td>\n",
       "      <td>successful</td>\n",
       "      <td>post_demo_followup</td>\n",
       "    </tr>\n",
       "  </tbody>\n",
       "</table>\n",
       "</div>"
      ],
      "text/plain": [
       "   jnr_sm_id  lead_id lead_stage call_status         call_reason\n",
       "0  JNR1001MG  USR1001       lead  successful   lead_introduction\n",
       "1  JNR1001MG  USR1001       lead  successful       demo_schedule\n",
       "2  JNR1001MG  USR1002       lead  successful   lead_introduction\n",
       "3  JNR1001MG  USR1002       lead  successful       demo_schedule\n",
       "4  JNR1001MG  USR1002  awareness  successful  post_demo_followup"
      ]
     },
     "execution_count": 111,
     "metadata": {},
     "output_type": "execute_result"
    }
   ],
   "source": [
    "df3 = df3.drop(['call_done_date'], axis=1)\n",
    "df3.head()"
   ]
  },
  {
   "cell_type": "code",
   "execution_count": 112,
   "id": "6bb97061",
   "metadata": {},
   "outputs": [
    {
     "name": "stdout",
     "output_type": "stream",
     "text": [
      "11\n"
     ]
    }
   ],
   "source": [
    "#Identify and drop duplicates\n",
    "print(df3.duplicated().sum())\n",
    "df3.drop_duplicates(inplace=True)"
   ]
  },
  {
   "cell_type": "code",
   "execution_count": 113,
   "id": "1671d99c",
   "metadata": {},
   "outputs": [],
   "source": [
    "# Renaming the stages according the the last stage each lead was in.\n",
    "df3['lead_stage'].replace({'lead':'Lead Stage','lead-awareness': 'Awareness Stage', 'lead-awareness-consideration':'Consideration Stage', 'lead-awareness-consideration-conversion':'Conversion Stage' }, inplace=True)"
   ]
  },
  {
   "cell_type": "code",
   "execution_count": 114,
   "id": "f65eb441",
   "metadata": {},
   "outputs": [
    {
     "data": {
      "text/plain": [
       "lead_stage\n",
       "Lead Stage       1196\n",
       "consideration     254\n",
       "awareness         229\n",
       "conversion         64\n",
       "Name: count, dtype: int64"
      ]
     },
     "execution_count": 114,
     "metadata": {},
     "output_type": "execute_result"
    }
   ],
   "source": [
    "#Verifying count of leads in each stage\n",
    "df3.lead_stage.value_counts()"
   ]
  },
  {
   "cell_type": "markdown",
   "id": "e4cc0b10",
   "metadata": {},
   "source": [
    "### Dataframe df4"
   ]
  },
  {
   "cell_type": "code",
   "execution_count": 115,
   "id": "579ad629",
   "metadata": {},
   "outputs": [
    {
     "name": "stdout",
     "output_type": "stream",
     "text": [
      "<class 'pandas.core.frame.DataFrame'>\n",
      "RangeIndex: 294 entries, 0 to 293\n",
      "Data columns (total 4 columns):\n",
      " #   Column                                  Non-Null Count  Dtype \n",
      "---  ------                                  --------------  ----- \n",
      " 0   lead_id                                 294 non-null    object\n",
      " 1   reasons_for_not_interested_in_demo      164 non-null    object\n",
      " 2   reasons_for_not_interested_to_consider  79 non-null     object\n",
      " 3   reasons_for_not_interested_to_convert   51 non-null     object\n",
      "dtypes: object(4)\n",
      "memory usage: 9.3+ KB\n"
     ]
    }
   ],
   "source": [
    "df4.info()"
   ]
  },
  {
   "cell_type": "markdown",
   "id": "a4409817",
   "metadata": {},
   "source": [
    "> Observe that the leads_reasons_for_no_interest dataset has null values in its columns.\n",
    "\n",
    "> Up on observation, it could be noticed that these columns in the dataset are all speaking of the reason why the lead did not show interest at any given stage (i.e reason for not interested).\n",
    "\n",
    "> In this scenario, it is advisable to combine the values of these three columns into a single column named 'reason_for_not_interested' and carry out further analysis."
   ]
  },
  {
   "cell_type": "code",
   "execution_count": 116,
   "id": "55ad9ed5",
   "metadata": {},
   "outputs": [],
   "source": [
    "# Replacing Null values with an empty string\n",
    "df4['reasons_for_not_interested_in_demo'] = df4['reasons_for_not_interested_in_demo'].fillna('')\n",
    "df4['reasons_for_not_interested_to_consider'] = df4['reasons_for_not_interested_to_consider'].fillna('')\n",
    "df4['reasons_for_not_interested_to_convert'] = df4['reasons_for_not_interested_to_convert'].fillna('')"
   ]
  },
  {
   "cell_type": "code",
   "execution_count": 117,
   "id": "96e995b9",
   "metadata": {},
   "outputs": [],
   "source": [
    "# Combine all the values in the existing columns and store them in the new column.\n",
    "df4['Reason_for_not_interested'] = df4['reasons_for_not_interested_in_demo'] + df4['reasons_for_not_interested_to_consider'] + df4['reasons_for_not_interested_to_convert']"
   ]
  },
  {
   "cell_type": "code",
   "execution_count": 118,
   "id": "b56e76fe",
   "metadata": {},
   "outputs": [],
   "source": [
    "# Drop the redundant columns that are no longer required for analysis\n",
    "df4 = df4.drop(['reasons_for_not_interested_in_demo','reasons_for_not_interested_to_consider', 'reasons_for_not_interested_to_convert'], axis=1)"
   ]
  },
  {
   "cell_type": "code",
   "execution_count": 119,
   "id": "126d0e41",
   "metadata": {},
   "outputs": [
    {
     "name": "stdout",
     "output_type": "stream",
     "text": [
      "<class 'pandas.core.frame.DataFrame'>\n",
      "RangeIndex: 294 entries, 0 to 293\n",
      "Data columns (total 2 columns):\n",
      " #   Column                     Non-Null Count  Dtype \n",
      "---  ------                     --------------  ----- \n",
      " 0   lead_id                    294 non-null    object\n",
      " 1   Reason_for_not_interested  294 non-null    object\n",
      "dtypes: object(2)\n",
      "memory usage: 4.7+ KB\n"
     ]
    }
   ],
   "source": [
    "# Now leads_reasons_for_no_interest will be having 'lead_id' and 'Reason_for_not_interested' in its dataset that can be used for further analysis.\n",
    "df4.info()"
   ]
  },
  {
   "cell_type": "code",
   "execution_count": 120,
   "id": "855c7312",
   "metadata": {},
   "outputs": [
    {
     "data": {
      "text/plain": [
       "Reason_for_not_interested\n",
       "Can't afford                        95\n",
       "Wants offline classes               91\n",
       "Student not interested in domain    52\n",
       "No time for student                 38\n",
       "Will join in final year             14\n",
       "Cannot afford                        4\n",
       "Name: count, dtype: int64"
      ]
     },
     "execution_count": 120,
     "metadata": {},
     "output_type": "execute_result"
    }
   ],
   "source": [
    "df4.Reason_for_not_interested.value_counts()"
   ]
  },
  {
   "cell_type": "markdown",
   "id": "029356ee",
   "metadata": {},
   "source": [
    "> There are two values in 'Reason_for_not_interested' column that mean the same.\n",
    "\n",
    "> One is 'Can't afford' and another is 'Cannot afford'\n",
    "\n",
    "> Rename one of these values for more accurate results."
   ]
  },
  {
   "cell_type": "code",
   "execution_count": 121,
   "id": "8557ca0e",
   "metadata": {},
   "outputs": [],
   "source": [
    "df4['Reason_for_not_interested'].replace({\"Can't afford\":'Cannot afford'}, inplace=True)"
   ]
  },
  {
   "cell_type": "markdown",
   "id": "df371032",
   "metadata": {},
   "source": [
    "### Dataframe df5"
   ]
  },
  {
   "cell_type": "code",
   "execution_count": 122,
   "id": "991fa149",
   "metadata": {},
   "outputs": [
    {
     "name": "stdout",
     "output_type": "stream",
     "text": [
      "<class 'pandas.core.frame.DataFrame'>\n",
      "RangeIndex: 360 entries, 0 to 359\n",
      "Data columns (total 5 columns):\n",
      " #   Column         Non-Null Count  Dtype \n",
      "---  ------         --------------  ----- \n",
      " 0   snr_sm_id      360 non-null    object\n",
      " 1   jnr_sm_id      360 non-null    object\n",
      " 2   assigned_date  360 non-null    object\n",
      " 3   cycle          360 non-null    int64 \n",
      " 4   lead_id        360 non-null    object\n",
      "dtypes: int64(1), object(4)\n",
      "memory usage: 14.2+ KB\n"
     ]
    }
   ],
   "source": [
    "df5.info()"
   ]
  },
  {
   "cell_type": "code",
   "execution_count": 123,
   "id": "61f90fea",
   "metadata": {},
   "outputs": [
    {
     "data": {
      "text/plain": [
       "(360, 4)"
      ]
     },
     "execution_count": 123,
     "metadata": {},
     "output_type": "execute_result"
    }
   ],
   "source": [
    "df5 = df5.drop(['assigned_date'], axis=1)\n",
    "df5.shape"
   ]
  },
  {
   "cell_type": "code",
   "execution_count": 124,
   "id": "cdc609bc",
   "metadata": {},
   "outputs": [],
   "source": [
    "# Removing the outliers identified in df1 and df2 from df5\n",
    "df5 = df5.drop([df1_outlier.index[0] , df1_outlier.index[1], df2_outlier.index[0] , df2_outlier.index[1]])"
   ]
  },
  {
   "cell_type": "code",
   "execution_count": 125,
   "id": "3d2931c6",
   "metadata": {},
   "outputs": [
    {
     "name": "stdout",
     "output_type": "stream",
     "text": [
      "SHAPE OF DATASETS \n",
      "\n",
      "leads_basic_details:  (358, 7)\n",
      "leads_demo_watched_details (192, 3)\n",
      "leads_interaction_details (1743, 5)\n",
      "leads_reasons_for_no_interest (294, 2)\n",
      "sales_managers_assigned_leads_details (356, 4)\n"
     ]
    }
   ],
   "source": [
    "print('SHAPE OF DATASETS \\n')\n",
    "print('leads_basic_details: ', df1.shape)\n",
    "print('leads_demo_watched_details', df2.shape)\n",
    "print('leads_interaction_details', df3.shape)\n",
    "print('leads_reasons_for_no_interest', df4.shape)\n",
    "print('sales_managers_assigned_leads_details', df5.shape)"
   ]
  },
  {
   "cell_type": "code",
   "execution_count": 126,
   "id": "3fd0bccb",
   "metadata": {},
   "outputs": [
    {
     "name": "stdout",
     "output_type": "stream",
     "text": [
      "<class 'pandas.core.frame.DataFrame'>\n",
      "RangeIndex: 1734 entries, 0 to 1733\n",
      "Data columns (total 11 columns):\n",
      " #   Column             Non-Null Count  Dtype \n",
      "---  ------             --------------  ----- \n",
      " 0   lead_id            1734 non-null   object\n",
      " 1   age                1734 non-null   int64 \n",
      " 2   gender             1734 non-null   object\n",
      " 3   current_city       1734 non-null   object\n",
      " 4   current_education  1734 non-null   object\n",
      " 5   parent_occupation  1734 non-null   object\n",
      " 6   lead_gen_source    1734 non-null   object\n",
      " 7   jnr_sm_id          1734 non-null   object\n",
      " 8   lead_stage         1734 non-null   object\n",
      " 9   call_status        1734 non-null   object\n",
      " 10  call_reason        1734 non-null   object\n",
      "dtypes: int64(1), object(10)\n",
      "memory usage: 149.1+ KB\n"
     ]
    }
   ],
   "source": [
    "L1 = pd.merge(df1,df3)\n",
    "L1.info()"
   ]
  },
  {
   "cell_type": "code",
   "execution_count": 127,
   "id": "8cfbccb1",
   "metadata": {},
   "outputs": [
    {
     "name": "stdout",
     "output_type": "stream",
     "text": [
      "<class 'pandas.core.frame.DataFrame'>\n",
      "RangeIndex: 1726 entries, 0 to 1725\n",
      "Data columns (total 13 columns):\n",
      " #   Column             Non-Null Count  Dtype \n",
      "---  ------             --------------  ----- \n",
      " 0   lead_id            1726 non-null   object\n",
      " 1   age                1726 non-null   int64 \n",
      " 2   gender             1726 non-null   object\n",
      " 3   current_city       1726 non-null   object\n",
      " 4   current_education  1726 non-null   object\n",
      " 5   parent_occupation  1726 non-null   object\n",
      " 6   lead_gen_source    1726 non-null   object\n",
      " 7   jnr_sm_id          1726 non-null   object\n",
      " 8   lead_stage         1726 non-null   object\n",
      " 9   call_status        1726 non-null   object\n",
      " 10  call_reason        1726 non-null   object\n",
      " 11  snr_sm_id          1726 non-null   object\n",
      " 12  cycle              1726 non-null   int64 \n",
      "dtypes: int64(2), object(11)\n",
      "memory usage: 175.4+ KB\n"
     ]
    }
   ],
   "source": [
    "L2 = pd.merge(L1,df5)\n",
    "L2.info()"
   ]
  },
  {
   "cell_type": "code",
   "execution_count": 128,
   "id": "b1f9e573",
   "metadata": {},
   "outputs": [
    {
     "name": "stdout",
     "output_type": "stream",
     "text": [
      "<class 'pandas.core.frame.DataFrame'>\n",
      "RangeIndex: 1726 entries, 0 to 1725\n",
      "Data columns (total 14 columns):\n",
      " #   Column                     Non-Null Count  Dtype \n",
      "---  ------                     --------------  ----- \n",
      " 0   lead_id                    1726 non-null   object\n",
      " 1   age                        1726 non-null   int64 \n",
      " 2   gender                     1726 non-null   object\n",
      " 3   current_city               1726 non-null   object\n",
      " 4   current_education          1726 non-null   object\n",
      " 5   parent_occupation          1726 non-null   object\n",
      " 6   lead_gen_source            1726 non-null   object\n",
      " 7   jnr_sm_id                  1726 non-null   object\n",
      " 8   lead_stage                 1726 non-null   object\n",
      " 9   call_status                1726 non-null   object\n",
      " 10  call_reason                1726 non-null   object\n",
      " 11  snr_sm_id                  1726 non-null   object\n",
      " 12  cycle                      1726 non-null   int64 \n",
      " 13  Reason_for_not_interested  1205 non-null   object\n",
      "dtypes: int64(2), object(12)\n",
      "memory usage: 188.9+ KB\n"
     ]
    }
   ],
   "source": [
    "L3 = pd.merge(L2, df4, how = 'left', on='lead_id')\n",
    "L3.info()"
   ]
  },
  {
   "cell_type": "code",
   "execution_count": 129,
   "id": "14cb3036",
   "metadata": {},
   "outputs": [],
   "source": [
    "L3['Reason_for_not_interested'] = L3['Reason_for_not_interested'].fillna('Shown Interest')"
   ]
  },
  {
   "cell_type": "code",
   "execution_count": 130,
   "id": "c0a13976",
   "metadata": {},
   "outputs": [
    {
     "name": "stdout",
     "output_type": "stream",
     "text": [
      "<class 'pandas.core.frame.DataFrame'>\n",
      "RangeIndex: 1726 entries, 0 to 1725\n",
      "Data columns (total 14 columns):\n",
      " #   Column                     Non-Null Count  Dtype \n",
      "---  ------                     --------------  ----- \n",
      " 0   lead_id                    1726 non-null   object\n",
      " 1   age                        1726 non-null   int64 \n",
      " 2   gender                     1726 non-null   object\n",
      " 3   current_city               1726 non-null   object\n",
      " 4   current_education          1726 non-null   object\n",
      " 5   parent_occupation          1726 non-null   object\n",
      " 6   lead_gen_source            1726 non-null   object\n",
      " 7   jnr_sm_id                  1726 non-null   object\n",
      " 8   lead_stage                 1726 non-null   object\n",
      " 9   call_status                1726 non-null   object\n",
      " 10  call_reason                1726 non-null   object\n",
      " 11  snr_sm_id                  1726 non-null   object\n",
      " 12  cycle                      1726 non-null   int64 \n",
      " 13  Reason_for_not_interested  1726 non-null   object\n",
      "dtypes: int64(2), object(12)\n",
      "memory usage: 188.9+ KB\n"
     ]
    }
   ],
   "source": [
    "L3.info()"
   ]
  },
  {
   "cell_type": "code",
   "execution_count": 131,
   "id": "2bc00a0a",
   "metadata": {},
   "outputs": [
    {
     "name": "stdout",
     "output_type": "stream",
     "text": [
      "<class 'pandas.core.frame.DataFrame'>\n",
      "RangeIndex: 1726 entries, 0 to 1725\n",
      "Data columns (total 16 columns):\n",
      " #   Column                     Non-Null Count  Dtype  \n",
      "---  ------                     --------------  -----  \n",
      " 0   lead_id                    1726 non-null   object \n",
      " 1   age                        1726 non-null   int64  \n",
      " 2   gender                     1726 non-null   object \n",
      " 3   current_city               1726 non-null   object \n",
      " 4   current_education          1726 non-null   object \n",
      " 5   parent_occupation          1726 non-null   object \n",
      " 6   lead_gen_source            1726 non-null   object \n",
      " 7   jnr_sm_id                  1726 non-null   object \n",
      " 8   lead_stage                 1726 non-null   object \n",
      " 9   call_status                1726 non-null   object \n",
      " 10  call_reason                1726 non-null   object \n",
      " 11  snr_sm_id                  1726 non-null   object \n",
      " 12  cycle                      1726 non-null   int64  \n",
      " 13  Reason_for_not_interested  1726 non-null   object \n",
      " 14  language                   1222 non-null   object \n",
      " 15  watched_percentage         1222 non-null   float64\n",
      "dtypes: float64(1), int64(2), object(13)\n",
      "memory usage: 215.9+ KB\n"
     ]
    }
   ],
   "source": [
    "L4 = pd.merge(L3,df2,how='left',on='lead_id')\n",
    "L4.info()"
   ]
  },
  {
   "cell_type": "code",
   "execution_count": 132,
   "id": "14c0bada",
   "metadata": {},
   "outputs": [],
   "source": [
    "L4['language'] = L4['language'].fillna('Info Unavailable')"
   ]
  },
  {
   "cell_type": "code",
   "execution_count": 135,
   "id": "3c78a466",
   "metadata": {},
   "outputs": [],
   "source": [
    "L4['watched_percentage'] = L4['watched_percentage'].fillna('0')"
   ]
  },
  {
   "cell_type": "code",
   "execution_count": 134,
   "id": "df0c5135",
   "metadata": {},
   "outputs": [
    {
     "name": "stdout",
     "output_type": "stream",
     "text": [
      "<class 'pandas.core.frame.DataFrame'>\n",
      "RangeIndex: 1726 entries, 0 to 1725\n",
      "Data columns (total 16 columns):\n",
      " #   Column                     Non-Null Count  Dtype \n",
      "---  ------                     --------------  ----- \n",
      " 0   lead_id                    1726 non-null   object\n",
      " 1   age                        1726 non-null   int64 \n",
      " 2   gender                     1726 non-null   object\n",
      " 3   current_city               1726 non-null   object\n",
      " 4   current_education          1726 non-null   object\n",
      " 5   parent_occupation          1726 non-null   object\n",
      " 6   lead_gen_source            1726 non-null   object\n",
      " 7   jnr_sm_id                  1726 non-null   object\n",
      " 8   lead_stage                 1726 non-null   object\n",
      " 9   call_status                1726 non-null   object\n",
      " 10  call_reason                1726 non-null   object\n",
      " 11  snr_sm_id                  1726 non-null   object\n",
      " 12  cycle                      1726 non-null   int64 \n",
      " 13  Reason_for_not_interested  1726 non-null   object\n",
      " 14  language                   1726 non-null   object\n",
      " 15  watched_percentage         1726 non-null   object\n",
      "dtypes: int64(2), object(14)\n",
      "memory usage: 215.9+ KB\n"
     ]
    }
   ],
   "source": [
    "L4.info()"
   ]
  },
  {
   "cell_type": "code",
   "execution_count": 136,
   "id": "69c5b41c",
   "metadata": {},
   "outputs": [
    {
     "data": {
      "text/plain": [
       "0"
      ]
     },
     "execution_count": 136,
     "metadata": {},
     "output_type": "execute_result"
    }
   ],
   "source": [
    "L4.duplicated().sum()"
   ]
  },
  {
   "cell_type": "code",
   "execution_count": 137,
   "id": "6e463e8a",
   "metadata": {},
   "outputs": [],
   "source": [
    "L4['Lead_Status'] = np.where(L4['lead_stage'] == 'Conversion Stage', 'Converted Lead', 'Yet to convert Lead')"
   ]
  },
  {
   "cell_type": "code",
   "execution_count": 138,
   "id": "06faefe1",
   "metadata": {},
   "outputs": [
    {
     "data": {
      "text/html": [
       "<div>\n",
       "<style scoped>\n",
       "    .dataframe tbody tr th:only-of-type {\n",
       "        vertical-align: middle;\n",
       "    }\n",
       "\n",
       "    .dataframe tbody tr th {\n",
       "        vertical-align: top;\n",
       "    }\n",
       "\n",
       "    .dataframe thead th {\n",
       "        text-align: right;\n",
       "    }\n",
       "</style>\n",
       "<table border=\"1\" class=\"dataframe\">\n",
       "  <thead>\n",
       "    <tr style=\"text-align: right;\">\n",
       "      <th></th>\n",
       "      <th>lead_id</th>\n",
       "      <th>age</th>\n",
       "      <th>gender</th>\n",
       "      <th>current_city</th>\n",
       "      <th>current_education</th>\n",
       "      <th>parent_occupation</th>\n",
       "      <th>lead_gen_source</th>\n",
       "      <th>jnr_sm_id</th>\n",
       "      <th>lead_stage</th>\n",
       "      <th>call_status</th>\n",
       "      <th>call_reason</th>\n",
       "      <th>snr_sm_id</th>\n",
       "      <th>cycle</th>\n",
       "      <th>Reason_for_not_interested</th>\n",
       "      <th>language</th>\n",
       "      <th>watched_percentage</th>\n",
       "      <th>Lead_Status</th>\n",
       "    </tr>\n",
       "  </thead>\n",
       "  <tbody>\n",
       "    <tr>\n",
       "      <th>0</th>\n",
       "      <td>USR1001</td>\n",
       "      <td>16</td>\n",
       "      <td>FEMALE</td>\n",
       "      <td>Hyderabad</td>\n",
       "      <td>Intermediate</td>\n",
       "      <td>Private Employee</td>\n",
       "      <td>social_media</td>\n",
       "      <td>JNR1001MG</td>\n",
       "      <td>Lead Stage</td>\n",
       "      <td>successful</td>\n",
       "      <td>lead_introduction</td>\n",
       "      <td>SNR501MG</td>\n",
       "      <td>1</td>\n",
       "      <td>No time for student</td>\n",
       "      <td>Info Unavailable</td>\n",
       "      <td>0</td>\n",
       "      <td>Yet to convert Lead</td>\n",
       "    </tr>\n",
       "    <tr>\n",
       "      <th>1</th>\n",
       "      <td>USR1001</td>\n",
       "      <td>16</td>\n",
       "      <td>FEMALE</td>\n",
       "      <td>Hyderabad</td>\n",
       "      <td>Intermediate</td>\n",
       "      <td>Private Employee</td>\n",
       "      <td>social_media</td>\n",
       "      <td>JNR1001MG</td>\n",
       "      <td>Lead Stage</td>\n",
       "      <td>successful</td>\n",
       "      <td>demo_schedule</td>\n",
       "      <td>SNR501MG</td>\n",
       "      <td>1</td>\n",
       "      <td>No time for student</td>\n",
       "      <td>Info Unavailable</td>\n",
       "      <td>0</td>\n",
       "      <td>Yet to convert Lead</td>\n",
       "    </tr>\n",
       "    <tr>\n",
       "      <th>2</th>\n",
       "      <td>USR1002</td>\n",
       "      <td>20</td>\n",
       "      <td>MALE</td>\n",
       "      <td>Bengaluru</td>\n",
       "      <td>B.Tech</td>\n",
       "      <td>Business</td>\n",
       "      <td>user_referrals</td>\n",
       "      <td>JNR1001MG</td>\n",
       "      <td>Lead Stage</td>\n",
       "      <td>successful</td>\n",
       "      <td>lead_introduction</td>\n",
       "      <td>SNR501MG</td>\n",
       "      <td>1</td>\n",
       "      <td>Shown Interest</td>\n",
       "      <td>Telugu</td>\n",
       "      <td>42.0</td>\n",
       "      <td>Yet to convert Lead</td>\n",
       "    </tr>\n",
       "    <tr>\n",
       "      <th>3</th>\n",
       "      <td>USR1002</td>\n",
       "      <td>20</td>\n",
       "      <td>MALE</td>\n",
       "      <td>Bengaluru</td>\n",
       "      <td>B.Tech</td>\n",
       "      <td>Business</td>\n",
       "      <td>user_referrals</td>\n",
       "      <td>JNR1001MG</td>\n",
       "      <td>Lead Stage</td>\n",
       "      <td>successful</td>\n",
       "      <td>demo_schedule</td>\n",
       "      <td>SNR501MG</td>\n",
       "      <td>1</td>\n",
       "      <td>Shown Interest</td>\n",
       "      <td>Telugu</td>\n",
       "      <td>42.0</td>\n",
       "      <td>Yet to convert Lead</td>\n",
       "    </tr>\n",
       "    <tr>\n",
       "      <th>4</th>\n",
       "      <td>USR1002</td>\n",
       "      <td>20</td>\n",
       "      <td>MALE</td>\n",
       "      <td>Bengaluru</td>\n",
       "      <td>B.Tech</td>\n",
       "      <td>Business</td>\n",
       "      <td>user_referrals</td>\n",
       "      <td>JNR1001MG</td>\n",
       "      <td>awareness</td>\n",
       "      <td>successful</td>\n",
       "      <td>post_demo_followup</td>\n",
       "      <td>SNR501MG</td>\n",
       "      <td>1</td>\n",
       "      <td>Shown Interest</td>\n",
       "      <td>Telugu</td>\n",
       "      <td>42.0</td>\n",
       "      <td>Yet to convert Lead</td>\n",
       "    </tr>\n",
       "  </tbody>\n",
       "</table>\n",
       "</div>"
      ],
      "text/plain": [
       "   lead_id  age  gender current_city current_education parent_occupation  \\\n",
       "0  USR1001   16  FEMALE    Hyderabad      Intermediate  Private Employee   \n",
       "1  USR1001   16  FEMALE    Hyderabad      Intermediate  Private Employee   \n",
       "2  USR1002   20    MALE    Bengaluru            B.Tech          Business   \n",
       "3  USR1002   20    MALE    Bengaluru            B.Tech          Business   \n",
       "4  USR1002   20    MALE    Bengaluru            B.Tech          Business   \n",
       "\n",
       "  lead_gen_source  jnr_sm_id  lead_stage call_status         call_reason  \\\n",
       "0    social_media  JNR1001MG  Lead Stage  successful   lead_introduction   \n",
       "1    social_media  JNR1001MG  Lead Stage  successful       demo_schedule   \n",
       "2  user_referrals  JNR1001MG  Lead Stage  successful   lead_introduction   \n",
       "3  user_referrals  JNR1001MG  Lead Stage  successful       demo_schedule   \n",
       "4  user_referrals  JNR1001MG   awareness  successful  post_demo_followup   \n",
       "\n",
       "  snr_sm_id  cycle Reason_for_not_interested          language  \\\n",
       "0  SNR501MG      1       No time for student  Info Unavailable   \n",
       "1  SNR501MG      1       No time for student  Info Unavailable   \n",
       "2  SNR501MG      1            Shown Interest            Telugu   \n",
       "3  SNR501MG      1            Shown Interest            Telugu   \n",
       "4  SNR501MG      1            Shown Interest            Telugu   \n",
       "\n",
       "  watched_percentage          Lead_Status  \n",
       "0                  0  Yet to convert Lead  \n",
       "1                  0  Yet to convert Lead  \n",
       "2               42.0  Yet to convert Lead  \n",
       "3               42.0  Yet to convert Lead  \n",
       "4               42.0  Yet to convert Lead  "
      ]
     },
     "execution_count": 138,
     "metadata": {},
     "output_type": "execute_result"
    }
   ],
   "source": [
    "L4.head()"
   ]
  },
  {
   "cell_type": "markdown",
   "id": "cd7ae351",
   "metadata": {},
   "source": [
    "## Analysis"
   ]
  },
  {
   "cell_type": "code",
   "execution_count": 139,
   "id": "bb96d42f",
   "metadata": {},
   "outputs": [
    {
     "name": "stderr",
     "output_type": "stream",
     "text": [
      "C:\\Users\\Dwight Jones\\AppData\\Local\\Temp\\ipykernel_9868\\403493715.py:1: UserWarning: Ignoring `palette` because no `hue` variable has been assigned.\n",
      "  sns.displot(L4[\"age\"],palette=\"Blues_d\")\n",
      "C:\\Users\\Dwight Jones\\anaconda3\\lib\\site-packages\\seaborn\\axisgrid.py:118: UserWarning: The figure layout has changed to tight\n",
      "  self._figure.tight_layout(*args, **kwargs)\n"
     ]
    },
    {
     "data": {
      "text/plain": [
       "Text(4.944444444444445, 0.5, 'No of Leads')"
      ]
     },
     "execution_count": 139,
     "metadata": {},
     "output_type": "execute_result"
    },
    {
     "data": {
      "image/png": "[encoded data removed]",
      "text/plain": [
       "<Figure size 500x500 with 1 Axes>"
      ]
     },
     "metadata": {},
     "output_type": "display_data"
    }
   ],
   "source": [
    "sns.displot(L4[\"age\"],palette=\"Blues_d\")\n",
    "plt.title('Age Distribution', fontsize=18)\n",
    "plt.xlabel('Age', fontsize=16)\n",
    "plt.ylabel('No of Leads', fontsize=16)"
   ]
  },
  {
   "cell_type": "markdown",
   "id": "b27d0b17",
   "metadata": {},
   "source": [
    "From the above plot it could be observe that maximum no leads are 18 to 20 years old."
   ]
  },
  {
   "cell_type": "code",
   "execution_count": 140,
   "id": "15800598",
   "metadata": {},
   "outputs": [
    {
     "data": {
      "text/plain": [
       "gender\n",
       "FEMALE    985\n",
       "MALE      741\n",
       "Name: count, dtype: int64"
      ]
     },
     "execution_count": 140,
     "metadata": {},
     "output_type": "execute_result"
    },
    {
     "data": {
      "image/png": "[encoded data removed]",
      "text/plain": [
       "<Figure size 640x480 with 1 Axes>"
      ]
     },
     "metadata": {},
     "output_type": "display_data"
    }
   ],
   "source": [
    "ax = L4.groupby('gender').size().plot(kind='pie', autopct='%.2f',  y='lead_id', ylabel='')\n",
    "L4[\"gender\"].value_counts()"
   ]
  },
  {
   "cell_type": "code",
   "execution_count": 141,
   "id": "1626e0dd",
   "metadata": {},
   "outputs": [
    {
     "data": {
      "text/plain": [
       "Text(0.5, 1.0, 'Current Education')"
      ]
     },
     "execution_count": 141,
     "metadata": {},
     "output_type": "execute_result"
    },
    {
     "data": {
      "image/png": "[encoded data removed]",
      "text/plain": [
       "<Figure size 640x480 with 1 Axes>"
      ]
     },
     "metadata": {},
     "output_type": "display_data"
    }
   ],
   "source": [
    "ax = L4.groupby('current_education').size().plot(kind='pie', autopct='%.2f',  y='lead_id', ylabel='')\n",
    "ax.set_title(\"Current Education\")"
   ]
  },
  {
   "cell_type": "markdown",
   "id": "7f656605",
   "metadata": {},
   "source": [
    "> From the above chart we observe majority of leads are pursuing higher education or are in search of job."
   ]
  },
  {
   "cell_type": "code",
   "execution_count": 142,
   "id": "e4b81287",
   "metadata": {},
   "outputs": [
    {
     "data": {
      "text/plain": [
       "Text(0.5, 1.0, 'Lead Source')"
      ]
     },
     "execution_count": 142,
     "metadata": {},
     "output_type": "execute_result"
    },
    {
     "data": {
      "image/png": "[encoded data removed]",
      "text/plain": [
       "<Figure size 640x480 with 1 Axes>"
      ]
     },
     "metadata": {},
     "output_type": "display_data"
    }
   ],
   "source": [
    "ax = L4.groupby('lead_gen_source').size().plot(kind='pie', autopct='%.2f',  y='lead_id', ylabel='')\n",
    "ax.set_title(\"Lead Source\")"
   ]
  },
  {
   "cell_type": "markdown",
   "id": "dc862218",
   "metadata": {},
   "source": [
    "Around 24% of the leads came to know about the firm through social media. Other major sources contributing are SEO and email_marketing which contribute around 20% each."
   ]
  },
  {
   "cell_type": "code",
   "execution_count": 143,
   "id": "17c8feca",
   "metadata": {},
   "outputs": [
    {
     "name": "stderr",
     "output_type": "stream",
     "text": [
      "C:\\Users\\Dwight Jones\\AppData\\Local\\Temp\\ipykernel_9868\\1483378145.py:1: UserWarning: Ignoring `palette` because no `hue` variable has been assigned.\n",
      "  sns.displot(df2.watched_percentage,palette=\"Blues_d\",kde=True)\n",
      "C:\\Users\\Dwight Jones\\anaconda3\\lib\\site-packages\\seaborn\\axisgrid.py:118: UserWarning: The figure layout has changed to tight\n",
      "  self._figure.tight_layout(*args, **kwargs)\n"
     ]
    },
    {
     "data": {
      "text/plain": [
       "Text(13.819444444444445, 0.5, 'No of Leads watching video')"
      ]
     },
     "execution_count": 143,
     "metadata": {},
     "output_type": "execute_result"
    },
    {
     "data": {
      "image/png": "[encoded data removed]",
      "text/plain": [
       "<Figure size 500x500 with 1 Axes>"
      ]
     },
     "metadata": {},
     "output_type": "display_data"
    }
   ],
   "source": [
    "sns.displot(df2.watched_percentage,palette=\"Blues_d\",kde=True)\n",
    "plt.title('Watched Percentage', fontsize=18)\n",
    "plt.xlabel('Demo Video Lenght in %', fontsize=16)\n",
    "plt.ylabel('No of Leads watching video', fontsize=16)"
   ]
  },
  {
   "cell_type": "markdown",
   "id": "151ca858",
   "metadata": {},
   "source": [
    "From the above graph we can say more than 35 leads watched around 70-80% of the video. Around 10 leads watched the whole demo video.Through analysing the curve we can say majority of the leads population watch demo video over 40%"
   ]
  },
  {
   "cell_type": "code",
   "execution_count": 144,
   "id": "130e22cd",
   "metadata": {},
   "outputs": [
    {
     "data": {
      "text/html": [
       "<div>\n",
       "<style scoped>\n",
       "    .dataframe tbody tr th:only-of-type {\n",
       "        vertical-align: middle;\n",
       "    }\n",
       "\n",
       "    .dataframe tbody tr th {\n",
       "        vertical-align: top;\n",
       "    }\n",
       "\n",
       "    .dataframe thead th {\n",
       "        text-align: right;\n",
       "    }\n",
       "</style>\n",
       "<table border=\"1\" class=\"dataframe\">\n",
       "  <thead>\n",
       "    <tr style=\"text-align: right;\">\n",
       "      <th></th>\n",
       "      <th>lead_id</th>\n",
       "      <th>language</th>\n",
       "      <th>watched_percentage</th>\n",
       "      <th>age</th>\n",
       "      <th>gender</th>\n",
       "      <th>current_city</th>\n",
       "      <th>current_education</th>\n",
       "      <th>parent_occupation</th>\n",
       "      <th>lead_gen_source</th>\n",
       "    </tr>\n",
       "  </thead>\n",
       "  <tbody>\n",
       "    <tr>\n",
       "      <th>0</th>\n",
       "      <td>USR1002</td>\n",
       "      <td>Telugu</td>\n",
       "      <td>42</td>\n",
       "      <td>20</td>\n",
       "      <td>MALE</td>\n",
       "      <td>Bengaluru</td>\n",
       "      <td>B.Tech</td>\n",
       "      <td>Business</td>\n",
       "      <td>user_referrals</td>\n",
       "    </tr>\n",
       "    <tr>\n",
       "      <th>1</th>\n",
       "      <td>USR1003</td>\n",
       "      <td>Telugu</td>\n",
       "      <td>81</td>\n",
       "      <td>20</td>\n",
       "      <td>FEMALE</td>\n",
       "      <td>Visakhapatnam</td>\n",
       "      <td>B.Tech</td>\n",
       "      <td>Lawyer</td>\n",
       "      <td>user_referrals</td>\n",
       "    </tr>\n",
       "    <tr>\n",
       "      <th>2</th>\n",
       "      <td>USR1004</td>\n",
       "      <td>Telugu</td>\n",
       "      <td>35</td>\n",
       "      <td>16</td>\n",
       "      <td>MALE</td>\n",
       "      <td>Mumbai</td>\n",
       "      <td>Intermediate</td>\n",
       "      <td>IT Employee</td>\n",
       "      <td>user_referrals</td>\n",
       "    </tr>\n",
       "    <tr>\n",
       "      <th>3</th>\n",
       "      <td>USR1005</td>\n",
       "      <td>Hindi</td>\n",
       "      <td>38</td>\n",
       "      <td>16</td>\n",
       "      <td>MALE</td>\n",
       "      <td>Chennai</td>\n",
       "      <td>Intermediate</td>\n",
       "      <td>Government Employee</td>\n",
       "      <td>user_referrals</td>\n",
       "    </tr>\n",
       "    <tr>\n",
       "      <th>4</th>\n",
       "      <td>USR1006</td>\n",
       "      <td>Hindi</td>\n",
       "      <td>54</td>\n",
       "      <td>16</td>\n",
       "      <td>MALE</td>\n",
       "      <td>Kochi</td>\n",
       "      <td>Intermediate</td>\n",
       "      <td>Doctor</td>\n",
       "      <td>user_referrals</td>\n",
       "    </tr>\n",
       "  </tbody>\n",
       "</table>\n",
       "</div>"
      ],
      "text/plain": [
       "   lead_id language  watched_percentage  age  gender   current_city  \\\n",
       "0  USR1002   Telugu                  42   20    MALE      Bengaluru   \n",
       "1  USR1003   Telugu                  81   20  FEMALE  Visakhapatnam   \n",
       "2  USR1004   Telugu                  35   16    MALE         Mumbai   \n",
       "3  USR1005    Hindi                  38   16    MALE        Chennai   \n",
       "4  USR1006    Hindi                  54   16    MALE          Kochi   \n",
       "\n",
       "  current_education    parent_occupation lead_gen_source  \n",
       "0            B.Tech             Business  user_referrals  \n",
       "1            B.Tech               Lawyer  user_referrals  \n",
       "2      Intermediate          IT Employee  user_referrals  \n",
       "3      Intermediate  Government Employee  user_referrals  \n",
       "4      Intermediate               Doctor  user_referrals  "
      ]
     },
     "execution_count": 144,
     "metadata": {},
     "output_type": "execute_result"
    }
   ],
   "source": [
    "merged_leads_demo = pd.merge(df2, df1, how='inner', on = 'lead_id')\n",
    "merged_leads_demo .head(5)"
   ]
  },
  {
   "cell_type": "code",
   "execution_count": 145,
   "id": "cd5ed1c3",
   "metadata": {},
   "outputs": [
    {
     "data": {
      "text/plain": [
       "language  current_city \n",
       "English   Bengaluru        22\n",
       "          Chennai          17\n",
       "          Hyderabad        20\n",
       "          Kochi            19\n",
       "          Mumbai           11\n",
       "          Visakhapatnam    22\n",
       "Hindi     Bengaluru         3\n",
       "          Chennai           6\n",
       "          Hyderabad         3\n",
       "          Kochi             4\n",
       "          Mumbai            1\n",
       "          Visakhapatnam     2\n",
       "Telugu    Bengaluru         7\n",
       "          Chennai           7\n",
       "          Hyderabad        17\n",
       "          Kochi             8\n",
       "          Mumbai            7\n",
       "          Visakhapatnam    15\n",
       "dtype: int64"
      ]
     },
     "execution_count": 145,
     "metadata": {},
     "output_type": "execute_result"
    }
   ],
   "source": [
    "merged_leads_demo.groupby(['language', 'current_city']).size()"
   ]
  },
  {
   "cell_type": "markdown",
   "id": "463470dd",
   "metadata": {},
   "source": [
    "English language is dominant while Telugu is mainly being used in Hyderabad and Vishakapatnam"
   ]
  },
  {
   "cell_type": "code",
   "execution_count": 146,
   "id": "c023adf9",
   "metadata": {},
   "outputs": [
    {
     "data": {
      "text/plain": [
       "Text(0.5, 1.0, 'Demo Language')"
      ]
     },
     "execution_count": 146,
     "metadata": {},
     "output_type": "execute_result"
    },
    {
     "data": {
      "image/png": "[encoded data removed]",
      "text/plain": [
       "<Figure size 640x480 with 1 Axes>"
      ]
     },
     "metadata": {},
     "output_type": "display_data"
    }
   ],
   "source": [
    "ax = merged_leads_demo.groupby('language').size().plot(kind='pie', autopct='%.2f',  y='lead_id', ylabel='')\n",
    "ax.set_title(\"Demo Language\")"
   ]
  },
  {
   "cell_type": "markdown",
   "id": "36a7ac6f",
   "metadata": {},
   "source": [
    "From the above pie, it could be seen that around 58% of customers prefer watching Demo Video in English making it the major language. About 32% of the leads population prefer watching Demo in Telegu and the remaining 10% prefer Hindi."
   ]
  },
  {
   "cell_type": "code",
   "execution_count": 147,
   "id": "c0c2fdd4",
   "metadata": {},
   "outputs": [
    {
     "data": {
      "text/html": [
       "<div>\n",
       "<style scoped>\n",
       "    .dataframe tbody tr th:only-of-type {\n",
       "        vertical-align: middle;\n",
       "    }\n",
       "\n",
       "    .dataframe tbody tr th {\n",
       "        vertical-align: top;\n",
       "    }\n",
       "\n",
       "    .dataframe thead th {\n",
       "        text-align: right;\n",
       "    }\n",
       "</style>\n",
       "<table border=\"1\" class=\"dataframe\">\n",
       "  <thead>\n",
       "    <tr style=\"text-align: right;\">\n",
       "      <th></th>\n",
       "      <th>lead_id</th>\n",
       "      <th>language</th>\n",
       "      <th>watched_percentage</th>\n",
       "      <th>jnr_sm_id</th>\n",
       "      <th>lead_stage</th>\n",
       "      <th>call_status</th>\n",
       "      <th>call_reason</th>\n",
       "    </tr>\n",
       "  </thead>\n",
       "  <tbody>\n",
       "    <tr>\n",
       "      <th>0</th>\n",
       "      <td>USR1002</td>\n",
       "      <td>Telugu</td>\n",
       "      <td>42</td>\n",
       "      <td>JNR1001MG</td>\n",
       "      <td>Lead Stage</td>\n",
       "      <td>successful</td>\n",
       "      <td>lead_introduction</td>\n",
       "    </tr>\n",
       "    <tr>\n",
       "      <th>1</th>\n",
       "      <td>USR1002</td>\n",
       "      <td>Telugu</td>\n",
       "      <td>42</td>\n",
       "      <td>JNR1001MG</td>\n",
       "      <td>Lead Stage</td>\n",
       "      <td>successful</td>\n",
       "      <td>demo_schedule</td>\n",
       "    </tr>\n",
       "    <tr>\n",
       "      <th>2</th>\n",
       "      <td>USR1002</td>\n",
       "      <td>Telugu</td>\n",
       "      <td>42</td>\n",
       "      <td>JNR1001MG</td>\n",
       "      <td>awareness</td>\n",
       "      <td>successful</td>\n",
       "      <td>post_demo_followup</td>\n",
       "    </tr>\n",
       "    <tr>\n",
       "      <th>3</th>\n",
       "      <td>USR1002</td>\n",
       "      <td>Telugu</td>\n",
       "      <td>42</td>\n",
       "      <td>JNR1001MG</td>\n",
       "      <td>awareness</td>\n",
       "      <td>successful</td>\n",
       "      <td>followup_for_consideration</td>\n",
       "    </tr>\n",
       "    <tr>\n",
       "      <th>4</th>\n",
       "      <td>USR1002</td>\n",
       "      <td>Telugu</td>\n",
       "      <td>42</td>\n",
       "      <td>JNR1001MG</td>\n",
       "      <td>consideration</td>\n",
       "      <td>successful</td>\n",
       "      <td>interested_for_conversion</td>\n",
       "    </tr>\n",
       "    <tr>\n",
       "      <th>...</th>\n",
       "      <td>...</td>\n",
       "      <td>...</td>\n",
       "      <td>...</td>\n",
       "      <td>...</td>\n",
       "      <td>...</td>\n",
       "      <td>...</td>\n",
       "      <td>...</td>\n",
       "    </tr>\n",
       "    <tr>\n",
       "      <th>1227</th>\n",
       "      <td>USR1348</td>\n",
       "      <td>English</td>\n",
       "      <td>72</td>\n",
       "      <td>JNR1012MG</td>\n",
       "      <td>Lead Stage</td>\n",
       "      <td>successful</td>\n",
       "      <td>demo_not_attended</td>\n",
       "    </tr>\n",
       "    <tr>\n",
       "      <th>1228</th>\n",
       "      <td>USR1348</td>\n",
       "      <td>English</td>\n",
       "      <td>72</td>\n",
       "      <td>JNR1012MG</td>\n",
       "      <td>awareness</td>\n",
       "      <td>successful</td>\n",
       "      <td>post_demo_followup</td>\n",
       "    </tr>\n",
       "    <tr>\n",
       "      <th>1229</th>\n",
       "      <td>USR1348</td>\n",
       "      <td>English</td>\n",
       "      <td>72</td>\n",
       "      <td>JNR1012MG</td>\n",
       "      <td>awareness</td>\n",
       "      <td>successful</td>\n",
       "      <td>followup_for_consideration</td>\n",
       "    </tr>\n",
       "    <tr>\n",
       "      <th>1230</th>\n",
       "      <td>USR1348</td>\n",
       "      <td>English</td>\n",
       "      <td>72</td>\n",
       "      <td>JNR1012MG</td>\n",
       "      <td>consideration</td>\n",
       "      <td>successful</td>\n",
       "      <td>followup_for_conversion</td>\n",
       "    </tr>\n",
       "    <tr>\n",
       "      <th>1231</th>\n",
       "      <td>USR1348</td>\n",
       "      <td>English</td>\n",
       "      <td>72</td>\n",
       "      <td>JNR1012MG</td>\n",
       "      <td>consideration</td>\n",
       "      <td>successful</td>\n",
       "      <td>interested_for_conversion</td>\n",
       "    </tr>\n",
       "  </tbody>\n",
       "</table>\n",
       "<p>1232 rows × 7 columns</p>\n",
       "</div>"
      ],
      "text/plain": [
       "      lead_id language  watched_percentage  jnr_sm_id     lead_stage  \\\n",
       "0     USR1002   Telugu                  42  JNR1001MG     Lead Stage   \n",
       "1     USR1002   Telugu                  42  JNR1001MG     Lead Stage   \n",
       "2     USR1002   Telugu                  42  JNR1001MG      awareness   \n",
       "3     USR1002   Telugu                  42  JNR1001MG      awareness   \n",
       "4     USR1002   Telugu                  42  JNR1001MG  consideration   \n",
       "...       ...      ...                 ...        ...            ...   \n",
       "1227  USR1348  English                  72  JNR1012MG     Lead Stage   \n",
       "1228  USR1348  English                  72  JNR1012MG      awareness   \n",
       "1229  USR1348  English                  72  JNR1012MG      awareness   \n",
       "1230  USR1348  English                  72  JNR1012MG  consideration   \n",
       "1231  USR1348  English                  72  JNR1012MG  consideration   \n",
       "\n",
       "     call_status                 call_reason  \n",
       "0     successful           lead_introduction  \n",
       "1     successful               demo_schedule  \n",
       "2     successful          post_demo_followup  \n",
       "3     successful  followup_for_consideration  \n",
       "4     successful   interested_for_conversion  \n",
       "...          ...                         ...  \n",
       "1227  successful           demo_not_attended  \n",
       "1228  successful          post_demo_followup  \n",
       "1229  successful  followup_for_consideration  \n",
       "1230  successful     followup_for_conversion  \n",
       "1231  successful   interested_for_conversion  \n",
       "\n",
       "[1232 rows x 7 columns]"
      ]
     },
     "execution_count": 147,
     "metadata": {},
     "output_type": "execute_result"
    }
   ],
   "source": [
    "merged_interaction_demo = pd.merge(df2, df3, how='inner', on = 'lead_id')\n",
    "merged_interaction_demo"
   ]
  },
  {
   "cell_type": "code",
   "execution_count": 148,
   "id": "6b1e0e12",
   "metadata": {},
   "outputs": [
    {
     "data": {
      "text/plain": [
       "call_status   call_reason               \n",
       "successful    demo_not_attended             155\n",
       "              demo_schedule                 192\n",
       "              followup_for_consideration     30\n",
       "              followup_for_conversion       101\n",
       "              interested_for_conversion     113\n",
       "              lead_introduction             192\n",
       "              post_demo_followup            192\n",
       "              successful_conversion          63\n",
       "unsuccessful  demo_not_attended              45\n",
       "              demo_schedule                  15\n",
       "              followup_for_consideration      5\n",
       "              followup_for_conversion        19\n",
       "              interested_for_conversion      18\n",
       "              lead_introduction              92\n",
       "dtype: int64"
      ]
     },
     "execution_count": 148,
     "metadata": {},
     "output_type": "execute_result"
    }
   ],
   "source": [
    "merged_interaction_demo.groupby([ 'call_status','call_reason']).size()"
   ]
  },
  {
   "cell_type": "markdown",
   "id": "db9def8b",
   "metadata": {},
   "source": [
    "**Sales managers require to focus on earlier stages of acquisition process. Work needs to be done at the primary stages to imbibe curiosity among the leads to watch Demo Videos**"
   ]
  },
  {
   "cell_type": "code",
   "execution_count": 149,
   "id": "ad6dd9e0",
   "metadata": {},
   "outputs": [
    {
     "data": {
      "text/html": [
       "<div>\n",
       "<style scoped>\n",
       "    .dataframe tbody tr th:only-of-type {\n",
       "        vertical-align: middle;\n",
       "    }\n",
       "\n",
       "    .dataframe tbody tr th {\n",
       "        vertical-align: top;\n",
       "    }\n",
       "\n",
       "    .dataframe thead th {\n",
       "        text-align: right;\n",
       "    }\n",
       "</style>\n",
       "<table border=\"1\" class=\"dataframe\">\n",
       "  <thead>\n",
       "    <tr style=\"text-align: right;\">\n",
       "      <th></th>\n",
       "      <th>lead_id</th>\n",
       "      <th>Reason_for_not_interested</th>\n",
       "    </tr>\n",
       "  </thead>\n",
       "  <tbody>\n",
       "    <tr>\n",
       "      <th>count</th>\n",
       "      <td>294</td>\n",
       "      <td>294</td>\n",
       "    </tr>\n",
       "    <tr>\n",
       "      <th>unique</th>\n",
       "      <td>294</td>\n",
       "      <td>5</td>\n",
       "    </tr>\n",
       "    <tr>\n",
       "      <th>top</th>\n",
       "      <td>USR1001</td>\n",
       "      <td>Cannot afford</td>\n",
       "    </tr>\n",
       "    <tr>\n",
       "      <th>freq</th>\n",
       "      <td>1</td>\n",
       "      <td>99</td>\n",
       "    </tr>\n",
       "  </tbody>\n",
       "</table>\n",
       "</div>"
      ],
      "text/plain": [
       "        lead_id Reason_for_not_interested\n",
       "count       294                       294\n",
       "unique      294                         5\n",
       "top     USR1001             Cannot afford\n",
       "freq          1                        99"
      ]
     },
     "execution_count": 149,
     "metadata": {},
     "output_type": "execute_result"
    }
   ],
   "source": [
    "df4.describe()"
   ]
  },
  {
   "cell_type": "markdown",
   "id": "4dd0bf4f",
   "metadata": {},
   "source": [
    "From the above table it can be observed that There are 5 unique reasons for students not being interested of which the major reason is the users can't afford. Major reasons for leads dropping out are because of affordibility issues."
   ]
  },
  {
   "cell_type": "code",
   "execution_count": 150,
   "id": "8f718ef3",
   "metadata": {},
   "outputs": [
    {
     "data": {
      "text/plain": [
       "snr_sm_id  jnr_sm_id\n",
       "SNR501MG   JNR1001MG    33\n",
       "           JNR1002MG    20\n",
       "           JNR1003MG    20\n",
       "           JNR1004MG    20\n",
       "SNR502MG   JNR1005MG    19\n",
       "           JNR1006MG    20\n",
       "           JNR1007MG    19\n",
       "           JNR1008MG    20\n",
       "SNR503MG   JNR1009MG    20\n",
       "           JNR1010MG    21\n",
       "           JNR1011MG    26\n",
       "           JNR1012MG    31\n",
       "SNR504MG   JNR1013MG    20\n",
       "           JNR1014MG    20\n",
       "           JNR1015MG    21\n",
       "           JNR1016MG    26\n",
       "dtype: int64"
      ]
     },
     "execution_count": 150,
     "metadata": {},
     "output_type": "execute_result"
    }
   ],
   "source": [
    "df5.groupby([ 'snr_sm_id','jnr_sm_id']).size()"
   ]
  },
  {
   "cell_type": "code",
   "execution_count": 151,
   "id": "2d1cbaf1",
   "metadata": {
    "scrolled": true
   },
   "outputs": [
    {
     "data": {
      "image/png": "[encoded data removed]",
      "text/plain": [
       "<Figure size 1200x800 with 1 Axes>"
      ]
     },
     "metadata": {},
     "output_type": "display_data"
    }
   ],
   "source": [
    "fig,ax=plt.subplots(figsize=(12,8))\n",
    "ax=sns.histplot(data=df5[\"snr_sm_id\"],bins=4,color=\"skyblue\")\n",
    "ax.set(title=\"Average distribution Juniour Sales Managers to Senior Sales Managers\",ylabel=\"No of Junior Sales Managers\",xlabel=\"Senior Managers\");"
   ]
  },
  {
   "cell_type": "markdown",
   "id": "179b4a9b",
   "metadata": {},
   "source": [
    "Number of Junior Sales Managers are almost evenly assigned among Senior Sales Managers. Here we have total of 4 senior Managers"
   ]
  },
  {
   "cell_type": "code",
   "execution_count": 152,
   "id": "57c34ac6",
   "metadata": {},
   "outputs": [
    {
     "data": {
      "text/plain": [
       "64"
      ]
     },
     "execution_count": 152,
     "metadata": {},
     "output_type": "execute_result"
    }
   ],
   "source": [
    "#percentage of leads acquired \n",
    "\n",
    "acquired_leads=L4.query('call_reason == \"successful_conversion\"')['lead_id'].nunique()\n",
    "acquired_leads"
   ]
  },
  {
   "cell_type": "code",
   "execution_count": 153,
   "id": "d8aa51db",
   "metadata": {},
   "outputs": [
    {
     "data": {
      "text/plain": [
       "354"
      ]
     },
     "execution_count": 153,
     "metadata": {},
     "output_type": "execute_result"
    }
   ],
   "source": [
    "total_no_of_leads=L4.lead_id.nunique()\n",
    "total_no_of_leads"
   ]
  },
  {
   "cell_type": "code",
   "execution_count": 154,
   "id": "30178b2b",
   "metadata": {},
   "outputs": [
    {
     "name": "stdout",
     "output_type": "stream",
     "text": [
      "18.07909604519774\n"
     ]
    }
   ],
   "source": [
    "percent_of_leads_acquired=acquired_leads/total_no_of_leads*100\n",
    "print(percent_of_leads_acquired)"
   ]
  },
  {
   "cell_type": "code",
   "execution_count": 155,
   "id": "899b7a2e",
   "metadata": {},
   "outputs": [
    {
     "data": {
      "text/plain": [
       "Text(0.5, 1.0, 'Percentage of Leads')"
      ]
     },
     "execution_count": 155,
     "metadata": {},
     "output_type": "execute_result"
    },
    {
     "data": {
      "image/png": "[encoded data removed]",
      "text/plain": [
       "<Figure size 1200x600 with 1 Axes>"
      ]
     },
     "metadata": {},
     "output_type": "display_data"
    }
   ],
   "source": [
    "no_of_leads_acquired=np.array([acquired_leads, total_no_of_leads-acquired_leads])\n",
    "ig,ax=plt.subplots(figsize=(12,6))\n",
    "ax.pie(no_of_leads_acquired,labels=[\"acquired_leads\",\"total_no_of_leads\"],autopct='%.2f',colors=[\"#D1D0CE\", \"#2B547E\"],startangle=90)\n",
    "ax.set_title(\"Percentage of Leads\")"
   ]
  },
  {
   "cell_type": "markdown",
   "id": "b1304486",
   "metadata": {},
   "source": [
    "Approximately 18.08% (ie about 18% ) of customer acquisition is successfully done."
   ]
  }
 ],
 "metadata": {
  "kernelspec": {
   "display_name": "Python 3 (ipykernel)",
   "language": "python",
   "name": "python3"
  },
  "language_info": {
   "codemirror_mode": {
    "name": "ipython",
    "version": 3
   },
   "file_extension": ".py",
   "mimetype": "text/x-python",
   "name": "python",
   "nbconvert_exporter": "python",
   "pygments_lexer": "ipython3",
   "version": "3.9.18"
  }
 },
 "nbformat": 4,
 "nbformat_minor": 5
}
