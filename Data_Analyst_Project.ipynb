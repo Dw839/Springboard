{
 "cells": [
  {
   "cell_type": "code",
   "execution_count": 80,
   "id": "4cbdde2e",
   "metadata": {},
   "outputs": [],
   "source": [
    "# Importing the required libraries\n",
    "import pandas as pd\n",
    "import numpy as np\n",
    "import matplotlib.pyplot as plt\n",
    "import seaborn as sns"
   ]
  },
  {
   "cell_type": "code",
   "execution_count": 81,
   "id": "6f317c0c",
   "metadata": {},
   "outputs": [],
   "source": [
    "# loading data from leads_basic_details.csv\n",
    "df1 = pd.read_csv('leads_basic_details.csv')\n",
    "df2 = pd.read_csv('leads_demo_watched_details.csv')\n",
    "df3 = pd.read_csv('leads_interaction_details.csv')\n",
    "df4 = pd.read_csv('leads_reasons_for_no_interest.csv')\n",
    "df5 = pd.read_csv('sales_managers_assigned_leads_details.csv')"
   ]
  },
  {
   "cell_type": "markdown",
   "id": "a375e407",
   "metadata": {},
   "source": [
    "# Data Cleaning"
   ]
  },
  {
   "cell_type": "code",
   "execution_count": 82,
   "id": "060e7971",
   "metadata": {},
   "outputs": [
    {
     "name": "stdout",
     "output_type": "stream",
     "text": [
      "SHAPE OF DATASETS \n",
      "\n",
      "leads_basic_details:  (360, 7)\n",
      "leads_demo_watched_details (194, 4)\n",
      "leads_interaction_details (2192, 6)\n",
      "leads_reasons_for_no_interest (294, 4)\n",
      "sales_managers_assigned_leads_details (360, 5)\n"
     ]
    }
   ],
   "source": [
    "print('SHAPE OF DATASETS \\n')\n",
    "print('leads_basic_details: ', df1.shape)\n",
    "print('leads_demo_watched_details', df2.shape)\n",
    "print('leads_interaction_details', df3.shape)\n",
    "print('leads_reasons_for_no_interest', df4.shape)\n",
    "print('sales_managers_assigned_leads_details', df5.shape)"
   ]
  },
  {
   "cell_type": "code",
   "execution_count": 83,
   "id": "b23c5090",
   "metadata": {},
   "outputs": [
    {
     "name": "stdout",
     "output_type": "stream",
     "text": [
      "DUPLICATES COUNT \n",
      "\n",
      "leads_basic_details:  0\n",
      "leads_demo_watched_details:  0\n",
      "leads_interaction_details:  438\n",
      "leads_reasons_for_no_interest:  0\n",
      "sales_managers_assigned_leads_details:  0\n"
     ]
    }
   ],
   "source": [
    "print('DUPLICATES COUNT \\n')\n",
    "print('leads_basic_details: ', df1.duplicated().sum())\n",
    "print('leads_demo_watched_details: ', df2.duplicated().sum())\n",
    "print('leads_interaction_details: ', df3.duplicated().sum())\n",
    "print('leads_reasons_for_no_interest: ', df4.duplicated().sum())\n",
    "print('sales_managers_assigned_leads_details: ', df5.duplicated().sum())"
   ]
  },
  {
   "cell_type": "markdown",
   "id": "a571b34a",
   "metadata": {},
   "source": [
    "> Notice that there are duplicate records in leads_interaction_details dataset.\n",
    "> Will need to drop these records before using the data for analysis."
   ]
  },
  {
   "cell_type": "code",
   "execution_count": 84,
   "id": "161cadcd",
   "metadata": {},
   "outputs": [
    {
     "name": "stdout",
     "output_type": "stream",
     "text": [
      "leads_interaction_details:  0\n"
     ]
    }
   ],
   "source": [
    "df3.drop_duplicates(inplace=True)\n",
    "print('leads_interaction_details: ', df3.duplicated().sum())"
   ]
  },
  {
   "cell_type": "code",
   "execution_count": null,
   "id": "909f2540",
   "metadata": {},
   "outputs": [],
   "source": [
    "print('NULL VALUE COUNT\\n')\n",
    "print('leads_basic_details:\\n\\n', df1.isnull().sum())\n",
    "print('leads_demo_watched_details:\\n\\n', df2.isnull().sum())\n",
    "print('leads_interaction_details:\\n\\n', df3.isnull().sum())\n",
    "print('leads_reasons_for_no_interest:\\n\\n', df4.isnull().sum())\n",
    "print('sales_managers_assigned_leads_details:\\n\\n', df5.isnull().sum())"
   ]
  },
  {
   "cell_type": "markdown",
   "id": "e45bd9a4",
   "metadata": {},
   "source": [
    "> Look for null values, duplic, inconsistencies in data\n",
    "> Start with dataset from df1 through df5"
   ]
  },
  {
   "cell_type": "markdown",
   "id": "a5bedcf1",
   "metadata": {},
   "source": [
    "### Dataframe df1"
   ]
  },
  {
   "cell_type": "code",
   "execution_count": null,
   "id": "62aa1b34",
   "metadata": {},
   "outputs": [],
   "source": [
    "df1.info()"
   ]
  },
  {
   "cell_type": "code",
   "execution_count": null,
   "id": "30577cca",
   "metadata": {},
   "outputs": [],
   "source": [
    "df1.describe()"
   ]
  },
  {
   "cell_type": "markdown",
   "id": "8e4ca960",
   "metadata": {},
   "source": [
    "> It is observe there is huge gap between the 75% value and the max value. 211 years of age is an unrealistic number and appears to be an outlier. Lets see how the plot verifies this."
   ]
  },
  {
   "cell_type": "code",
   "execution_count": null,
   "id": "9bdb5ca5",
   "metadata": {},
   "outputs": [],
   "source": [
    "plt.figure(figsize=(13,5))\n",
    "plt.suptitle(\"Distribution of age\", fontsize= 20, fontweight = 5, color = 'Red')\n",
    "ticks = np.arange(0,200,20)\n",
    "label = [\"{}\".format(i) for i in ticks]\n",
    "plt.yticks(ticks,label)\n",
    "sns.boxplot(y=df1.age)\n",
    "\n",
    "plt.show()"
   ]
  },
  {
   "cell_type": "markdown",
   "id": "321b835d",
   "metadata": {},
   "source": [
    "> The above shows there is more than one outliers. There are two. It is necessary to remove these outliers before this data can be used for further analysis."
   ]
  },
  {
   "cell_type": "code",
   "execution_count": null,
   "id": "bdd6c64e",
   "metadata": {},
   "outputs": [],
   "source": [
    "# Seperating values greater than 90 percentile as outliers and storing into a different dataset. \n",
    "df1_outlier = df1[df1.age>df1.age.quantile(0.90)]\n",
    "# Displaying the outliers\n",
    "df1_outlier"
   ]
  },
  {
   "cell_type": "code",
   "execution_count": null,
   "id": "0e4af8ad",
   "metadata": {},
   "outputs": [],
   "source": [
    "# Removing the outliers for df1 dataset\n",
    "df1 = df1.drop([df1_outlier.index[0] , df1_outlier.index[1]])"
   ]
  },
  {
   "cell_type": "code",
   "execution_count": null,
   "id": "4ad8f180",
   "metadata": {},
   "outputs": [],
   "source": [
    "df1.shape"
   ]
  },
  {
   "cell_type": "code",
   "execution_count": null,
   "id": "0ba46017",
   "metadata": {},
   "outputs": [],
   "source": [
    "# Re-plotting age distribution after handling the outliers\n",
    "plt.figure(figsize=(13,5))\n",
    "plt.suptitle(\"Distribution of age\", fontsize= 20, fontweight = 5, color = 'Red')\n",
    "ticks = np.arange(0,40,1)\n",
    "label = [\"{}\".format(i) for i in ticks]\n",
    "plt.yticks(ticks,label)\n",
    "sns.boxplot(y=df1.age)\n",
    "plt.show()"
   ]
  },
  {
   "cell_type": "markdown",
   "id": "29c0d851",
   "metadata": {},
   "source": [
    "> The above shows that outliers are no longer present in df1 data.\n",
    "\n",
    "> Majority of the students are between the ages 18 and 24 years."
   ]
  },
  {
   "cell_type": "code",
   "execution_count": null,
   "id": "15d5cc69",
   "metadata": {},
   "outputs": [],
   "source": [
    "df1.gender.value_counts()"
   ]
  },
  {
   "cell_type": "code",
   "execution_count": null,
   "id": "6bc73b1c",
   "metadata": {},
   "outputs": [],
   "source": [
    "df1.columns"
   ]
  },
  {
   "cell_type": "code",
   "execution_count": null,
   "id": "fc126c4a",
   "metadata": {},
   "outputs": [],
   "source": [
    "df1.current_education.value_counts()"
   ]
  },
  {
   "cell_type": "markdown",
   "id": "7c3b46cd",
   "metadata": {},
   "source": [
    "> 'Intermediate' and 'Intermediate Completed' are the same.\n",
    "\n",
    "> Therefore rename one of these values to draw more accurate results in further analysis."
   ]
  },
  {
   "cell_type": "code",
   "execution_count": null,
   "id": "a849f329",
   "metadata": {},
   "outputs": [],
   "source": [
    "df1['current_education'].replace({'Intermediate Completed':'Intermediate'}, inplace=True)"
   ]
  },
  {
   "cell_type": "markdown",
   "id": "52d0e88a",
   "metadata": {},
   "source": [
    "### Dataframe df2"
   ]
  },
  {
   "cell_type": "code",
   "execution_count": null,
   "id": "30b24cb9",
   "metadata": {},
   "outputs": [],
   "source": [
    "df2.info()"
   ]
  },
  {
   "cell_type": "code",
   "execution_count": null,
   "id": "619f4939",
   "metadata": {},
   "outputs": [],
   "source": [
    "df2.describe()"
   ]
  },
  {
   "cell_type": "markdown",
   "id": "253e8e99",
   "metadata": {},
   "source": [
    "> It is observe that the max watched_percentage is beyond 100 which is inaccurate or unrealistic. Let see how the plot verifies the outliers in this field."
   ]
  },
  {
   "cell_type": "code",
   "execution_count": null,
   "id": "abed1d19",
   "metadata": {},
   "outputs": [],
   "source": [
    "# Plotting Watched Percentage\n",
    "plt.figure(figsize=(13,5))\n",
    "plt.suptitle(\"Distribution of Watched_Percentage\", fontsize= 25, fontweight = 5, color = 'Red')\n",
    "ticks = np.arange(0,200,20)\n",
    "label = [\"{}\".format(i) for i in ticks]\n",
    "plt.yticks(ticks,label)\n",
    "sns.boxplot(y=df2.watched_percentage)\n",
    "\n",
    "plt.show()"
   ]
  },
  {
   "cell_type": "markdown",
   "id": "91699204",
   "metadata": {},
   "source": [
    "> It shows there are not one but two outliers that are beyond the 100%. These outliers must be removed from teh dataset to normalize the data and be used for analysis."
   ]
  },
  {
   "cell_type": "code",
   "execution_count": null,
   "id": "d5b1a794",
   "metadata": {},
   "outputs": [],
   "source": [
    "# Identifying outliers whose watched percentage is beyond 100\n",
    "df2_outlier = df2[df2.watched_percentage>100]\n",
    "df2_outlier"
   ]
  },
  {
   "cell_type": "code",
   "execution_count": null,
   "id": "d3db5372",
   "metadata": {},
   "outputs": [],
   "source": [
    "# Removing the outliers from df2 dataset\n",
    "df2 = df2.drop([df2_outlier.index[0] , df2_outlier.index[1]])\n",
    "df2.shape"
   ]
  },
  {
   "cell_type": "code",
   "execution_count": null,
   "id": "908e19b9",
   "metadata": {},
   "outputs": [],
   "source": [
    "# Plotting watched percentage after handling outliers\n",
    "plt.figure(figsize=(13,5))\n",
    "plt.suptitle(\"Distribution of Watched_Percentage\", fontsize= 25, fontweight = 5, color = 'Black')\n",
    "ticks = np.arange(0,200,20)\n",
    "label = [\"{}\".format(i) for i in ticks]\n",
    "plt.yticks(ticks,label)\n",
    "sns.boxplot(y=df2.watched_percentage)\n",
    "\n",
    "plt.show()"
   ]
  },
  {
   "cell_type": "code",
   "execution_count": null,
   "id": "fb05e8be",
   "metadata": {},
   "outputs": [],
   "source": [
    "df2 = df2.drop(['demo_watched_date'], axis=1)"
   ]
  },
  {
   "cell_type": "code",
   "execution_count": null,
   "id": "517a583e",
   "metadata": {},
   "outputs": [],
   "source": [
    "df2"
   ]
  },
  {
   "cell_type": "markdown",
   "id": "375b1305",
   "metadata": {},
   "source": [
    "### Dataframe df3"
   ]
  },
  {
   "cell_type": "code",
   "execution_count": null,
   "id": "99f441a8",
   "metadata": {},
   "outputs": [],
   "source": [
    "df3.info()"
   ]
  },
  {
   "cell_type": "code",
   "execution_count": null,
   "id": "e36f35ab",
   "metadata": {},
   "outputs": [],
   "source": [
    "df3 = df3.drop(['call_done_date'], axis=1)\n",
    "df3.head()"
   ]
  },
  {
   "cell_type": "code",
   "execution_count": null,
   "id": "4d0779e0",
   "metadata": {},
   "outputs": [],
   "source": [
    "#Identify and drop duplicates\n",
    "print(df3.duplicated().sum())\n",
    "df3.drop_duplicates(inplace=True)"
   ]
  },
  {
   "cell_type": "code",
   "execution_count": null,
   "id": "0782b170",
   "metadata": {},
   "outputs": [],
   "source": [
    "# Renaming the stages according the the last stage each lead was in.\n",
    "df3['lead_stage'].replace({'lead':'Lead Stage','lead-awareness': 'Awareness Stage', 'lead-awareness-consideration':'Consideration Stage', 'lead-awareness-consideration-conversion':'Conversion Stage' }, inplace=True)"
   ]
  },
  {
   "cell_type": "code",
   "execution_count": null,
   "id": "604ed891",
   "metadata": {},
   "outputs": [],
   "source": [
    "#Verifying count of leads in each stage\n",
    "df3.lead_stage.value_counts()"
   ]
  },
  {
   "cell_type": "markdown",
   "id": "6bed9b17",
   "metadata": {},
   "source": [
    "### Dataframe df4"
   ]
  },
  {
   "cell_type": "code",
   "execution_count": null,
   "id": "7f7ddad0",
   "metadata": {},
   "outputs": [],
   "source": [
    "df4.info()"
   ]
  },
  {
   "cell_type": "markdown",
   "id": "9b69fcaf",
   "metadata": {},
   "source": [
    "> Observe that the leads_reasons_for_no_interest dataset has null values in its columns.\n",
    "\n",
    "> Up on observation, it could be noticed that these columns in the dataset are all speaking of the reason why the lead did not show interest at any given stage (i.e reason for not interested).\n",
    "\n",
    "> In this scenario, it is advisable to combine the values of these three columns into a single column named 'reason_for_not_interested' and carry out further analysis."
   ]
  },
  {
   "cell_type": "code",
   "execution_count": null,
   "id": "232d0a14",
   "metadata": {},
   "outputs": [],
   "source": [
    "# Replacing Null values with an empty string\n",
    "df4['reasons_for_not_interested_in_demo'] = df4['reasons_for_not_interested_in_demo'].fillna('')\n",
    "df4['reasons_for_not_interested_to_consider'] = df4['reasons_for_not_interested_to_consider'].fillna('')\n",
    "df4['reasons_for_not_interested_to_convert'] = df4['reasons_for_not_interested_to_convert'].fillna('')"
   ]
  },
  {
   "cell_type": "code",
   "execution_count": null,
   "id": "ace1a772",
   "metadata": {},
   "outputs": [],
   "source": [
    "# Combine all the values in the existing columns and store them in the new column.\n",
    "df4['Reason_for_not_interested'] = df4['reasons_for_not_interested_in_demo'] + df4['reasons_for_not_interested_to_consider'] + df4['reasons_for_not_interested_to_convert']"
   ]
  },
  {
   "cell_type": "code",
   "execution_count": null,
   "id": "39ba6f1f",
   "metadata": {},
   "outputs": [],
   "source": [
    "# Drop the redundant columns that are no longer required for analysis\n",
    "df4 = df4.drop(['reasons_for_not_interested_in_demo','reasons_for_not_interested_to_consider', 'reasons_for_not_interested_to_convert'], axis=1)"
   ]
  },
  {
   "cell_type": "code",
   "execution_count": null,
   "id": "db1e02d4",
   "metadata": {},
   "outputs": [],
   "source": [
    "# Now leads_reasons_for_no_interest will be having 'lead_id' and 'Reason_for_not_interested' in its dataset that can be used for further analysis.\n",
    "df4.info()"
   ]
  },
  {
   "cell_type": "code",
   "execution_count": null,
   "id": "94b52288",
   "metadata": {},
   "outputs": [],
   "source": [
    "df4.Reason_for_not_interested.value_counts()"
   ]
  },
  {
   "cell_type": "markdown",
   "id": "066a3a42",
   "metadata": {},
   "source": [
    "> There are two values in 'Reason_for_not_interested' column that mean the same.\n",
    "\n",
    "> One is 'Can't afford' and another is 'Cannot afford'\n",
    "\n",
    "> Rename one of these values for more accurate results."
   ]
  },
  {
   "cell_type": "code",
   "execution_count": null,
   "id": "e8734bdd",
   "metadata": {},
   "outputs": [],
   "source": [
    "df4['Reason_for_not_interested'].replace({\"Can't afford\":'Cannot afford'}, inplace=True)"
   ]
  },
  {
   "cell_type": "markdown",
   "id": "73cce2bd",
   "metadata": {},
   "source": [
    "### Dataframe df5"
   ]
  },
  {
   "cell_type": "code",
   "execution_count": null,
   "id": "751585c7",
   "metadata": {},
   "outputs": [],
   "source": [
    "df5.info()"
   ]
  },
  {
   "cell_type": "code",
   "execution_count": null,
   "id": "b59a3268",
   "metadata": {},
   "outputs": [],
   "source": [
    "df5 = df5.drop(['assigned_date'], axis=1)\n",
    "df5.shape"
   ]
  },
  {
   "cell_type": "code",
   "execution_count": null,
   "id": "eea8c896",
   "metadata": {},
   "outputs": [],
   "source": [
    "# Removing the outliers identified in df1 and df2 from df5\n",
    "df5 = df5.drop([df1_outlier.index[0] , df1_outlier.index[1], df2_outlier.index[0] , df2_outlier.index[1]])"
   ]
  },
  {
   "cell_type": "code",
   "execution_count": null,
   "id": "cb4ed9bb",
   "metadata": {},
   "outputs": [],
   "source": [
    "print('SHAPE OF DATASETS \\n')\n",
    "print('leads_basic_details: ', df1.shape)\n",
    "print('leads_demo_watched_details', df2.shape)\n",
    "print('leads_interaction_details', df3.shape)\n",
    "print('leads_reasons_for_no_interest', df4.shape)\n",
    "print('sales_managers_assigned_leads_details', df5.shape)"
   ]
  },
  {
   "cell_type": "code",
   "execution_count": null,
   "id": "341b0730",
   "metadata": {},
   "outputs": [],
   "source": [
    "L1 = pd.merge(df1,df3)\n",
    "L1.info()"
   ]
  },
  {
   "cell_type": "code",
   "execution_count": null,
   "id": "3989870b",
   "metadata": {},
   "outputs": [],
   "source": [
    "L2 = pd.merge(L1,df5)\n",
    "L2.info()"
   ]
  },
  {
   "cell_type": "code",
   "execution_count": null,
   "id": "796282c7",
   "metadata": {},
   "outputs": [],
   "source": [
    "L3 = pd.merge(L2, df4, how = 'left', on='lead_id')\n",
    "L3.info()"
   ]
  },
  {
   "cell_type": "code",
   "execution_count": null,
   "id": "4284a236",
   "metadata": {},
   "outputs": [],
   "source": [
    "L3['Reason_for_not_interested'] = L3['Reason_for_not_interested'].fillna('Shown Interest')"
   ]
  },
  {
   "cell_type": "code",
   "execution_count": null,
   "id": "6410627c",
   "metadata": {},
   "outputs": [],
   "source": [
    "L3.info()"
   ]
  },
  {
   "cell_type": "code",
   "execution_count": null,
   "id": "bce8aa2e",
   "metadata": {},
   "outputs": [],
   "source": [
    "L4 = pd.merge(L3,df2,how='left',on='lead_id')\n",
    "L4.info()"
   ]
  },
  {
   "cell_type": "code",
   "execution_count": null,
   "id": "44bdd3a2",
   "metadata": {},
   "outputs": [],
   "source": [
    "L4['language'] = L4['language'].fillna('Info Unavailable')"
   ]
  },
  {
   "cell_type": "code",
   "execution_count": null,
   "id": "5c61cf30",
   "metadata": {},
   "outputs": [],
   "source": [
    "L4['watched_percentage'] = L4['watched_percentage'].fillna('0')"
   ]
  },
  {
   "cell_type": "code",
   "execution_count": null,
   "id": "10cefe75",
   "metadata": {},
   "outputs": [],
   "source": [
    "L4.info()"
   ]
  },
  {
   "cell_type": "code",
   "execution_count": null,
   "id": "f20fe3d6",
   "metadata": {},
   "outputs": [],
   "source": [
    "L4.duplicated().sum()"
   ]
  },
  {
   "cell_type": "code",
   "execution_count": null,
   "id": "12629d76",
   "metadata": {},
   "outputs": [],
   "source": [
    "L4['Lead_Status'] = np.where(L4['lead_stage'] == 'Conversion Stage', 'Converted Lead', 'Yet to convert Lead')"
   ]
  },
  {
   "cell_type": "code",
   "execution_count": null,
   "id": "9204e317",
   "metadata": {},
   "outputs": [],
   "source": [
    "L4.head()"
   ]
  },
  {
   "cell_type": "markdown",
   "id": "0f590947",
   "metadata": {},
   "source": [
    "## Analysis"
   ]
  },
  {
   "cell_type": "code",
   "execution_count": null,
   "id": "a712303a",
   "metadata": {},
   "outputs": [],
   "source": [
    "sns.displot(L4[\"age\"],palette=\"Blues_d\")\n",
    "plt.title('Age Distribution', fontsize=18)\n",
    "plt.xlabel('Age', fontsize=16)\n",
    "plt.ylabel('No of Leads', fontsize=16)"
   ]
  },
  {
   "cell_type": "markdown",
   "id": "b8094294",
   "metadata": {},
   "source": [
    "From the above plot it could be observe that maximum no leads are 18 to 20 years old."
   ]
  },
  {
   "cell_type": "code",
   "execution_count": null,
   "id": "29d9eb9f",
   "metadata": {},
   "outputs": [],
   "source": [
    "ax = L4.groupby('gender').size().plot(kind='pie', autopct='%.2f',  y='lead_id', ylabel='')\n",
    "L4[\"gender\"].value_counts()"
   ]
  },
  {
   "cell_type": "code",
   "execution_count": null,
   "id": "824904af",
   "metadata": {},
   "outputs": [],
   "source": [
    "ax = L4.groupby('current_education').size().plot(kind='pie', autopct='%.2f',  y='lead_id', ylabel='')\n",
    "ax.set_title(\"Current Education\")"
   ]
  },
  {
   "cell_type": "markdown",
   "id": "62256c51",
   "metadata": {},
   "source": [
    "> From the above chart we observe majority of leads are pursuing higher education or are in search of job."
   ]
  },
  {
   "cell_type": "code",
   "execution_count": null,
   "id": "72dce208",
   "metadata": {},
   "outputs": [],
   "source": [
    "ax = L4.groupby('lead_gen_source').size().plot(kind='pie', autopct='%.2f',  y='lead_id', ylabel='')\n",
    "ax.set_title(\"Lead Source\")"
   ]
  },
  {
   "cell_type": "markdown",
   "id": "95cd36f2",
   "metadata": {},
   "source": [
    "Around 24% of the leads came to know about the firm through social media. Other major sources contributing are SEO and email_marketing which contribute around 20% each."
   ]
  },
  {
   "cell_type": "code",
   "execution_count": null,
   "id": "4b64db1d",
   "metadata": {},
   "outputs": [],
   "source": [
    "sns.displot(df2.watched_percentage,palette=\"Blues_d\",kde=True)\n",
    "plt.title('Watched Percentage', fontsize=18)\n",
    "plt.xlabel('Demo Video Lenght in %', fontsize=16)\n",
    "plt.ylabel('No of Leads watching video', fontsize=16)"
   ]
  },
  {
   "cell_type": "markdown",
   "id": "a1dda4e6",
   "metadata": {},
   "source": [
    "From the above graph we can say more than 35 leads watched around 70-80% of the video. Around 10 leads watched the whole demo video.Through analysing the curve we can say majority of the leads population watch demo video over 40%"
   ]
  },
  {
   "cell_type": "code",
   "execution_count": null,
   "id": "1d7ad4c1",
   "metadata": {},
   "outputs": [],
   "source": [
    "merged_leads_demo = pd.merge(df2, df1, how='inner', on = 'lead_id')\n",
    "merged_leads_demo .head(5)"
   ]
  },
  {
   "cell_type": "code",
   "execution_count": null,
   "id": "e78372e3",
   "metadata": {},
   "outputs": [],
   "source": [
    "merged_leads_demo.groupby(['language', 'current_city']).size()"
   ]
  },
  {
   "cell_type": "markdown",
   "id": "bee0c30e",
   "metadata": {},
   "source": [
    "English language is dominant while Telugu is mainly being used in Hyderabad and Vishakapatnam"
   ]
  },
  {
   "cell_type": "code",
   "execution_count": null,
   "id": "d2afc292",
   "metadata": {},
   "outputs": [],
   "source": [
    "ax = merged_leads_demo.groupby('language').size().plot(kind='pie', autopct='%.2f',  y='lead_id', ylabel='')\n",
    "ax.set_title(\"Demo Language\")"
   ]
  },
  {
   "cell_type": "markdown",
   "id": "e51af1bb",
   "metadata": {},
   "source": [
    "From the above pie, it could be seen that around 58% of customers prefer watching Demo Video in English making it the major language. About 32% of the leads population prefer watching Demo in Telegu and the remaining 10% prefer Hindi."
   ]
  },
  {
   "cell_type": "code",
   "execution_count": null,
   "id": "92312766",
   "metadata": {},
   "outputs": [],
   "source": [
    "merged_interaction_demo = pd.merge(df2, df3, how='inner', on = 'lead_id')\n",
    "merged_interaction_demo"
   ]
  },
  {
   "cell_type": "code",
   "execution_count": null,
   "id": "ec2030ae",
   "metadata": {},
   "outputs": [],
   "source": [
    "merged_interaction_demo.groupby([ 'call_status','call_reason']).size()"
   ]
  },
  {
   "cell_type": "markdown",
   "id": "b374881a",
   "metadata": {},
   "source": [
    "**Sales managers require to focus on earlier stages of acquisition process. Work needs to be done at the primary stages to imbibe curiosity among the leads to watch Demo Videos**"
   ]
  },
  {
   "cell_type": "code",
   "execution_count": null,
   "id": "cc4b988a",
   "metadata": {},
   "outputs": [],
   "source": [
    "df4.describe()"
   ]
  },
  {
   "cell_type": "markdown",
   "id": "2e0498d0",
   "metadata": {},
   "source": [
    "From the above table it can be observed that There are 5 unique reasons for students not being interested of which the major reason is the users can't afford. Major reasons for leads dropping out are because of affordibility issues."
   ]
  },
  {
   "cell_type": "code",
   "execution_count": null,
   "id": "027cc58d",
   "metadata": {},
   "outputs": [],
   "source": [
    "df5.groupby([ 'snr_sm_id','jnr_sm_id']).size()"
   ]
  },
  {
   "cell_type": "code",
   "execution_count": null,
   "id": "3f9d518b",
   "metadata": {
    "scrolled": true
   },
   "outputs": [],
   "source": [
    "fig,ax=plt.subplots(figsize=(12,8))\n",
    "ax=sns.histplot(data=df5[\"snr_sm_id\"],bins=4,color=\"skyblue\")\n",
    "ax.set(title=\"Average distribution Juniour Sales Managers to Senior Sales Managers\",ylabel=\"No of Junior Sales Managers\",xlabel=\"Senior Managers\");"
   ]
  },
  {
   "cell_type": "markdown",
   "id": "d4352698",
   "metadata": {},
   "source": [
    "Number of Junior Sales Managers are almost evenly assigned among Senior Sales Managers. Here we have total of 4 senior Managers"
   ]
  },
  {
   "cell_type": "code",
   "execution_count": null,
   "id": "836249f8",
   "metadata": {},
   "outputs": [],
   "source": [
    "#percentage of leads acquired \n",
    "\n",
    "acquired_leads=L4.query('call_reason == \"successful_conversion\"')['lead_id'].nunique()\n",
    "acquired_leads"
   ]
  },
  {
   "cell_type": "code",
   "execution_count": null,
   "id": "69c2dad1",
   "metadata": {},
   "outputs": [],
   "source": [
    "total_no_of_leads=L4.lead_id.nunique()\n",
    "total_no_of_leads"
   ]
  },
  {
   "cell_type": "code",
   "execution_count": null,
   "id": "d473f11d",
   "metadata": {},
   "outputs": [],
   "source": [
    "percent_of_leads_acquired=acquired_leads/total_no_of_leads*100\n",
    "print(percent_of_leads_acquired)"
   ]
  },
  {
   "cell_type": "code",
   "execution_count": null,
   "id": "c27e49c6",
   "metadata": {},
   "outputs": [],
   "source": [
    "no_of_leads_acquired=np.array([acquired_leads, total_no_of_leads-acquired_leads])\n",
    "ig,ax=plt.subplots(figsize=(12,6))\n",
    "ax.pie(no_of_leads_acquired,labels=[\"acquired_leads\",\"total_no_of_leads\"],autopct='%.2f',colors=[\"#D1D0CE\", \"#2B547E\"],startangle=90)\n",
    "ax.set_title(\"Percentage of Leads\")"
   ]
  },
  {
   "cell_type": "markdown",
   "id": "c1e268c9",
   "metadata": {},
   "source": [
    "Approximately 18.08% (ie about 18% ) of customer acquisition is successfully done."
   ]
  }
 ],
 "metadata": {
  "kernelspec": {
   "display_name": "Python 3 (ipykernel)",
   "language": "python",
   "name": "python3"
  },
  "language_info": {
   "codemirror_mode": {
    "name": "ipython",
    "version": 3
   },
   "file_extension": ".py",
   "mimetype": "text/x-python",
   "name": "python",
   "nbconvert_exporter": "python",
   "pygments_lexer": "ipython3",
   "version": "3.9.18"
  }
 },
 "nbformat": 4,
 "nbformat_minor": 5
}
