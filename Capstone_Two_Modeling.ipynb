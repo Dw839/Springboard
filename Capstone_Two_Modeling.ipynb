{
 "cells": [
  {
   "cell_type": "markdown",
   "id": "363fc4bd",
   "metadata": {},
   "source": [
    "### Classification Modeling"
   ]
  },
  {
   "cell_type": "markdown",
   "id": "235a7d4b",
   "metadata": {},
   "source": [
    "#### Data Preparation"
   ]
  },
  {
   "cell_type": "markdown",
   "id": "2ac800b4",
   "metadata": {},
   "source": [
    "Encoding\n",
    "\n",
    "Feature Selection"
   ]
  },
  {
   "cell_type": "markdown",
   "id": "caff11c8",
   "metadata": {},
   "source": [
    "## One hot encoding for categorical attributes"
   ]
  },
  {
   "cell_type": "markdown",
   "id": "3ef569bc",
   "metadata": {},
   "source": [
    "We converted some categorical variables into numeric variables via one hot encoding method in which one dummy variable would be created for every object in the categorical variable. If the particular object is present, the value would be denoted as 1, otherwise the value would be 0."
   ]
  },
  {
   "cell_type": "code",
   "execution_count": 57,
   "id": "212d7a4d",
   "metadata": {},
   "outputs": [],
   "source": [
    "Carrier = pd.get_dummies(flight_data['OP_CARRIER'],prefix=\"OP_CARRIER\",drop_first=False)\n",
    "#Destination = pd.get_dummies(flight_data['DEST'],drop_first=False)\n",
    "#Destination.columns = ['Charlotte_Airport','Chicago_Airport','Dallas_Airpot','Denver_Airport','Dentroit_Airport','GELL_Airpot','George_Aiport','Hartsfield_Airport','JohnFKeenedy_Airpot','LaGuardia_Airport','LosAngelas_Airport','McCarran_Airport','MSP_Airport','NL_Airport','Orlando_Airport','Philadelphia_Airport','Phoenix_Airport','Ronald_Airport','SanFrancisco_Airport','Seattle_Aiport']                  \n",
    "month= pd.get_dummies(flight_data['MONTH_AB'],prefix=\"MONTH\",drop_first=False)\n",
    "day= pd.get_dummies(flight_data['DAYNAME'],prefix=\"DAY\",drop_first=False)\n",
    "\n",
    "#flight_data_new=pd.concat([flight_data,Carrier,Destination,month,day],axis=1)\n",
    "flight_data_new=pd.concat([flight_data,Carrier,month,day],axis=1)"
   ]
  },
  {
   "cell_type": "code",
   "execution_count": 58,
   "id": "0b5c0d19",
   "metadata": {},
   "outputs": [
    {
     "data": {
      "text/html": [
       "<div>\n",
       "<style scoped>\n",
       "    .dataframe tbody tr th:only-of-type {\n",
       "        vertical-align: middle;\n",
       "    }\n",
       "\n",
       "    .dataframe tbody tr th {\n",
       "        vertical-align: top;\n",
       "    }\n",
       "\n",
       "    .dataframe thead th {\n",
       "        text-align: right;\n",
       "    }\n",
       "</style>\n",
       "<table border=\"1\" class=\"dataframe\">\n",
       "  <thead>\n",
       "    <tr style=\"text-align: right;\">\n",
       "      <th></th>\n",
       "      <th>FL_DATE</th>\n",
       "      <th>OP_CARRIER</th>\n",
       "      <th>ORIGIN</th>\n",
       "      <th>DEST</th>\n",
       "      <th>DEP_DELAY</th>\n",
       "      <th>TAXI_OUT</th>\n",
       "      <th>TAXI_IN</th>\n",
       "      <th>ARR_DELAY</th>\n",
       "      <th>DIVERTED</th>\n",
       "      <th>CRS_ELAPSED_TIME</th>\n",
       "      <th>ACTUAL_ELAPSED_TIME</th>\n",
       "      <th>AIR_TIME</th>\n",
       "      <th>DISTANCE</th>\n",
       "      <th>CARRIER_DELAY</th>\n",
       "      <th>WEATHER_DELAY</th>\n",
       "      <th>NAS_DELAY</th>\n",
       "      <th>SECURITY_DELAY</th>\n",
       "      <th>LATE_AIRCRAFT_DELAY</th>\n",
       "      <th>WHEELS_OFF_elapse</th>\n",
       "      <th>WHEELS_ON_elapse</th>\n",
       "      <th>DAY</th>\n",
       "      <th>MONTH</th>\n",
       "      <th>MONTH_AB</th>\n",
       "      <th>DAYOFWEEK</th>\n",
       "      <th>DAYNAME</th>\n",
       "      <th>WEEKDAY</th>\n",
       "      <th>FLIGHT_STATUS</th>\n",
       "      <th>OP_CARRIER_Alaska Airlines</th>\n",
       "      <th>OP_CARRIER_American Airlines</th>\n",
       "      <th>OP_CARRIER_Delta Airlines</th>\n",
       "      <th>OP_CARRIER_ExpressJet</th>\n",
       "      <th>OP_CARRIER_Frontier Airlines</th>\n",
       "      <th>OP_CARRIER_SkyWest Airlines</th>\n",
       "      <th>OP_CARRIER_Southwest Airlines</th>\n",
       "      <th>OP_CARRIER_Spirit Airlines</th>\n",
       "      <th>OP_CARRIER_United Airlines</th>\n",
       "      <th>MONTH_Apr</th>\n",
       "      <th>MONTH_Aug</th>\n",
       "      <th>MONTH_Dec</th>\n",
       "      <th>MONTH_Feb</th>\n",
       "      <th>MONTH_Jan</th>\n",
       "      <th>MONTH_Jul</th>\n",
       "      <th>MONTH_Jun</th>\n",
       "      <th>MONTH_Mar</th>\n",
       "      <th>MONTH_May</th>\n",
       "      <th>MONTH_Nov</th>\n",
       "      <th>MONTH_Oct</th>\n",
       "      <th>MONTH_Sep</th>\n",
       "      <th>DAY_Friday</th>\n",
       "      <th>DAY_Monday</th>\n",
       "      <th>DAY_Saturday</th>\n",
       "      <th>DAY_Sunday</th>\n",
       "      <th>DAY_Thursday</th>\n",
       "      <th>DAY_Tuesday</th>\n",
       "      <th>DAY_Wednesday</th>\n",
       "    </tr>\n",
       "  </thead>\n",
       "  <tbody>\n",
       "    <tr>\n",
       "      <th>2</th>\n",
       "      <td>2016-01-01</td>\n",
       "      <td>Delta Airlines</td>\n",
       "      <td>Los Angeles International Airport</td>\n",
       "      <td>Hartsfield-Jackson Atlanta International Airport</td>\n",
       "      <td>1.0</td>\n",
       "      <td>19.0</td>\n",
       "      <td>5.0</td>\n",
       "      <td>-13.0</td>\n",
       "      <td>0.0</td>\n",
       "      <td>245.0</td>\n",
       "      <td>231.0</td>\n",
       "      <td>207.0</td>\n",
       "      <td>1947.0</td>\n",
       "      <td>0.0</td>\n",
       "      <td>0.0</td>\n",
       "      <td>0.0</td>\n",
       "      <td>0.0</td>\n",
       "      <td>0.0</td>\n",
       "      <td>19.0</td>\n",
       "      <td>5.0</td>\n",
       "      <td>1</td>\n",
       "      <td>1</td>\n",
       "      <td>Jan</td>\n",
       "      <td>4</td>\n",
       "      <td>Friday</td>\n",
       "      <td>1</td>\n",
       "      <td>0</td>\n",
       "      <td>0</td>\n",
       "      <td>0</td>\n",
       "      <td>1</td>\n",
       "      <td>0</td>\n",
       "      <td>0</td>\n",
       "      <td>0</td>\n",
       "      <td>0</td>\n",
       "      <td>0</td>\n",
       "      <td>0</td>\n",
       "      <td>0</td>\n",
       "      <td>0</td>\n",
       "      <td>0</td>\n",
       "      <td>0</td>\n",
       "      <td>1</td>\n",
       "      <td>0</td>\n",
       "      <td>0</td>\n",
       "      <td>0</td>\n",
       "      <td>0</td>\n",
       "      <td>0</td>\n",
       "      <td>0</td>\n",
       "      <td>0</td>\n",
       "      <td>1</td>\n",
       "      <td>0</td>\n",
       "      <td>0</td>\n",
       "      <td>0</td>\n",
       "      <td>0</td>\n",
       "      <td>0</td>\n",
       "      <td>0</td>\n",
       "    </tr>\n",
       "    <tr>\n",
       "      <th>3</th>\n",
       "      <td>2016-01-01</td>\n",
       "      <td>Delta Airlines</td>\n",
       "      <td>Salt Lake City International Airport</td>\n",
       "      <td>Hartsfield-Jackson Atlanta International Airport</td>\n",
       "      <td>4.0</td>\n",
       "      <td>12.0</td>\n",
       "      <td>8.0</td>\n",
       "      <td>-16.0</td>\n",
       "      <td>0.0</td>\n",
       "      <td>213.0</td>\n",
       "      <td>193.0</td>\n",
       "      <td>173.0</td>\n",
       "      <td>1590.0</td>\n",
       "      <td>0.0</td>\n",
       "      <td>0.0</td>\n",
       "      <td>0.0</td>\n",
       "      <td>0.0</td>\n",
       "      <td>0.0</td>\n",
       "      <td>12.0</td>\n",
       "      <td>8.0</td>\n",
       "      <td>1</td>\n",
       "      <td>1</td>\n",
       "      <td>Jan</td>\n",
       "      <td>4</td>\n",
       "      <td>Friday</td>\n",
       "      <td>1</td>\n",
       "      <td>0</td>\n",
       "      <td>0</td>\n",
       "      <td>0</td>\n",
       "      <td>1</td>\n",
       "      <td>0</td>\n",
       "      <td>0</td>\n",
       "      <td>0</td>\n",
       "      <td>0</td>\n",
       "      <td>0</td>\n",
       "      <td>0</td>\n",
       "      <td>0</td>\n",
       "      <td>0</td>\n",
       "      <td>0</td>\n",
       "      <td>0</td>\n",
       "      <td>1</td>\n",
       "      <td>0</td>\n",
       "      <td>0</td>\n",
       "      <td>0</td>\n",
       "      <td>0</td>\n",
       "      <td>0</td>\n",
       "      <td>0</td>\n",
       "      <td>0</td>\n",
       "      <td>1</td>\n",
       "      <td>0</td>\n",
       "      <td>0</td>\n",
       "      <td>0</td>\n",
       "      <td>0</td>\n",
       "      <td>0</td>\n",
       "      <td>0</td>\n",
       "    </tr>\n",
       "  </tbody>\n",
       "</table>\n",
       "</div>"
      ],
      "text/plain": [
       "     FL_DATE      OP_CARRIER                                ORIGIN  \\\n",
       "2 2016-01-01  Delta Airlines     Los Angeles International Airport   \n",
       "3 2016-01-01  Delta Airlines  Salt Lake City International Airport   \n",
       "\n",
       "                                               DEST  DEP_DELAY  TAXI_OUT  \\\n",
       "2  Hartsfield-Jackson Atlanta International Airport        1.0      19.0   \n",
       "3  Hartsfield-Jackson Atlanta International Airport        4.0      12.0   \n",
       "\n",
       "   TAXI_IN  ARR_DELAY  DIVERTED  CRS_ELAPSED_TIME  ACTUAL_ELAPSED_TIME  \\\n",
       "2      5.0      -13.0       0.0             245.0                231.0   \n",
       "3      8.0      -16.0       0.0             213.0                193.0   \n",
       "\n",
       "   AIR_TIME  DISTANCE  CARRIER_DELAY  WEATHER_DELAY  NAS_DELAY  \\\n",
       "2     207.0    1947.0            0.0            0.0        0.0   \n",
       "3     173.0    1590.0            0.0            0.0        0.0   \n",
       "\n",
       "   SECURITY_DELAY  LATE_AIRCRAFT_DELAY  WHEELS_OFF_elapse  WHEELS_ON_elapse  \\\n",
       "2             0.0                  0.0               19.0               5.0   \n",
       "3             0.0                  0.0               12.0               8.0   \n",
       "\n",
       "   DAY  MONTH MONTH_AB  DAYOFWEEK DAYNAME  WEEKDAY  FLIGHT_STATUS  \\\n",
       "2    1      1      Jan          4  Friday        1              0   \n",
       "3    1      1      Jan          4  Friday        1              0   \n",
       "\n",
       "   OP_CARRIER_Alaska Airlines  OP_CARRIER_American Airlines  \\\n",
       "2                           0                             0   \n",
       "3                           0                             0   \n",
       "\n",
       "   OP_CARRIER_Delta Airlines  OP_CARRIER_ExpressJet  \\\n",
       "2                          1                      0   \n",
       "3                          1                      0   \n",
       "\n",
       "   OP_CARRIER_Frontier Airlines  OP_CARRIER_SkyWest Airlines  \\\n",
       "2                             0                            0   \n",
       "3                             0                            0   \n",
       "\n",
       "   OP_CARRIER_Southwest Airlines  OP_CARRIER_Spirit Airlines  \\\n",
       "2                              0                           0   \n",
       "3                              0                           0   \n",
       "\n",
       "   OP_CARRIER_United Airlines  MONTH_Apr  MONTH_Aug  MONTH_Dec  MONTH_Feb  \\\n",
       "2                           0          0          0          0          0   \n",
       "3                           0          0          0          0          0   \n",
       "\n",
       "   MONTH_Jan  MONTH_Jul  MONTH_Jun  MONTH_Mar  MONTH_May  MONTH_Nov  \\\n",
       "2          1          0          0          0          0          0   \n",
       "3          1          0          0          0          0          0   \n",
       "\n",
       "   MONTH_Oct  MONTH_Sep  DAY_Friday  DAY_Monday  DAY_Saturday  DAY_Sunday  \\\n",
       "2          0          0           1           0             0           0   \n",
       "3          0          0           1           0             0           0   \n",
       "\n",
       "   DAY_Thursday  DAY_Tuesday  DAY_Wednesday  \n",
       "2             0            0              0  \n",
       "3             0            0              0  "
      ]
     },
     "execution_count": 58,
     "metadata": {},
     "output_type": "execute_result"
    }
   ],
   "source": [
    "flight_data_new.head(2)"
   ]
  },
  {
   "cell_type": "markdown",
   "id": "70504eb8",
   "metadata": {},
   "source": [
    "### Feature Selection"
   ]
  },
  {
   "cell_type": "markdown",
   "id": "295c965d",
   "metadata": {},
   "source": [
    "Drop redundant columns\n",
    "\n",
    "Drop constant columns\n",
    "\n",
    "Remove multicollinearity effect\n",
    "\n",
    "Importance by Random Forest"
   ]
  },
  {
   "cell_type": "markdown",
   "id": "2127a7e5",
   "metadata": {},
   "source": [
    "#### Drop redundant columns"
   ]
  },
  {
   "cell_type": "code",
   "execution_count": 59,
   "id": "74f4010a",
   "metadata": {},
   "outputs": [],
   "source": [
    "# Drop the redundant columns \n",
    "\n",
    "flight_data_new.drop(['FL_DATE', \n",
    "                      'OP_CARRIER',\n",
    "                      'ORIGIN',\n",
    "                      'DEST',\n",
    "                      'DAYOFWEEK',\n",
    "                      'MONTH',\n",
    "                      'MONTH_AB',\n",
    "                      'DAY',\n",
    "                      'DAYNAME',\n",
    "                      'WEEKDAY',\n",
    "                      'ARR_DELAY',\n",
    "                      'CARRIER_DELAY',\n",
    "                      'WEATHER_DELAY',\n",
    "                      'NAS_DELAY',\n",
    "                      'SECURITY_DELAY',\n",
    "                      'LATE_AIRCRAFT_DELAY'\n",
    "                 ],\n",
    "                 axis = 1, inplace = True)"
   ]
  },
  {
   "cell_type": "code",
   "execution_count": 60,
   "id": "5a045e63",
   "metadata": {},
   "outputs": [
    {
     "name": "stdout",
     "output_type": "stream",
     "text": [
      "<class 'pandas.core.frame.DataFrame'>\n",
      "Int64Index: 379991 entries, 2 to 5617492\n",
      "Data columns (total 39 columns):\n",
      " #   Column                         Non-Null Count   Dtype  \n",
      "---  ------                         --------------   -----  \n",
      " 0   DEP_DELAY                      379991 non-null  float64\n",
      " 1   TAXI_OUT                       379991 non-null  float64\n",
      " 2   TAXI_IN                        379991 non-null  float64\n",
      " 3   DIVERTED                       379991 non-null  float64\n",
      " 4   CRS_ELAPSED_TIME               379991 non-null  float64\n",
      " 5   ACTUAL_ELAPSED_TIME            379991 non-null  float64\n",
      " 6   AIR_TIME                       379991 non-null  float64\n",
      " 7   DISTANCE                       379991 non-null  float64\n",
      " 8   WHEELS_OFF_elapse              379991 non-null  float64\n",
      " 9   WHEELS_ON_elapse               379991 non-null  float64\n",
      " 10  FLIGHT_STATUS                  379991 non-null  int64  \n",
      " 11  OP_CARRIER_Alaska Airlines     379991 non-null  uint8  \n",
      " 12  OP_CARRIER_American Airlines   379991 non-null  uint8  \n",
      " 13  OP_CARRIER_Delta Airlines      379991 non-null  uint8  \n",
      " 14  OP_CARRIER_ExpressJet          379991 non-null  uint8  \n",
      " 15  OP_CARRIER_Frontier Airlines   379991 non-null  uint8  \n",
      " 16  OP_CARRIER_SkyWest Airlines    379991 non-null  uint8  \n",
      " 17  OP_CARRIER_Southwest Airlines  379991 non-null  uint8  \n",
      " 18  OP_CARRIER_Spirit Airlines     379991 non-null  uint8  \n",
      " 19  OP_CARRIER_United Airlines     379991 non-null  uint8  \n",
      " 20  MONTH_Apr                      379991 non-null  uint8  \n",
      " 21  MONTH_Aug                      379991 non-null  uint8  \n",
      " 22  MONTH_Dec                      379991 non-null  uint8  \n",
      " 23  MONTH_Feb                      379991 non-null  uint8  \n",
      " 24  MONTH_Jan                      379991 non-null  uint8  \n",
      " 25  MONTH_Jul                      379991 non-null  uint8  \n",
      " 26  MONTH_Jun                      379991 non-null  uint8  \n",
      " 27  MONTH_Mar                      379991 non-null  uint8  \n",
      " 28  MONTH_May                      379991 non-null  uint8  \n",
      " 29  MONTH_Nov                      379991 non-null  uint8  \n",
      " 30  MONTH_Oct                      379991 non-null  uint8  \n",
      " 31  MONTH_Sep                      379991 non-null  uint8  \n",
      " 32  DAY_Friday                     379991 non-null  uint8  \n",
      " 33  DAY_Monday                     379991 non-null  uint8  \n",
      " 34  DAY_Saturday                   379991 non-null  uint8  \n",
      " 35  DAY_Sunday                     379991 non-null  uint8  \n",
      " 36  DAY_Thursday                   379991 non-null  uint8  \n",
      " 37  DAY_Tuesday                    379991 non-null  uint8  \n",
      " 38  DAY_Wednesday                  379991 non-null  uint8  \n",
      "dtypes: float64(10), int64(1), uint8(28)\n",
      "memory usage: 44.9 MB\n"
     ]
    }
   ],
   "source": [
    "flight_data_new.info()"
   ]
  },
  {
   "cell_type": "markdown",
   "id": "c5373aad",
   "metadata": {},
   "source": [
    "#### Drop constant variable"
   ]
  },
  {
   "cell_type": "code",
   "execution_count": 61,
   "id": "48c24568",
   "metadata": {},
   "outputs": [],
   "source": [
    "from sklearn.model_selection import train_test_split\n",
    "from feature_engine.selection import DropConstantFeatures"
   ]
  },
  {
   "cell_type": "code",
   "execution_count": 62,
   "id": "2414aa73",
   "metadata": {},
   "outputs": [
    {
     "data": {
      "text/plain": [
       "((303992, 38), (75999, 38))"
      ]
     },
     "execution_count": 62,
     "metadata": {},
     "output_type": "execute_result"
    }
   ],
   "source": [
    "# separate train and test (again, as we transformed the previous ones)\n",
    "\n",
    "X_train, X_test, y_train, y_test = train_test_split(\n",
    "    flight_data_new.drop(labels=['FLIGHT_STATUS'], axis=1),\n",
    "    flight_data_new['FLIGHT_STATUS'],\n",
    "    test_size=0.2,\n",
    "    random_state=100)\n",
    "\n",
    "X_train.shape, X_test.shape"
   ]
  },
  {
   "cell_type": "code",
   "execution_count": 63,
   "id": "5d63ffd4",
   "metadata": {},
   "outputs": [
    {
     "data": {
      "text/plain": [
       "DropConstantFeatures()"
      ]
     },
     "execution_count": 63,
     "metadata": {},
     "output_type": "execute_result"
    }
   ],
   "source": [
    "sel = DropConstantFeatures(tol=1, variables=None, missing_values='raise')\n",
    "sel.fit(X_train)"
   ]
  },
  {
   "cell_type": "code",
   "execution_count": 64,
   "id": "68f794aa",
   "metadata": {},
   "outputs": [
    {
     "data": {
      "text/plain": [
       "1"
      ]
     },
     "execution_count": 64,
     "metadata": {},
     "output_type": "execute_result"
    }
   ],
   "source": [
    "# number of quasi-constant features\n",
    "\n",
    "len(sel.features_to_drop_)"
   ]
  },
  {
   "cell_type": "code",
   "execution_count": 65,
   "id": "91bedcb2",
   "metadata": {},
   "outputs": [
    {
     "data": {
      "text/plain": [
       "['DIVERTED']"
      ]
     },
     "execution_count": 65,
     "metadata": {},
     "output_type": "execute_result"
    }
   ],
   "source": [
    "sel.features_to_drop_"
   ]
  },
  {
   "cell_type": "markdown",
   "id": "5310ba9a",
   "metadata": {},
   "source": [
    "DIVERTED is a constant features with only one kind of response for all instances. This does not give any information to the model, hence we will drop it."
   ]
  },
  {
   "cell_type": "code",
   "execution_count": 66,
   "id": "b39a7264",
   "metadata": {},
   "outputs": [],
   "source": [
    "# Drop the redundant columns \n",
    "flight_data_new.drop(['DIVERTED'], axis = 1, inplace = True)"
   ]
  },
  {
   "cell_type": "code",
   "execution_count": 67,
   "id": "56eee14c",
   "metadata": {},
   "outputs": [
    {
     "data": {
      "text/plain": [
       "((303992, 37), (75999, 37))"
      ]
     },
     "execution_count": 67,
     "metadata": {},
     "output_type": "execute_result"
    }
   ],
   "source": [
    "#remove the constant features\n",
    "\n",
    "X_train = sel.transform(X_train)\n",
    "X_test = sel.transform(X_test)\n",
    "\n",
    "X_train.shape, X_test.shape"
   ]
  },
  {
   "cell_type": "markdown",
   "id": "85dfabef",
   "metadata": {},
   "source": [
    "### Remove multicollinearity effect (Positive)"
   ]
  },
  {
   "cell_type": "code",
   "execution_count": 68,
   "id": "b8995d38",
   "metadata": {},
   "outputs": [],
   "source": [
    "# build a dataframe with the correlation between features\n",
    "# remember that the absolute value of the correlation\n",
    "# coefficient is important and not the sign\n",
    "\n",
    "corrmat = X_train.corr()\n",
    "corrmat = corrmat.abs().unstack() # absolute value of corr coef\n",
    "corrmat = corrmat.sort_values(ascending=False)\n",
    "corrmat = corrmat[corrmat >= 0.8]\n",
    "corrmat = corrmat[corrmat < 1]\n",
    "corrmat = pd.DataFrame(corrmat).reset_index()\n",
    "corrmat.columns = ['feature1', 'feature2', 'corr']"
   ]
  },
  {
   "cell_type": "code",
   "execution_count": 69,
   "id": "69c90a1e",
   "metadata": {},
   "outputs": [
    {
     "data": {
      "text/html": [
       "<div>\n",
       "<style scoped>\n",
       "    .dataframe tbody tr th:only-of-type {\n",
       "        vertical-align: middle;\n",
       "    }\n",
       "\n",
       "    .dataframe tbody tr th {\n",
       "        vertical-align: top;\n",
       "    }\n",
       "\n",
       "    .dataframe thead th {\n",
       "        text-align: right;\n",
       "    }\n",
       "</style>\n",
       "<table border=\"1\" class=\"dataframe\">\n",
       "  <thead>\n",
       "    <tr style=\"text-align: right;\">\n",
       "      <th></th>\n",
       "      <th>feature1</th>\n",
       "      <th>feature2</th>\n",
       "      <th>corr</th>\n",
       "    </tr>\n",
       "  </thead>\n",
       "  <tbody>\n",
       "    <tr>\n",
       "      <th>0</th>\n",
       "      <td>TAXI_OUT</td>\n",
       "      <td>WHEELS_OFF_elapse</td>\n",
       "      <td>1.000000</td>\n",
       "    </tr>\n",
       "    <tr>\n",
       "      <th>1</th>\n",
       "      <td>WHEELS_OFF_elapse</td>\n",
       "      <td>TAXI_OUT</td>\n",
       "      <td>1.000000</td>\n",
       "    </tr>\n",
       "    <tr>\n",
       "      <th>2</th>\n",
       "      <td>AIR_TIME</td>\n",
       "      <td>DISTANCE</td>\n",
       "      <td>0.985814</td>\n",
       "    </tr>\n",
       "    <tr>\n",
       "      <th>3</th>\n",
       "      <td>DISTANCE</td>\n",
       "      <td>AIR_TIME</td>\n",
       "      <td>0.985814</td>\n",
       "    </tr>\n",
       "    <tr>\n",
       "      <th>4</th>\n",
       "      <td>AIR_TIME</td>\n",
       "      <td>CRS_ELAPSED_TIME</td>\n",
       "      <td>0.984633</td>\n",
       "    </tr>\n",
       "    <tr>\n",
       "      <th>5</th>\n",
       "      <td>CRS_ELAPSED_TIME</td>\n",
       "      <td>AIR_TIME</td>\n",
       "      <td>0.984633</td>\n",
       "    </tr>\n",
       "    <tr>\n",
       "      <th>6</th>\n",
       "      <td>ACTUAL_ELAPSED_TIME</td>\n",
       "      <td>AIR_TIME</td>\n",
       "      <td>0.982322</td>\n",
       "    </tr>\n",
       "    <tr>\n",
       "      <th>7</th>\n",
       "      <td>AIR_TIME</td>\n",
       "      <td>ACTUAL_ELAPSED_TIME</td>\n",
       "      <td>0.982322</td>\n",
       "    </tr>\n",
       "    <tr>\n",
       "      <th>8</th>\n",
       "      <td>DISTANCE</td>\n",
       "      <td>CRS_ELAPSED_TIME</td>\n",
       "      <td>0.981255</td>\n",
       "    </tr>\n",
       "    <tr>\n",
       "      <th>9</th>\n",
       "      <td>CRS_ELAPSED_TIME</td>\n",
       "      <td>DISTANCE</td>\n",
       "      <td>0.981255</td>\n",
       "    </tr>\n",
       "    <tr>\n",
       "      <th>10</th>\n",
       "      <td>ACTUAL_ELAPSED_TIME</td>\n",
       "      <td>CRS_ELAPSED_TIME</td>\n",
       "      <td>0.972757</td>\n",
       "    </tr>\n",
       "    <tr>\n",
       "      <th>11</th>\n",
       "      <td>CRS_ELAPSED_TIME</td>\n",
       "      <td>ACTUAL_ELAPSED_TIME</td>\n",
       "      <td>0.972757</td>\n",
       "    </tr>\n",
       "    <tr>\n",
       "      <th>12</th>\n",
       "      <td>ACTUAL_ELAPSED_TIME</td>\n",
       "      <td>DISTANCE</td>\n",
       "      <td>0.964693</td>\n",
       "    </tr>\n",
       "    <tr>\n",
       "      <th>13</th>\n",
       "      <td>DISTANCE</td>\n",
       "      <td>ACTUAL_ELAPSED_TIME</td>\n",
       "      <td>0.964693</td>\n",
       "    </tr>\n",
       "  </tbody>\n",
       "</table>\n",
       "</div>"
      ],
      "text/plain": [
       "               feature1             feature2      corr\n",
       "0              TAXI_OUT    WHEELS_OFF_elapse  1.000000\n",
       "1     WHEELS_OFF_elapse             TAXI_OUT  1.000000\n",
       "2              AIR_TIME             DISTANCE  0.985814\n",
       "3              DISTANCE             AIR_TIME  0.985814\n",
       "4              AIR_TIME     CRS_ELAPSED_TIME  0.984633\n",
       "5      CRS_ELAPSED_TIME             AIR_TIME  0.984633\n",
       "6   ACTUAL_ELAPSED_TIME             AIR_TIME  0.982322\n",
       "7              AIR_TIME  ACTUAL_ELAPSED_TIME  0.982322\n",
       "8              DISTANCE     CRS_ELAPSED_TIME  0.981255\n",
       "9      CRS_ELAPSED_TIME             DISTANCE  0.981255\n",
       "10  ACTUAL_ELAPSED_TIME     CRS_ELAPSED_TIME  0.972757\n",
       "11     CRS_ELAPSED_TIME  ACTUAL_ELAPSED_TIME  0.972757\n",
       "12  ACTUAL_ELAPSED_TIME             DISTANCE  0.964693\n",
       "13             DISTANCE  ACTUAL_ELAPSED_TIME  0.964693"
      ]
     },
     "execution_count": 69,
     "metadata": {},
     "output_type": "execute_result"
    }
   ],
   "source": [
    "corrmat"
   ]
  },
  {
   "cell_type": "code",
   "execution_count": 70,
   "id": "307e31b9",
   "metadata": {},
   "outputs": [
    {
     "data": {
      "text/plain": [
       "array(['TAXI_OUT', 'WHEELS_OFF_elapse', 'AIR_TIME', 'DISTANCE',\n",
       "       'CRS_ELAPSED_TIME', 'ACTUAL_ELAPSED_TIME'], dtype=object)"
      ]
     },
     "execution_count": 70,
     "metadata": {},
     "output_type": "execute_result"
    }
   ],
   "source": [
    "corrmat.feature1.unique()"
   ]
  },
  {
   "cell_type": "code",
   "execution_count": 71,
   "id": "ec0f4f46",
   "metadata": {},
   "outputs": [
    {
     "name": "stdout",
     "output_type": "stream",
     "text": [
      "found 2 correlated groups\n",
      "out of 37 total features\n"
     ]
    }
   ],
   "source": [
    "grouped_feature_ls = []\n",
    "correlated_groups = []\n",
    "\n",
    "for feature in corrmat.feature1.unique():\n",
    "    \n",
    "    if feature not in grouped_feature_ls:\n",
    "\n",
    "        # find all features correlated to a single feature\n",
    "        correlated_block = corrmat[corrmat.feature1 == feature]\n",
    "        grouped_feature_ls = grouped_feature_ls + list(\n",
    "            correlated_block.feature2.unique()) + [feature]\n",
    "\n",
    "        # append the block of features to the list\n",
    "        correlated_groups.append(correlated_block)\n",
    "\n",
    "print('found {} correlated groups'.format(len(correlated_groups)))\n",
    "print('out of {} total features'.format(X_train.shape[1]))"
   ]
  },
  {
   "cell_type": "markdown",
   "id": "40c81f13",
   "metadata": {},
   "source": [
    "    feature1     feature2       corr\n",
    "         \n",
    "0    CRS_ELAPSED_TIME        AIR_TIME       0.984633\n",
    "\n",
    "5    CRS_ELAPSED_TIME        DISTANCE       0.981255\n",
    "\n",
    "8    CRS_ELAPSED_TIME  ACTUAL_ELAPSED_TIME  0.972757"
   ]
  },
  {
   "cell_type": "code",
   "execution_count": 72,
   "id": "d7660f81",
   "metadata": {},
   "outputs": [
    {
     "data": {
      "text/html": [
       "<div>\n",
       "<style scoped>\n",
       "    .dataframe tbody tr th:only-of-type {\n",
       "        vertical-align: middle;\n",
       "    }\n",
       "\n",
       "    .dataframe tbody tr th {\n",
       "        vertical-align: top;\n",
       "    }\n",
       "\n",
       "    .dataframe thead th {\n",
       "        text-align: right;\n",
       "    }\n",
       "</style>\n",
       "<table border=\"1\" class=\"dataframe\">\n",
       "  <thead>\n",
       "    <tr style=\"text-align: right;\">\n",
       "      <th></th>\n",
       "      <th>feature1</th>\n",
       "      <th>feature2</th>\n",
       "      <th>corr</th>\n",
       "    </tr>\n",
       "  </thead>\n",
       "  <tbody>\n",
       "    <tr>\n",
       "      <th>0</th>\n",
       "      <td>TAXI_OUT</td>\n",
       "      <td>WHEELS_OFF_elapse</td>\n",
       "      <td>1.0</td>\n",
       "    </tr>\n",
       "  </tbody>\n",
       "</table>\n",
       "</div>"
      ],
      "text/plain": [
       "   feature1           feature2  corr\n",
       "0  TAXI_OUT  WHEELS_OFF_elapse   1.0"
      ]
     },
     "execution_count": 72,
     "metadata": {},
     "output_type": "execute_result"
    }
   ],
   "source": [
    "# we can now investigate further features within one group.\n",
    "# let's for example select group 1\n",
    "\n",
    "group = correlated_groups[0]\n",
    "group"
   ]
  },
  {
   "cell_type": "markdown",
   "id": "0fd4d738",
   "metadata": {},
   "source": [
    "In this group, several features are highly correlated. Which one should we keep and which ones should we remove? Alternatively, we could build a machine learning algorithm using all the features from the above list, and select the more predictive one."
   ]
  },
  {
   "cell_type": "code",
   "execution_count": 73,
   "id": "43eb29ac",
   "metadata": {},
   "outputs": [
    {
     "data": {
      "text/plain": [
       "RandomForestClassifier(max_depth=4, random_state=100)"
      ]
     },
     "execution_count": 73,
     "metadata": {},
     "output_type": "execute_result"
    }
   ],
   "source": [
    "from sklearn.ensemble import RandomForestClassifier\n",
    "\n",
    "# add all features of the group to a list\n",
    "features = list(group['feature2'].unique())+['CRS_ELAPSED_TIME']\n",
    "\n",
    "# train a random forest \n",
    "rf = RandomForestClassifier(n_estimators=100, random_state=100, max_depth=4)\n",
    "rf.fit(X_train[features].fillna(0), y_train)"
   ]
  },
  {
   "cell_type": "code",
   "execution_count": 74,
   "id": "cb872928",
   "metadata": {},
   "outputs": [
    {
     "data": {
      "text/html": [
       "<div>\n",
       "<style scoped>\n",
       "    .dataframe tbody tr th:only-of-type {\n",
       "        vertical-align: middle;\n",
       "    }\n",
       "\n",
       "    .dataframe tbody tr th {\n",
       "        vertical-align: top;\n",
       "    }\n",
       "\n",
       "    .dataframe thead th {\n",
       "        text-align: right;\n",
       "    }\n",
       "</style>\n",
       "<table border=\"1\" class=\"dataframe\">\n",
       "  <thead>\n",
       "    <tr style=\"text-align: right;\">\n",
       "      <th></th>\n",
       "      <th>feature</th>\n",
       "      <th>importance</th>\n",
       "    </tr>\n",
       "  </thead>\n",
       "  <tbody>\n",
       "    <tr>\n",
       "      <th>0</th>\n",
       "      <td>WHEELS_OFF_elapse</td>\n",
       "      <td>0.96844</td>\n",
       "    </tr>\n",
       "    <tr>\n",
       "      <th>1</th>\n",
       "      <td>CRS_ELAPSED_TIME</td>\n",
       "      <td>0.03156</td>\n",
       "    </tr>\n",
       "  </tbody>\n",
       "</table>\n",
       "</div>"
      ],
      "text/plain": [
       "             feature  importance\n",
       "0  WHEELS_OFF_elapse     0.96844\n",
       "1   CRS_ELAPSED_TIME     0.03156"
      ]
     },
     "execution_count": 74,
     "metadata": {},
     "output_type": "execute_result"
    }
   ],
   "source": [
    "# get the feature importance attributed by the \n",
    "# random forest model \n",
    "\n",
    "importance = pd.concat(\n",
    "    [pd.Series(features),\n",
    "     pd.Series(rf.feature_importances_)], axis=1)\n",
    "\n",
    "importance.columns = ['feature', 'importance']\n",
    "\n",
    "# sort features by importance, most important first\n",
    "importance.sort_values(by='importance', ascending=False)"
   ]
  },
  {
   "cell_type": "markdown",
   "id": "dd663fdf",
   "metadata": {},
   "source": [
    "WHEELS_OFF_elapse and CRS_ELAPSED_TIME, are correlated to each other as they are transformed from the same attributes. Thus, we keep WHEELS_OFF_elapse as it gives the greatest importance as compared to other attributes."
   ]
  },
  {
   "cell_type": "code",
   "execution_count": 75,
   "id": "51a657cc",
   "metadata": {},
   "outputs": [],
   "source": [
    "# X_train = X_train.drop(['CRS_ELAPSED_TIME','AIR_TIME'], axis = 1, inplace = True)\n",
    "# X_test = X_test.drop(['CRS_ELAPSED_TIME','AIR_TIME'], axis = 1, inplace = True)"
   ]
  },
  {
   "cell_type": "code",
   "execution_count": 76,
   "id": "895c6fad",
   "metadata": {},
   "outputs": [],
   "source": [
    "# Drop the redundant columns \n",
    "flight_data_new.drop(['CRS_ELAPSED_TIME','AIR_TIME'], axis = 1, inplace = True)"
   ]
  },
  {
   "cell_type": "markdown",
   "id": "8349a287",
   "metadata": {},
   "source": [
    "## Remove multicollinearity effect (Negative)"
   ]
  },
  {
   "cell_type": "code",
   "execution_count": 77,
   "id": "93fc9f3e",
   "metadata": {},
   "outputs": [],
   "source": [
    "# build a dataframe with the correlation between features\n",
    "# remember that the absolute value of the correlation\n",
    "# coefficient is important and not the sign\n",
    "\n",
    "corrmat = X_train.corr()\n",
    "corrmat = corrmat.abs().unstack() # absolute value of corr coef\n",
    "corrmat = corrmat.sort_values(ascending=False)\n",
    "corrmat = corrmat[corrmat <= -0.8]\n",
    "corrmat = corrmat[corrmat > -1]\n",
    "corrmat = pd.DataFrame(corrmat).reset_index()\n",
    "corrmat.columns = ['feature1', 'feature2', 'corr']"
   ]
  },
  {
   "cell_type": "code",
   "execution_count": 78,
   "id": "32f21470",
   "metadata": {},
   "outputs": [
    {
     "name": "stdout",
     "output_type": "stream",
     "text": [
      "found 0 correlated groups\n",
      "out of 37 total features\n"
     ]
    }
   ],
   "source": [
    "grouped_feature_ls = []\n",
    "correlated_groups = []\n",
    "\n",
    "for feature in corrmat.feature1.unique():\n",
    "    \n",
    "    if feature not in grouped_feature_ls:\n",
    "\n",
    "        # find all features correlated to a single feature\n",
    "        correlated_block = corrmat[corrmat.feature1 == feature]\n",
    "        grouped_feature_ls = grouped_feature_ls + list(\n",
    "            correlated_block.feature2.unique()) + [feature]\n",
    "\n",
    "        # append the block of features to the list\n",
    "        correlated_groups.append(correlated_block)\n",
    "\n",
    "print('found {} correlated groups'.format(len(correlated_groups)))\n",
    "print('out of {} total features'.format(X_train.shape[1]))"
   ]
  },
  {
   "cell_type": "markdown",
   "id": "42b7cd45",
   "metadata": {},
   "source": [
    "### Importance by Random Forest"
   ]
  },
  {
   "cell_type": "code",
   "execution_count": 79,
   "id": "6fa5a50a",
   "metadata": {},
   "outputs": [
    {
     "data": {
      "text/plain": [
       "((303992, 35), (75999, 35))"
      ]
     },
     "execution_count": 79,
     "metadata": {},
     "output_type": "execute_result"
    }
   ],
   "source": [
    "X_train, X_test, y_train, y_test = train_test_split(\n",
    "    flight_data_new.drop(labels=['FLIGHT_STATUS'], axis=1),\n",
    "    flight_data_new['FLIGHT_STATUS'],\n",
    "    test_size=0.2,\n",
    "    random_state=100)\n",
    "\n",
    "X_train.shape, X_test.shape"
   ]
  },
  {
   "cell_type": "code",
   "execution_count": 80,
   "id": "b28d43ee",
   "metadata": {},
   "outputs": [
    {
     "data": {
      "text/plain": [
       "array([6.74231673e-01, 1.31735218e-01, 2.33879182e-02, 1.32216490e-02,\n",
       "       8.45978090e-03, 9.33829824e-02, 2.25761528e-02, 4.51533261e-05,\n",
       "       1.34762314e-04, 1.43593370e-02, 1.59797898e-03, 5.11292104e-05,\n",
       "       7.24506688e-05, 2.64347903e-03, 1.06101632e-03, 3.60800557e-05,\n",
       "       2.34482235e-04, 1.62717537e-03, 2.93687156e-04, 1.78356673e-05,\n",
       "       2.34948999e-05, 4.74525130e-03, 5.45993870e-04, 1.01435334e-04,\n",
       "       5.26349483e-05, 1.01282513e-03, 3.17045943e-03, 3.06674555e-04,\n",
       "       8.54206630e-05, 7.99552515e-05, 1.21097870e-04, 9.37500425e-05,\n",
       "       1.27255086e-04, 2.33921948e-04, 1.29888005e-04])"
      ]
     },
     "execution_count": 80,
     "metadata": {},
     "output_type": "execute_result"
    }
   ],
   "source": [
    "rf = RandomForestClassifier(n_estimators=100, random_state=100, max_depth=5)\n",
    "rf.fit(X_train, y_train)\n",
    "rf.feature_importances_"
   ]
  },
  {
   "cell_type": "code",
   "execution_count": 81,
   "id": "96a38bde",
   "metadata": {},
   "outputs": [
    {
     "data": {
      "image/png": "[encoded data removed]",
      "text/plain": [
       "<Figure size 2000x500 with 1 Axes>"
      ]
     },
     "metadata": {},
     "output_type": "display_data"
    }
   ],
   "source": [
    "# Sorting in descending order and rearranging feature names to match sorted feature importance\n",
    "importance = rf.feature_importances_\n",
    "indices = np.argsort(importance)[::-1] \n",
    "names = [X_train.columns[i] for i in indices]\n",
    "\n",
    "# Bar chart creation\n",
    "sns.set_context(\"notebook\")\n",
    "plt.figure(figsize=(20, 5))\n",
    "plt.title(\"Feature Importance\")\n",
    "plt.bar(range(X_train.shape[1]), importance[indices])\n",
    "plt.xticks(range(X_train.shape[1]), names, rotation = 90)\n",
    "\n",
    "plt.show()"
   ]
  },
  {
   "cell_type": "code",
   "execution_count": 82,
   "id": "d658ec18",
   "metadata": {},
   "outputs": [
    {
     "data": {
      "text/html": [
       "<div>\n",
       "<style scoped>\n",
       "    .dataframe tbody tr th:only-of-type {\n",
       "        vertical-align: middle;\n",
       "    }\n",
       "\n",
       "    .dataframe tbody tr th {\n",
       "        vertical-align: top;\n",
       "    }\n",
       "\n",
       "    .dataframe thead th {\n",
       "        text-align: right;\n",
       "    }\n",
       "</style>\n",
       "<table border=\"1\" class=\"dataframe\">\n",
       "  <thead>\n",
       "    <tr style=\"text-align: right;\">\n",
       "      <th></th>\n",
       "      <th>0</th>\n",
       "      <th>0</th>\n",
       "    </tr>\n",
       "  </thead>\n",
       "  <tbody>\n",
       "    <tr>\n",
       "      <th>0</th>\n",
       "      <td>DEP_DELAY</td>\n",
       "      <td>0.674232</td>\n",
       "    </tr>\n",
       "    <tr>\n",
       "      <th>1</th>\n",
       "      <td>TAXI_OUT</td>\n",
       "      <td>0.131735</td>\n",
       "    </tr>\n",
       "    <tr>\n",
       "      <th>2</th>\n",
       "      <td>WHEELS_OFF_elapse</td>\n",
       "      <td>0.093383</td>\n",
       "    </tr>\n",
       "    <tr>\n",
       "      <th>3</th>\n",
       "      <td>TAXI_IN</td>\n",
       "      <td>0.023388</td>\n",
       "    </tr>\n",
       "    <tr>\n",
       "      <th>4</th>\n",
       "      <td>WHEELS_ON_elapse</td>\n",
       "      <td>0.022576</td>\n",
       "    </tr>\n",
       "    <tr>\n",
       "      <th>5</th>\n",
       "      <td>OP_CARRIER_Delta Airlines</td>\n",
       "      <td>0.014359</td>\n",
       "    </tr>\n",
       "    <tr>\n",
       "      <th>6</th>\n",
       "      <td>ACTUAL_ELAPSED_TIME</td>\n",
       "      <td>0.013222</td>\n",
       "    </tr>\n",
       "    <tr>\n",
       "      <th>7</th>\n",
       "      <td>DISTANCE</td>\n",
       "      <td>0.008460</td>\n",
       "    </tr>\n",
       "    <tr>\n",
       "      <th>8</th>\n",
       "      <td>MONTH_Jul</td>\n",
       "      <td>0.004745</td>\n",
       "    </tr>\n",
       "    <tr>\n",
       "      <th>9</th>\n",
       "      <td>MONTH_Oct</td>\n",
       "      <td>0.003170</td>\n",
       "    </tr>\n",
       "    <tr>\n",
       "      <th>10</th>\n",
       "      <td>OP_CARRIER_Southwest Airlines</td>\n",
       "      <td>0.002643</td>\n",
       "    </tr>\n",
       "    <tr>\n",
       "      <th>11</th>\n",
       "      <td>MONTH_Aug</td>\n",
       "      <td>0.001627</td>\n",
       "    </tr>\n",
       "    <tr>\n",
       "      <th>12</th>\n",
       "      <td>OP_CARRIER_ExpressJet</td>\n",
       "      <td>0.001598</td>\n",
       "    </tr>\n",
       "    <tr>\n",
       "      <th>13</th>\n",
       "      <td>OP_CARRIER_Spirit Airlines</td>\n",
       "      <td>0.001061</td>\n",
       "    </tr>\n",
       "    <tr>\n",
       "      <th>14</th>\n",
       "      <td>MONTH_Nov</td>\n",
       "      <td>0.001013</td>\n",
       "    </tr>\n",
       "    <tr>\n",
       "      <th>15</th>\n",
       "      <td>MONTH_Jun</td>\n",
       "      <td>0.000546</td>\n",
       "    </tr>\n",
       "    <tr>\n",
       "      <th>16</th>\n",
       "      <td>MONTH_Sep</td>\n",
       "      <td>0.000307</td>\n",
       "    </tr>\n",
       "    <tr>\n",
       "      <th>17</th>\n",
       "      <td>MONTH_Dec</td>\n",
       "      <td>0.000294</td>\n",
       "    </tr>\n",
       "    <tr>\n",
       "      <th>18</th>\n",
       "      <td>MONTH_Apr</td>\n",
       "      <td>0.000234</td>\n",
       "    </tr>\n",
       "    <tr>\n",
       "      <th>19</th>\n",
       "      <td>DAY_Tuesday</td>\n",
       "      <td>0.000234</td>\n",
       "    </tr>\n",
       "    <tr>\n",
       "      <th>20</th>\n",
       "      <td>OP_CARRIER_American Airlines</td>\n",
       "      <td>0.000135</td>\n",
       "    </tr>\n",
       "    <tr>\n",
       "      <th>21</th>\n",
       "      <td>DAY_Wednesday</td>\n",
       "      <td>0.000130</td>\n",
       "    </tr>\n",
       "    <tr>\n",
       "      <th>22</th>\n",
       "      <td>DAY_Thursday</td>\n",
       "      <td>0.000127</td>\n",
       "    </tr>\n",
       "    <tr>\n",
       "      <th>23</th>\n",
       "      <td>DAY_Saturday</td>\n",
       "      <td>0.000121</td>\n",
       "    </tr>\n",
       "    <tr>\n",
       "      <th>24</th>\n",
       "      <td>MONTH_Mar</td>\n",
       "      <td>0.000101</td>\n",
       "    </tr>\n",
       "    <tr>\n",
       "      <th>25</th>\n",
       "      <td>DAY_Sunday</td>\n",
       "      <td>0.000094</td>\n",
       "    </tr>\n",
       "    <tr>\n",
       "      <th>26</th>\n",
       "      <td>DAY_Friday</td>\n",
       "      <td>0.000085</td>\n",
       "    </tr>\n",
       "    <tr>\n",
       "      <th>27</th>\n",
       "      <td>DAY_Monday</td>\n",
       "      <td>0.000080</td>\n",
       "    </tr>\n",
       "    <tr>\n",
       "      <th>28</th>\n",
       "      <td>OP_CARRIER_SkyWest Airlines</td>\n",
       "      <td>0.000072</td>\n",
       "    </tr>\n",
       "    <tr>\n",
       "      <th>29</th>\n",
       "      <td>MONTH_May</td>\n",
       "      <td>0.000053</td>\n",
       "    </tr>\n",
       "    <tr>\n",
       "      <th>30</th>\n",
       "      <td>OP_CARRIER_Frontier Airlines</td>\n",
       "      <td>0.000051</td>\n",
       "    </tr>\n",
       "    <tr>\n",
       "      <th>31</th>\n",
       "      <td>OP_CARRIER_Alaska Airlines</td>\n",
       "      <td>0.000045</td>\n",
       "    </tr>\n",
       "    <tr>\n",
       "      <th>32</th>\n",
       "      <td>OP_CARRIER_United Airlines</td>\n",
       "      <td>0.000036</td>\n",
       "    </tr>\n",
       "    <tr>\n",
       "      <th>33</th>\n",
       "      <td>MONTH_Jan</td>\n",
       "      <td>0.000023</td>\n",
       "    </tr>\n",
       "    <tr>\n",
       "      <th>34</th>\n",
       "      <td>MONTH_Feb</td>\n",
       "      <td>0.000018</td>\n",
       "    </tr>\n",
       "  </tbody>\n",
       "</table>\n",
       "</div>"
      ],
      "text/plain": [
       "                                0         0\n",
       "0                       DEP_DELAY  0.674232\n",
       "1                        TAXI_OUT  0.131735\n",
       "2               WHEELS_OFF_elapse  0.093383\n",
       "3                         TAXI_IN  0.023388\n",
       "4                WHEELS_ON_elapse  0.022576\n",
       "5       OP_CARRIER_Delta Airlines  0.014359\n",
       "6             ACTUAL_ELAPSED_TIME  0.013222\n",
       "7                        DISTANCE  0.008460\n",
       "8                       MONTH_Jul  0.004745\n",
       "9                       MONTH_Oct  0.003170\n",
       "10  OP_CARRIER_Southwest Airlines  0.002643\n",
       "11                      MONTH_Aug  0.001627\n",
       "12          OP_CARRIER_ExpressJet  0.001598\n",
       "13     OP_CARRIER_Spirit Airlines  0.001061\n",
       "14                      MONTH_Nov  0.001013\n",
       "15                      MONTH_Jun  0.000546\n",
       "16                      MONTH_Sep  0.000307\n",
       "17                      MONTH_Dec  0.000294\n",
       "18                      MONTH_Apr  0.000234\n",
       "19                    DAY_Tuesday  0.000234\n",
       "20   OP_CARRIER_American Airlines  0.000135\n",
       "21                  DAY_Wednesday  0.000130\n",
       "22                   DAY_Thursday  0.000127\n",
       "23                   DAY_Saturday  0.000121\n",
       "24                      MONTH_Mar  0.000101\n",
       "25                     DAY_Sunday  0.000094\n",
       "26                     DAY_Friday  0.000085\n",
       "27                     DAY_Monday  0.000080\n",
       "28    OP_CARRIER_SkyWest Airlines  0.000072\n",
       "29                      MONTH_May  0.000053\n",
       "30   OP_CARRIER_Frontier Airlines  0.000051\n",
       "31     OP_CARRIER_Alaska Airlines  0.000045\n",
       "32     OP_CARRIER_United Airlines  0.000036\n",
       "33                      MONTH_Jan  0.000023\n",
       "34                      MONTH_Feb  0.000018"
      ]
     },
     "execution_count": 82,
     "metadata": {},
     "output_type": "execute_result"
    }
   ],
   "source": [
    "features=pd.DataFrame(names)\n",
    "scale = pd.DataFrame(importance[indices])\n",
    "keep_features = pd.concat([features, scale],axis=1)\n",
    "keep_features"
   ]
  },
  {
   "cell_type": "markdown",
   "id": "540054ef",
   "metadata": {},
   "source": [
    "## Classification Modeling"
   ]
  },
  {
   "cell_type": "code",
   "execution_count": 83,
   "id": "e5850ccb",
   "metadata": {},
   "outputs": [],
   "source": [
    "from sklearn.metrics import (\n",
    "    precision_score,\n",
    "    recall_score,\n",
    "    f1_score,\n",
    "    roc_auc_score, \n",
    "    accuracy_score, \n",
    "    confusion_matrix, \n",
    "    classification_report, \n",
    "    plot_confusion_matrix,\n",
    "    plot_precision_recall_curve\n",
    ")"
   ]
  },
  {
   "cell_type": "markdown",
   "id": "af732528",
   "metadata": {},
   "source": [
    "#### Base Classifiers"
   ]
  },
  {
   "cell_type": "markdown",
   "id": "64899d40",
   "metadata": {},
   "source": [
    "Random Forest\n",
    "\n",
    "Logistic Regression\n",
    "\n",
    "Decision Tree"
   ]
  },
  {
   "cell_type": "code",
   "execution_count": 84,
   "id": "1d8fe148",
   "metadata": {},
   "outputs": [
    {
     "name": "stdout",
     "output_type": "stream",
     "text": [
      "<class 'pandas.core.frame.DataFrame'>\n",
      "Int64Index: 379991 entries, 2 to 5617492\n",
      "Data columns (total 36 columns):\n",
      " #   Column                         Non-Null Count   Dtype  \n",
      "---  ------                         --------------   -----  \n",
      " 0   DEP_DELAY                      379991 non-null  float64\n",
      " 1   TAXI_OUT                       379991 non-null  float64\n",
      " 2   TAXI_IN                        379991 non-null  float64\n",
      " 3   ACTUAL_ELAPSED_TIME            379991 non-null  float64\n",
      " 4   DISTANCE                       379991 non-null  float64\n",
      " 5   WHEELS_OFF_elapse              379991 non-null  float64\n",
      " 6   WHEELS_ON_elapse               379991 non-null  float64\n",
      " 7   FLIGHT_STATUS                  379991 non-null  int64  \n",
      " 8   OP_CARRIER_Alaska Airlines     379991 non-null  uint8  \n",
      " 9   OP_CARRIER_American Airlines   379991 non-null  uint8  \n",
      " 10  OP_CARRIER_Delta Airlines      379991 non-null  uint8  \n",
      " 11  OP_CARRIER_ExpressJet          379991 non-null  uint8  \n",
      " 12  OP_CARRIER_Frontier Airlines   379991 non-null  uint8  \n",
      " 13  OP_CARRIER_SkyWest Airlines    379991 non-null  uint8  \n",
      " 14  OP_CARRIER_Southwest Airlines  379991 non-null  uint8  \n",
      " 15  OP_CARRIER_Spirit Airlines     379991 non-null  uint8  \n",
      " 16  OP_CARRIER_United Airlines     379991 non-null  uint8  \n",
      " 17  MONTH_Apr                      379991 non-null  uint8  \n",
      " 18  MONTH_Aug                      379991 non-null  uint8  \n",
      " 19  MONTH_Dec                      379991 non-null  uint8  \n",
      " 20  MONTH_Feb                      379991 non-null  uint8  \n",
      " 21  MONTH_Jan                      379991 non-null  uint8  \n",
      " 22  MONTH_Jul                      379991 non-null  uint8  \n",
      " 23  MONTH_Jun                      379991 non-null  uint8  \n",
      " 24  MONTH_Mar                      379991 non-null  uint8  \n",
      " 25  MONTH_May                      379991 non-null  uint8  \n",
      " 26  MONTH_Nov                      379991 non-null  uint8  \n",
      " 27  MONTH_Oct                      379991 non-null  uint8  \n",
      " 28  MONTH_Sep                      379991 non-null  uint8  \n",
      " 29  DAY_Friday                     379991 non-null  uint8  \n",
      " 30  DAY_Monday                     379991 non-null  uint8  \n",
      " 31  DAY_Saturday                   379991 non-null  uint8  \n",
      " 32  DAY_Sunday                     379991 non-null  uint8  \n",
      " 33  DAY_Thursday                   379991 non-null  uint8  \n",
      " 34  DAY_Tuesday                    379991 non-null  uint8  \n",
      " 35  DAY_Wednesday                  379991 non-null  uint8  \n",
      "dtypes: float64(7), int64(1), uint8(28)\n",
      "memory usage: 36.2 MB\n"
     ]
    }
   ],
   "source": [
    "flight_data_new.info()"
   ]
  },
  {
   "cell_type": "code",
   "execution_count": 85,
   "id": "b31ee380",
   "metadata": {},
   "outputs": [],
   "source": [
    "flight_data_new[\"FLIGHT_STATUS\"] = flight_data_new[\"FLIGHT_STATUS\"].astype('category')"
   ]
  },
  {
   "cell_type": "code",
   "execution_count": 86,
   "id": "78b183bd",
   "metadata": {},
   "outputs": [
    {
     "name": "stdout",
     "output_type": "stream",
     "text": [
      "<class 'pandas.core.frame.DataFrame'>\n",
      "Int64Index: 379991 entries, 2 to 5617492\n",
      "Data columns (total 36 columns):\n",
      " #   Column                         Non-Null Count   Dtype   \n",
      "---  ------                         --------------   -----   \n",
      " 0   DEP_DELAY                      379991 non-null  float64 \n",
      " 1   TAXI_OUT                       379991 non-null  float64 \n",
      " 2   TAXI_IN                        379991 non-null  float64 \n",
      " 3   ACTUAL_ELAPSED_TIME            379991 non-null  float64 \n",
      " 4   DISTANCE                       379991 non-null  float64 \n",
      " 5   WHEELS_OFF_elapse              379991 non-null  float64 \n",
      " 6   WHEELS_ON_elapse               379991 non-null  float64 \n",
      " 7   FLIGHT_STATUS                  379991 non-null  category\n",
      " 8   OP_CARRIER_Alaska Airlines     379991 non-null  uint8   \n",
      " 9   OP_CARRIER_American Airlines   379991 non-null  uint8   \n",
      " 10  OP_CARRIER_Delta Airlines      379991 non-null  uint8   \n",
      " 11  OP_CARRIER_ExpressJet          379991 non-null  uint8   \n",
      " 12  OP_CARRIER_Frontier Airlines   379991 non-null  uint8   \n",
      " 13  OP_CARRIER_SkyWest Airlines    379991 non-null  uint8   \n",
      " 14  OP_CARRIER_Southwest Airlines  379991 non-null  uint8   \n",
      " 15  OP_CARRIER_Spirit Airlines     379991 non-null  uint8   \n",
      " 16  OP_CARRIER_United Airlines     379991 non-null  uint8   \n",
      " 17  MONTH_Apr                      379991 non-null  uint8   \n",
      " 18  MONTH_Aug                      379991 non-null  uint8   \n",
      " 19  MONTH_Dec                      379991 non-null  uint8   \n",
      " 20  MONTH_Feb                      379991 non-null  uint8   \n",
      " 21  MONTH_Jan                      379991 non-null  uint8   \n",
      " 22  MONTH_Jul                      379991 non-null  uint8   \n",
      " 23  MONTH_Jun                      379991 non-null  uint8   \n",
      " 24  MONTH_Mar                      379991 non-null  uint8   \n",
      " 25  MONTH_May                      379991 non-null  uint8   \n",
      " 26  MONTH_Nov                      379991 non-null  uint8   \n",
      " 27  MONTH_Oct                      379991 non-null  uint8   \n",
      " 28  MONTH_Sep                      379991 non-null  uint8   \n",
      " 29  DAY_Friday                     379991 non-null  uint8   \n",
      " 30  DAY_Monday                     379991 non-null  uint8   \n",
      " 31  DAY_Saturday                   379991 non-null  uint8   \n",
      " 32  DAY_Sunday                     379991 non-null  uint8   \n",
      " 33  DAY_Thursday                   379991 non-null  uint8   \n",
      " 34  DAY_Tuesday                    379991 non-null  uint8   \n",
      " 35  DAY_Wednesday                  379991 non-null  uint8   \n",
      "dtypes: category(1), float64(7), uint8(28)\n",
      "memory usage: 33.7 MB\n"
     ]
    }
   ],
   "source": [
    "flight_data_new.info()"
   ]
  },
  {
   "cell_type": "code",
   "execution_count": 87,
   "id": "4f2c38e0",
   "metadata": {},
   "outputs": [],
   "source": [
    "flight_data_new.to_csv('flight_data_new.csv',index=False)"
   ]
  },
  {
   "cell_type": "code",
   "execution_count": 88,
   "id": "f4d437e3",
   "metadata": {},
   "outputs": [
    {
     "data": {
      "text/plain": [
       "((303992, 35), (75999, 35))"
      ]
     },
     "execution_count": 88,
     "metadata": {},
     "output_type": "execute_result"
    }
   ],
   "source": [
    "X_train, X_test, y_train, y_test = train_test_split(\n",
    "    flight_data_new.drop(labels=['FLIGHT_STATUS'], axis=1),\n",
    "    flight_data_new['FLIGHT_STATUS'],\n",
    "    test_size=0.2,\n",
    "    random_state=100)\n",
    "\n",
    "X_train.shape, X_test.shape"
   ]
  },
  {
   "cell_type": "markdown",
   "id": "a7c53bb4",
   "metadata": {},
   "source": [
    "#### Random Forest"
   ]
  },
  {
   "cell_type": "code",
   "execution_count": 89,
   "id": "377665bc",
   "metadata": {},
   "outputs": [],
   "source": [
    "def run_randomForests(X_train, X_test, y_train, y_test):\n",
    "    rf = RandomForestClassifier(n_estimators=100, random_state=100, max_depth=4)\n",
    "    rf.fit(X_train, y_train)\n",
    "\n",
    "    print('Test set')\n",
    "    pred = rf.predict_proba(X_test)\n",
    "    print('Roc-auc Random Forests roc-auc: {}'.format(roc_auc_score(y_test, pred[:,1])))\n",
    "    print()\n",
    "    print('Accuracy Random Forest test:', accuracy_score(y_test, rf.predict(X_test)))\n",
    "    print()\n",
    "    print('Precision Random Forest test:', precision_score(y_test, rf.predict(X_test),pos_label=1))\n",
    "    print()\n",
    "    print('Recall Random Forest test:', recall_score(y_test, rf.predict(X_test),pos_label=1))\n",
    "    print()\n",
    "    print('F-measure Random Forest test:', f1_score(y_test, rf.predict(X_test),pos_label=1))\n",
    "    print()\n",
    "    print('Summary Report:')\n",
    "    print(classification_report(y_test, rf.predict(X_test)))"
   ]
  },
  {
   "cell_type": "code",
   "execution_count": 90,
   "id": "570652d1",
   "metadata": {},
   "outputs": [
    {
     "name": "stdout",
     "output_type": "stream",
     "text": [
      "Test set\n",
      "Roc-auc Random Forests roc-auc: 0.9785247059803732\n",
      "\n",
      "Accuracy Random Forest test: 0.9175383886630087\n",
      "\n",
      "Precision Random Forest test: 0.9892703862660944\n",
      "\n",
      "Recall Random Forest test: 0.3411565704619939\n",
      "\n",
      "F-measure Random Forest test: 0.5073500510966119\n",
      "\n",
      "Summary Report:\n",
      "              precision    recall  f1-score   support\n",
      "\n",
      "           0       0.91      1.00      0.96     66540\n",
      "           1       0.99      0.34      0.51      9459\n",
      "\n",
      "    accuracy                           0.92     75999\n",
      "   macro avg       0.95      0.67      0.73     75999\n",
      "weighted avg       0.92      0.92      0.90     75999\n",
      "\n"
     ]
    }
   ],
   "source": [
    "run_randomForests(X_train, X_test, y_train, y_test)"
   ]
  },
  {
   "cell_type": "markdown",
   "id": "8242d562",
   "metadata": {},
   "source": [
    "#### Logistic Regression"
   ]
  },
  {
   "cell_type": "code",
   "execution_count": 91,
   "id": "ba8ec164",
   "metadata": {},
   "outputs": [],
   "source": [
    "from sklearn.linear_model import LogisticRegression"
   ]
  },
  {
   "cell_type": "code",
   "execution_count": 92,
   "id": "91bccead",
   "metadata": {},
   "outputs": [],
   "source": [
    "def run_logisticReg(X_train, X_test, y_train, y_test):\n",
    "    lr = LogisticRegression(random_state=100)\n",
    "    lr.fit(X_train, y_train)\n",
    "\n",
    "    print('Test set')\n",
    "    pred = lr.predict_proba(X_test)\n",
    "    print('Roc-auc Logistic Regression roc-auc: {}'.format(roc_auc_score(y_test, pred[:,1])))\n",
    "    print()\n",
    "    print('Accuracy Logistic Regression:', accuracy_score(y_test, lr.predict(X_test)))\n",
    "    print()\n",
    "    print('Precision Logistic Regression:', precision_score(y_test, lr.predict(X_test),pos_label=1))\n",
    "    print()\n",
    "    print('Recall Logistic Regression:', recall_score(y_test, lr.predict(X_test),pos_label=1))\n",
    "    print()\n",
    "    print('F-measure Logistic Regression:', f1_score(y_test, lr.predict(X_test),pos_label=1))\n",
    "    print()\n",
    "    print('Summary Report:')\n",
    "    print(classification_report(y_test, lr.predict(X_test)))"
   ]
  },
  {
   "cell_type": "code",
   "execution_count": 93,
   "id": "88767a64",
   "metadata": {},
   "outputs": [
    {
     "name": "stdout",
     "output_type": "stream",
     "text": [
      "Test set\n",
      "Roc-auc Logistic Regression roc-auc: 0.9909474290400094\n",
      "\n",
      "Accuracy Logistic Regression: 0.967696943380834\n",
      "\n",
      "Precision Logistic Regression: 0.905230270770655\n",
      "\n",
      "Recall Logistic Regression: 0.8270430278042077\n",
      "\n",
      "F-measure Logistic Regression: 0.8643721341362356\n",
      "\n",
      "Summary Report:\n",
      "              precision    recall  f1-score   support\n",
      "\n",
      "           0       0.98      0.99      0.98     66540\n",
      "           1       0.91      0.83      0.86      9459\n",
      "\n",
      "    accuracy                           0.97     75999\n",
      "   macro avg       0.94      0.91      0.92     75999\n",
      "weighted avg       0.97      0.97      0.97     75999\n",
      "\n"
     ]
    }
   ],
   "source": [
    "run_logisticReg(X_train, X_test, y_train, y_test)"
   ]
  },
  {
   "cell_type": "markdown",
   "id": "9c14eb42",
   "metadata": {},
   "source": [
    "#### Decision Tree"
   ]
  },
  {
   "cell_type": "code",
   "execution_count": 94,
   "id": "63be4cc8",
   "metadata": {},
   "outputs": [],
   "source": [
    "from sklearn.tree import DecisionTreeClassifier"
   ]
  },
  {
   "cell_type": "code",
   "execution_count": 95,
   "id": "6dc14037",
   "metadata": {},
   "outputs": [],
   "source": [
    "def run_DT(X_train, X_test, y_train, y_test):\n",
    "    DT = DecisionTreeClassifier(random_state=100)\n",
    "    DT = DT.fit(X_train,y_train)\n",
    "\n",
    "    print('Test set')\n",
    "    pred = DT.predict_proba(X_test)\n",
    "    print('Roc-auc Decision Tree roc-auc: {}'.format(roc_auc_score(y_test, pred[:,1])))\n",
    "    print()\n",
    "    print('Accuracy Decision Tree:', accuracy_score(y_test, DT.predict(X_test)))\n",
    "    print()\n",
    "    print('Precision Decision Tree:', precision_score(y_test, DT.predict(X_test),pos_label=1))\n",
    "    print()\n",
    "    print('Recall Decision Tree:', recall_score(y_test, DT.predict(X_test),pos_label=1))\n",
    "    print()\n",
    "    print('F-measure Decision Tree:', f1_score(y_test, DT.predict(X_test),pos_label=1))\n",
    "    print()\n",
    "    print('Summary Report:')\n",
    "    print(classification_report(y_test, DT.predict(X_test)))"
   ]
  },
  {
   "cell_type": "code",
   "execution_count": 96,
   "id": "35547adb",
   "metadata": {},
   "outputs": [
    {
     "name": "stdout",
     "output_type": "stream",
     "text": [
      "Test set\n",
      "Roc-auc Decision Tree roc-auc: 0.916824590413508\n",
      "\n",
      "Accuracy Decision Tree: 0.9645653232279372\n",
      "\n",
      "Precision Decision Tree: 0.8608148464163823\n",
      "\n",
      "Recall Decision Tree: 0.8532614441272862\n",
      "\n",
      "F-measure Decision Tree: 0.8570215025219007\n",
      "\n",
      "Summary Report:\n",
      "              precision    recall  f1-score   support\n",
      "\n",
      "           0       0.98      0.98      0.98     66540\n",
      "           1       0.86      0.85      0.86      9459\n",
      "\n",
      "    accuracy                           0.96     75999\n",
      "   macro avg       0.92      0.92      0.92     75999\n",
      "weighted avg       0.96      0.96      0.96     75999\n",
      "\n"
     ]
    }
   ],
   "source": [
    "run_DT(X_train, X_test, y_train, y_test)"
   ]
  },
  {
   "cell_type": "code",
   "execution_count": null,
   "id": "f25306cc",
   "metadata": {},
   "outputs": [],
   "source": []
  }
 ],
 "metadata": {
  "kernelspec": {
   "display_name": "Python 3 (ipykernel)",
   "language": "python",
   "name": "python3"
  },
  "language_info": {
   "codemirror_mode": {
    "name": "ipython",
    "version": 3
   },
   "file_extension": ".py",
   "mimetype": "text/x-python",
   "name": "python",
   "nbconvert_exporter": "python",
   "pygments_lexer": "ipython3",
   "version": "3.9.18"
  }
 },
 "nbformat": 4,
 "nbformat_minor": 5
}
